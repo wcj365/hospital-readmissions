{
 "cells": [
  {
   "cell_type": "code",
<<<<<<< HEAD
   "execution_count": null,
=======
   "execution_count": 4,
>>>>>>> 80e3dde8f303f5933c136400d100a54031f18ca2
   "metadata": {},
   "outputs": [],
   "source": [
    "import numpy as np\n",
    "import pandas as pd\n",
    "import matplotlib.pyplot as plt\n",
    "import seaborn as sns"
   ]
  },
  {
   "cell_type": "code",
<<<<<<< HEAD
   "execution_count": 3,
=======
   "execution_count": 5,
>>>>>>> 80e3dde8f303f5933c136400d100a54031f18ca2
   "metadata": {},
   "outputs": [
    {
     "data": {
      "text/plain": [
       "(51, 2)"
      ]
     },
<<<<<<< HEAD
     "execution_count": 3,
=======
     "execution_count": 5,
>>>>>>> 80e3dde8f303f5933c136400d100a54031f18ca2
     "metadata": {},
     "output_type": "execute_result"
    }
   ],
   "source": [
    "hosp = pd.read_csv(\"../data/output/AverageReadmissionRatioByState.csv\")\n",
    "hosp.shape"
   ]
  },
  {
   "cell_type": "code",
<<<<<<< HEAD
   "execution_count": 4,
=======
   "execution_count": 6,
>>>>>>> 80e3dde8f303f5933c136400d100a54031f18ca2
   "metadata": {},
   "outputs": [
    {
     "data": {
      "text/html": [
       "<div>\n",
       "<style scoped>\n",
       "    .dataframe tbody tr th:only-of-type {\n",
       "        vertical-align: middle;\n",
       "    }\n",
       "\n",
       "    .dataframe tbody tr th {\n",
       "        vertical-align: top;\n",
       "    }\n",
       "\n",
       "    .dataframe thead th {\n",
       "        text-align: right;\n",
       "    }\n",
       "</style>\n",
       "<table border=\"1\" class=\"dataframe\">\n",
       "  <thead>\n",
       "    <tr style=\"text-align: right;\">\n",
       "      <th></th>\n",
       "      <th>State</th>\n",
       "      <th>Excess Readmission Ratio</th>\n",
       "    </tr>\n",
       "  </thead>\n",
       "  <tbody>\n",
       "    <tr>\n",
       "      <th>46</th>\n",
       "      <td>VT</td>\n",
       "      <td>0.957130</td>\n",
       "    </tr>\n",
       "    <tr>\n",
       "      <th>47</th>\n",
       "      <td>WA</td>\n",
       "      <td>0.969821</td>\n",
       "    </tr>\n",
       "    <tr>\n",
       "      <th>48</th>\n",
       "      <td>WI</td>\n",
       "      <td>0.968758</td>\n",
       "    </tr>\n",
       "    <tr>\n",
       "      <th>49</th>\n",
       "      <td>WV</td>\n",
       "      <td>1.018036</td>\n",
       "    </tr>\n",
       "    <tr>\n",
       "      <th>50</th>\n",
       "      <td>WY</td>\n",
       "      <td>0.993947</td>\n",
       "    </tr>\n",
       "  </tbody>\n",
       "</table>\n",
       "</div>"
      ],
      "text/plain": [
       "   State  Excess Readmission Ratio\n",
       "46    VT                  0.957130\n",
       "47    WA                  0.969821\n",
       "48    WI                  0.968758\n",
       "49    WV                  1.018036\n",
       "50    WY                  0.993947"
      ]
     },
<<<<<<< HEAD
     "execution_count": 4,
=======
     "execution_count": 6,
>>>>>>> 80e3dde8f303f5933c136400d100a54031f18ca2
     "metadata": {},
     "output_type": "execute_result"
    }
   ],
   "source": [
    "hosp.tail()"
   ]
  },
  {
   "cell_type": "code",
<<<<<<< HEAD
   "execution_count": 5,
=======
   "execution_count": 7,
>>>>>>> 80e3dde8f303f5933c136400d100a54031f18ca2
   "metadata": {},
   "outputs": [
    {
     "data": {
      "text/plain": [
       "(6574, 59)"
      ]
     },
<<<<<<< HEAD
     "execution_count": 5,
=======
     "execution_count": 7,
>>>>>>> 80e3dde8f303f5933c136400d100a54031f18ca2
     "metadata": {},
     "output_type": "execute_result"
    }
   ],
   "source": [
    "esrd = pd.read_csv(\"../data/input/DialysisCareQualityData.csv\")\n",
    "esrd.shape"
   ]
  },
  {
   "cell_type": "code",
<<<<<<< HEAD
   "execution_count": 29,
=======
   "execution_count": 8,
>>>>>>> 80e3dde8f303f5933c136400d100a54031f18ca2
   "metadata": {},
   "outputs": [
    {
     "data": {
      "text/html": [
       "<div>\n",
       "<style scoped>\n",
       "    .dataframe tbody tr th:only-of-type {\n",
       "        vertical-align: middle;\n",
       "    }\n",
       "\n",
       "    .dataframe tbody tr th {\n",
       "        vertical-align: top;\n",
       "    }\n",
       "\n",
       "    .dataframe thead th {\n",
       "        text-align: right;\n",
       "    }\n",
       "</style>\n",
       "<table border=\"1\" class=\"dataframe\">\n",
       "  <thead>\n",
       "    <tr style=\"text-align: right;\">\n",
       "      <th></th>\n",
       "      <th>StateCode</th>\n",
       "      <th>SRR</th>\n",
       "      <th>Region</th>\n",
       "    </tr>\n",
       "  </thead>\n",
       "  <tbody>\n",
       "    <tr>\n",
       "      <th>0</th>\n",
       "      <td>AL</td>\n",
       "      <td>0.945240</td>\n",
       "      <td>South</td>\n",
       "    </tr>\n",
       "    <tr>\n",
       "      <th>1</th>\n",
       "      <td>AL</td>\n",
       "      <td>1.133493</td>\n",
       "      <td>South</td>\n",
       "    </tr>\n",
       "    <tr>\n",
       "      <th>2</th>\n",
       "      <td>AL</td>\n",
       "      <td>1.322441</td>\n",
       "      <td>South</td>\n",
       "    </tr>\n",
       "    <tr>\n",
       "      <th>3</th>\n",
       "      <td>AL</td>\n",
       "      <td>0.786654</td>\n",
       "      <td>South</td>\n",
       "    </tr>\n",
       "    <tr>\n",
       "      <th>4</th>\n",
       "      <td>AL</td>\n",
       "      <td>0.879016</td>\n",
       "      <td>South</td>\n",
       "    </tr>\n",
       "  </tbody>\n",
       "</table>\n",
       "</div>"
      ],
      "text/plain": [
       "  StateCode       SRR Region\n",
       "0        AL  0.945240  South\n",
       "1        AL  1.133493  South\n",
       "2        AL  1.322441  South\n",
       "3        AL  0.786654  South\n",
       "4        AL  0.879016  South"
      ]
     },
<<<<<<< HEAD
     "execution_count": 29,
=======
     "execution_count": 8,
>>>>>>> 80e3dde8f303f5933c136400d100a54031f18ca2
     "metadata": {},
     "output_type": "execute_result"
    }
   ],
   "source": [
    "esrd2 = esrd[[\"StateCode\", \"SRR\", \"Region\"]]\n",
    "esrd2.head()"
   ]
  },
  {
   "cell_type": "code",
<<<<<<< HEAD
   "execution_count": 31,
=======
   "execution_count": 9,
>>>>>>> 80e3dde8f303f5933c136400d100a54031f18ca2
   "metadata": {},
   "outputs": [
    {
     "data": {
      "text/plain": [
       "count    6356.000000\n",
       "mean        0.986971\n",
       "std         0.288544\n",
       "min         0.000000\n",
       "25%         0.808467\n",
       "50%         0.994469\n",
       "75%         1.172126\n",
       "max         2.295119\n",
       "Name: SRR, dtype: float64"
      ]
     },
<<<<<<< HEAD
     "execution_count": 31,
=======
     "execution_count": 9,
>>>>>>> 80e3dde8f303f5933c136400d100a54031f18ca2
     "metadata": {},
     "output_type": "execute_result"
    }
   ],
   "source": [
    "esrd2[\"SRR\"].describe()"
   ]
  },
  {
   "cell_type": "code",
<<<<<<< HEAD
   "execution_count": 32,
=======
   "execution_count": 10,
>>>>>>> 80e3dde8f303f5933c136400d100a54031f18ca2
   "metadata": {},
   "outputs": [
    {
     "data": {
      "text/plain": [
       "(6356, 3)"
      ]
     },
<<<<<<< HEAD
     "execution_count": 32,
=======
     "execution_count": 10,
>>>>>>> 80e3dde8f303f5933c136400d100a54031f18ca2
     "metadata": {},
     "output_type": "execute_result"
    }
   ],
   "source": [
    "esrd3 = esrd2.dropna()\n",
    "esrd3.shape"
   ]
  },
  {
   "cell_type": "code",
<<<<<<< HEAD
   "execution_count": 38,
=======
   "execution_count": 11,
>>>>>>> 80e3dde8f303f5933c136400d100a54031f18ca2
   "metadata": {},
   "outputs": [
    {
     "data": {
      "text/html": [
       "<div>\n",
       "<style scoped>\n",
       "    .dataframe tbody tr th:only-of-type {\n",
       "        vertical-align: middle;\n",
       "    }\n",
       "\n",
       "    .dataframe tbody tr th {\n",
       "        vertical-align: top;\n",
       "    }\n",
       "\n",
       "    .dataframe thead th {\n",
       "        text-align: right;\n",
       "    }\n",
       "</style>\n",
       "<table border=\"1\" class=\"dataframe\">\n",
       "  <thead>\n",
       "    <tr style=\"text-align: right;\">\n",
       "      <th></th>\n",
       "      <th>SRR</th>\n",
       "    </tr>\n",
       "    <tr>\n",
       "      <th>StateCode</th>\n",
       "      <th></th>\n",
       "    </tr>\n",
       "  </thead>\n",
       "  <tbody>\n",
       "    <tr>\n",
       "      <th>AK</th>\n",
       "      <td>0.795926</td>\n",
       "    </tr>\n",
       "    <tr>\n",
       "      <th>AL</th>\n",
       "      <td>0.932061</td>\n",
       "    </tr>\n",
       "    <tr>\n",
       "      <th>AR</th>\n",
       "      <td>0.995192</td>\n",
       "    </tr>\n",
       "    <tr>\n",
       "      <th>AS</th>\n",
       "      <td>0.279417</td>\n",
       "    </tr>\n",
       "    <tr>\n",
       "      <th>AZ</th>\n",
       "      <td>0.932405</td>\n",
       "    </tr>\n",
       "  </tbody>\n",
       "</table>\n",
       "</div>"
      ],
      "text/plain": [
       "                SRR\n",
       "StateCode          \n",
       "AK         0.795926\n",
       "AL         0.932061\n",
       "AR         0.995192\n",
       "AS         0.279417\n",
       "AZ         0.932405"
      ]
     },
<<<<<<< HEAD
     "execution_count": 38,
=======
     "execution_count": 11,
>>>>>>> 80e3dde8f303f5933c136400d100a54031f18ca2
     "metadata": {},
     "output_type": "execute_result"
    }
   ],
   "source": [
    "esrd4 = esrd3.groupby('StateCode').mean()\n",
    "esrd4.head()"
   ]
  },
  {
   "cell_type": "code",
<<<<<<< HEAD
   "execution_count": 34,
=======
   "execution_count": 12,
>>>>>>> 80e3dde8f303f5933c136400d100a54031f18ca2
   "metadata": {},
   "outputs": [
    {
     "data": {
      "text/plain": [
       "(56, 1)"
      ]
     },
<<<<<<< HEAD
     "execution_count": 34,
=======
     "execution_count": 12,
>>>>>>> 80e3dde8f303f5933c136400d100a54031f18ca2
     "metadata": {},
     "output_type": "execute_result"
    }
   ],
   "source": [
    "esrd4.shape"
   ]
  },
  {
   "cell_type": "code",
<<<<<<< HEAD
   "execution_count": 46,
=======
   "execution_count": 13,
>>>>>>> 80e3dde8f303f5933c136400d100a54031f18ca2
   "metadata": {},
   "outputs": [
    {
     "data": {
      "text/plain": [
       "(51, 3)"
      ]
     },
<<<<<<< HEAD
     "execution_count": 46,
=======
     "execution_count": 13,
>>>>>>> 80e3dde8f303f5933c136400d100a54031f18ca2
     "metadata": {},
     "output_type": "execute_result"
    }
   ],
   "source": [
    "df = pd.merge(hosp, esrd4, left_on='State', right_on='StateCode')\n",
    "df.shape"
   ]
  },
  {
   "cell_type": "code",
<<<<<<< HEAD
   "execution_count": 47,
=======
   "execution_count": 14,
>>>>>>> 80e3dde8f303f5933c136400d100a54031f18ca2
   "metadata": {},
   "outputs": [
    {
     "data": {
      "text/html": [
       "<div>\n",
       "<style scoped>\n",
       "    .dataframe tbody tr th:only-of-type {\n",
       "        vertical-align: middle;\n",
       "    }\n",
       "\n",
       "    .dataframe tbody tr th {\n",
       "        vertical-align: top;\n",
       "    }\n",
       "\n",
       "    .dataframe thead th {\n",
       "        text-align: right;\n",
       "    }\n",
       "</style>\n",
       "<table border=\"1\" class=\"dataframe\">\n",
       "  <thead>\n",
       "    <tr style=\"text-align: right;\">\n",
       "      <th></th>\n",
       "      <th>State</th>\n",
       "      <th>Excess Readmission Ratio</th>\n",
       "      <th>SRR</th>\n",
       "    </tr>\n",
       "  </thead>\n",
       "  <tbody>\n",
       "    <tr>\n",
       "      <th>0</th>\n",
       "      <td>AK</td>\n",
       "      <td>0.956058</td>\n",
       "      <td>0.795926</td>\n",
       "    </tr>\n",
       "    <tr>\n",
       "      <th>1</th>\n",
       "      <td>AL</td>\n",
       "      <td>1.018150</td>\n",
       "      <td>0.932061</td>\n",
       "    </tr>\n",
       "    <tr>\n",
       "      <th>2</th>\n",
       "      <td>AR</td>\n",
       "      <td>1.023103</td>\n",
       "      <td>0.995192</td>\n",
       "    </tr>\n",
       "    <tr>\n",
       "      <th>3</th>\n",
       "      <td>AZ</td>\n",
       "      <td>0.983623</td>\n",
       "      <td>0.932405</td>\n",
       "    </tr>\n",
       "    <tr>\n",
       "      <th>4</th>\n",
       "      <td>CA</td>\n",
       "      <td>1.003880</td>\n",
       "      <td>0.967392</td>\n",
       "    </tr>\n",
       "  </tbody>\n",
       "</table>\n",
       "</div>"
      ],
      "text/plain": [
       "  State  Excess Readmission Ratio       SRR\n",
       "0    AK                  0.956058  0.795926\n",
       "1    AL                  1.018150  0.932061\n",
       "2    AR                  1.023103  0.995192\n",
       "3    AZ                  0.983623  0.932405\n",
       "4    CA                  1.003880  0.967392"
      ]
     },
<<<<<<< HEAD
     "execution_count": 47,
=======
     "execution_count": 14,
>>>>>>> 80e3dde8f303f5933c136400d100a54031f18ca2
     "metadata": {},
     "output_type": "execute_result"
    }
   ],
   "source": [
    "df.head()"
   ]
  },
  {
   "cell_type": "code",
<<<<<<< HEAD
   "execution_count": 48,
=======
   "execution_count": 15,
>>>>>>> 80e3dde8f303f5933c136400d100a54031f18ca2
   "metadata": {},
   "outputs": [
    {
     "data": {
<<<<<<< HEAD
      "text/html": [
       "<div>\n",
       "<style scoped>\n",
       "    .dataframe tbody tr th:only-of-type {\n",
       "        vertical-align: middle;\n",
       "    }\n",
       "\n",
       "    .dataframe tbody tr th {\n",
       "        vertical-align: top;\n",
       "    }\n",
       "\n",
       "    .dataframe thead th {\n",
       "        text-align: right;\n",
       "    }\n",
       "</style>\n",
       "<table border=\"1\" class=\"dataframe\">\n",
       "  <thead>\n",
       "    <tr style=\"text-align: right;\">\n",
       "      <th></th>\n",
       "      <th>State Code</th>\n",
       "      <th>Region</th>\n",
       "      <th>Division</th>\n",
       "    </tr>\n",
       "  </thead>\n",
       "  <tbody>\n",
       "    <tr>\n",
       "      <th>42</th>\n",
       "      <td>TN</td>\n",
       "      <td>South</td>\n",
       "      <td>East South Central</td>\n",
       "    </tr>\n",
       "    <tr>\n",
       "      <th>31</th>\n",
       "      <td>NJ</td>\n",
       "      <td>Northeast</td>\n",
       "      <td>Middle Atlantic</td>\n",
       "    </tr>\n",
       "    <tr>\n",
       "      <th>14</th>\n",
       "      <td>IL</td>\n",
       "      <td>Midwest</td>\n",
       "      <td>East North Central</td>\n",
       "    </tr>\n",
       "    <tr>\n",
       "      <th>49</th>\n",
       "      <td>WV</td>\n",
       "      <td>South</td>\n",
       "      <td>South Atlantic</td>\n",
       "    </tr>\n",
       "    <tr>\n",
       "      <th>35</th>\n",
       "      <td>OH</td>\n",
       "      <td>Midwest</td>\n",
       "      <td>East North Central</td>\n",
       "    </tr>\n",
       "  </tbody>\n",
       "</table>\n",
       "</div>"
      ],
=======
      "image/png": "iVBORw0KGgoAAAANSUhEUgAAAXcAAAD8CAYAAACMwORRAAAABHNCSVQICAgIfAhkiAAAAAlwSFlzAAALEgAACxIB0t1+/AAAADl0RVh0U29mdHdhcmUAbWF0cGxvdGxpYiB2ZXJzaW9uIDMuMC4yLCBodHRwOi8vbWF0cGxvdGxpYi5vcmcvOIA7rQAAFq9JREFUeJzt3XGMHOd53/HvQ4pMzCY+WyKbpqLuTkXpNGrZJu5VTVskVsMKYVRQQuyikXF25dTIwXGchm2dQsEFUSTg0CJNGyWIkPaSuq6ViwQlcBIJpSG7rA0XgdzqBMemJUE2o/Cos4yIlu0rDBoVZT794/bk5XL3bnZ3dndm7vsBDtidfbX7vrvib95533dmIjORJDXLnklXQJJUPsNdkhrIcJekBjLcJamBDHdJaiDDXZIayHCXpAYy3CWpgQx3SWqgayb1wQcPHszZ2dlJfbwk1dJTTz315cw8tFO5iYX77Owsq6urk/p4SaqliFgrUs5hGUlqIMNdkhrIcJekBjLcJamBDHdJaiDDXZJaVs6sMHv/LHvu3cPs/bOsnFmZdJUGNrGlkJJUJStnVlh4bIGLly4CsLaxxsJjCwDMH52fZNUGYs9dkoDF04uvBfuWi5cusnh6cUI1Go7hLknA+Y3zfW2vOsNdkoDpqem+tled4S5JwNKxJQ7sO3DFtgP7DrB0bGlCNRqO4S5JbE6aLp9YZmZqhiCYmZph+cRyLSdToUC4R8QHIuKliPhcj9f/WkQ8ERH/LyLeX34VJWk85o/Oc+7kOS7fc5lzJ8+VFuyTWGJZpOf+QeD4Nq9/BfgXwK+UUSFJqpphwnlrieXaxhpJvrbEctQBv2O4Z+Yn2QzwXq+/lJlPApfKrJgkVcGw4TypJZaOuUvSNoYN50ktsRxruEfEQkSsRsTqhQsXxvnRkjSQYcN5UkssxxrumbmcmXOZOXfo0I53iZKkiRs2nCe1xNJhGUnaxrDhPKkllpGZ2xeIeAi4BTgI/DlwD7APIDP/U0T8JWAVeD1wGfg6cFNm/t/t3ndubi69h6qkOlg5s8Li6UXOb5xnemqapWNLE1v/HhFPZebcjuV2CvdRMdwlqX9Fw91hGUlqIMNdkhrIcJekBjLcJamBDHdJaiDDXZIayHCXpAYy3CWpgQx3SWogw12SGshwl6QGMtwlqYEMd0lqIMNdkkZomJtrD8Nwl6QR6XZz7Xd++J3EvTHyoDfcpYaZVE9RV+t2c+1k8x4aaxtrLDy2MLLfx3CXGqRbT3GUAaLt7XQT7YuXLrJ4enEkn224Sw3Srac4ygDR9orcRHunHcCgDHepQXoFxfmN8w7XTEC3m2t3KrIDGIThLjVIr6C49nXXOlwzAfNH51k+sczM1AwAQVzx+oF9B1g6tjSSzzbcpQbY6pWvbax1DRBg1w/XTOrIZf7oPOdOniPvSR5864PMTM0QBDNTMyyfWGb+6PxIPjcycyRvvJO5ublcXV2dyGdLTbI1idoe3kGQJDNTMywdW+KdH37na6s02gXB5XsuX/Fei6cXOb9xnumpaZaOLY0sfMap23d0YN+BkYbrqETEU5k5t2M5w12qt60ee6eZqRnOnTxXuEyRnUTdgnBLkfbXRdFwd1hGqrntJlG3dJvY6xzvneSa7FEr8h01jeEu1VyvSdT27e0Te73Ge4usyb7rD+7qK+CrskKnyHfUNIa7VHNFeuXwrYm9y/dc5tzJc1cNsRQJum/mNwv34Kt0QlXR76hJDHep5or0yososiYbiq+yqdIJVWV9R3XihKqk12ytltlaUtlthQ1cvcqmmz337im0QqefejVtFc8gSptQjYgPRMRLEfG5Hq9HRPx6RJyNiM9GxJsHqbCkyetck7039nYtV2QIp6xx7ioN79RJkWGZDwLHt3n9R4Ejrb8F4DeHr5akSWifAF08vcgts7cMfFZlWePcVRreqZNrdiqQmZ+MiNltitwBfCg3x3c+FRFviIjvzswvlVRHSWPQuc59bWPtqrXhQXDX37qr0JDIVplhh1N24zLGMpQxoXo98ELb8/XWNqmRqrK8r2zdesidkuTUF04Vfs+dVugUMczwTlN/qyLKCPfosq3rLExELETEakSsXrhwoYSPlsar3/HfOoVL0Z7wuHvMgw7v7Pax+jLCfR24oe35YeDFbgUzczkz5zJz7tChQyV8tDRe/Yz/1i1cik50Fi1X1o5t0GWMu32svoxwfxT4Z61VMz8AbDjerqbqZ/y3buFSZJ170QnRsndsgwzvjHqsvupHZUWWQj4EPAF8T0SsR8S7I+I9EfGeVpFTwPPAWeC3gPeOrLbShPXqtSZ51T/wuk0Edush/9TcTw104k8VdmyjvORAHY7KPIlJ6kO3Kye2a7+MbJOuRNivYU9gKuOkpVFe5neSv61XhZRGoPPOOp3ae6e78XomW4Zd4VJGr3iUlxyow1GZPXdpQEV6p7v1tPlhes11OOKx5y41WNFL7Q67zntQk5zwG6bXXIdecR2Oygx3aUBV/gdedGhjlDuAQXdsdbj2eh2uMumwjDSEqg67DHpbva2hExj+sgGDmsT9Tqv6O3bjPVSlXazIfECvHcB1r7uOb7z6jYneTHqcYVu3m2cb7tIuVqTn3msH0MtOk4V16v22q8MEbjsnVKVdrMh8QL9j2NtNaNbhpJ5e6jCBOwjDXWqgIhN+vXYA173uuq7vud3OoApnpA6qDhO4g9jxeu6S6mn+6Py2wyK9rrcOdB2D3m4VUJ17v0vHlvpubx0Y7tIutt0OoJ/x8+mp6a7j1nXo/ZZ1U5GqcUJVGrGyrpNSRviMatKzbitO6qzohKo9d2mEut26buGxBYDCoVfGe5T5Pt00tfdbZ/bcpREqY5ldWUv16rbkT925FFKqgDImGsuarKzzpKf6Z7hLI1TGMruyluo1dcmfujPc1beq316sSsq4uFhZFyir8oXOVD7DXX2p85mIo7Ldzq6MqweWdQXCOlzJcDt2KvrjhKr64qTclVwCOB5+z9/ihKpGwkm5K9X5tPs68Xvun+GuvjgpdyV3duPh99w/w1192c2Tct3GfN3ZjYffc/8Md/Wl7pNyg+o1kXzbkdt27c5unHZzp2JQTqhKBWw3kbx0bMnT7segrjcDKZt3YpJKVOS2ddI4uFpGKpFjvqobw10qwDFf1Y3hLhWwWyeSVV+OuUtSjZQ65h4RxyPiuYg4GxF3d3l9JiJOR8RnI+ITEXF4kEpLksqxY7hHxF7gAeBHgZuAt0fETR3FfgX4UGb+TeA+4N+WXdEm84JIkspWpOd+M3A2M5/PzFeAh4E7OsrcBJxuPf54l9fVg1dZLM6doFRckXC/Hnih7fl6a1u7zwBvaz3+MeA7I+K6zjeKiIWIWI2I1QsXLgxS38bxgkjFdNsJvuPD7+DgLx805KUuioR7dNnWOQv7fuAtEfFp4C3AF4FXr/qPMpczcy4z5w4dOtR3ZZvICyIV020nCPDyN172SEfqoki4rwM3tD0/DLzYXiAzX8zMt2bm9wOLrW0bpdWywTw5ppjtdnYe6UhXKxLuTwJHIuLGiNgP3Ak82l4gIg5GxNZ7/TzwgXKr2VyeHFPMTjs7j3SkK+0Y7pn5KvA+4HHgWeCRzHw6Iu6LiNtbxW4BnouIzwPfBZhMBXlyTDHddoLtPNKRruRJTKqNlTMr/OxHfpaXv/HyFdt36+3WtDt54TA1zvzReb78b77M77z1dzzSkXZgz12SasSeuyTtYoa7JDWQ4S5JDWS4S1IDGe4VVYWLZFWhDpIGc82kK6CrbV0ka+taKltXigTGtuSvCnWQNDh77hVUhStFVqEOkgZnuFdQFa4UWYU6SBqc4V5BVbhSZBXqIGlwhnsFVeFKkVWog6TBGe4VVIUrRU6qDq7QkcrhtWXUt5UzKyyeXuT8xnmmp6Zf6813but3R9C5Qge84qPUqei1ZQx39aVbAO/bs4+I4JVvvvLatkFCefb+WdY21q7aPjM1w7mT54aqt9QUXjhMI9FtieSly5euCHYYbNmkK3Sk8hju6ks/QdtvKLtCRyqP4a6+9BO0/YayK3Sk8hju6ku3AN63Zx/79+6/YtsgoVyFVUJSUzihqr6NarWMpJ25WkaSGsjVMqokT1KSxsNL/mpsvIywND723DU2XkZYGh/DXWPjSUrS+BjuGhtPUpLGx3DX2HiSkjQ+hrvGxpOUpPEptM49Io4DvwbsBX47M/9dx+vTwH8D3tAqc3dmntruPauwzr3byTgGjaQqK7rOfcelkBGxF3gAuBVYB56MiEcz85m2Yr8APJKZvxkRNwGngNmBaj4mLsuT1GRFhmVuBs5m5vOZ+QrwMHBHR5kEXt96PAW8WF4VR8Nlef3x5COpXoqcxHQ98ELb83Xg73aU+SXgoxHxM8BfAP5RKbUbIZflFedRjlQ/RXru0WVb50D924EPZuZh4DbgwYi46r0jYiEiViNi9cKFC/3XtkQuyyvOoxypfoqE+zpwQ9vzw1w97PJu4BGAzHwC+HbgYOcbZeZyZs5l5tyhQ4cGq3FJXJZXnEc5Uv0UCfcngSMRcWNE7AfuBB7tKHMeOAYQEd/LZrhPtmu+A5flFedRjlQ/O4Z7Zr4KvA94HHiWzVUxT0fEfRFxe6vYvwZ+MiI+AzwEvCtHcC3hsif15o/Oc+7kOS7fc5lzJ88Z7D14lCPVT22u5945qQebAWNvezw8J0CqhsZdz91JvcnqPMoBXBo5BJeWatRqcz13J/Wqw6WRw/H70zjUpufupF51eBQ1HL8/jUNtwt1JverwKGo4fn8ah9qEu0sXq8OjqOH4/WkcahPu4NLFqvAoajh+fxqHWoW7qsGjqOH4/WkcarPOXZLUwHXukqTiDHdJaiDDXZIayHCXpAYy3CWpgQx3SWogw12SGshwl6QGMtwlqYEMd0lqIMNdkhrIcJekBjLcJamBDHdJaiDDXZIayHCXpAYy3CWpgQx3SWogw11DWzmzwuz9s+y5dw+z98+ycmZl0lWSdr1rJl0B1dvKmRUWHlvg4qWLAKxtrLHw2AKAN3yWJqhQzz0ijkfEcxFxNiLu7vL6r0bEn7T+Ph8RXyu/qqqixdOLrwX7louXLrJ4enFCNZIEBXruEbEXeAC4FVgHnoyIRzPzma0ymfkv28r/DPD9I6irKuj8xvm+tksajyI995uBs5n5fGa+AjwM3LFN+bcDD5VROVXf9NR0X9sljUeRcL8eeKHt+Xpr21UiYga4Efifw1dNdbB0bIkD+w5cse3AvgMsHVuaUI0kQbFwjy7bskfZO4Hfz8xvdn2jiIWIWI2I1QsXLhStoyps/ug8yyeWmZmaIQhmpmZYPrHsZKo0YUVWy6wDN7Q9Pwy82KPsncBP93qjzFwGlgHm5uZ67SBUM/NH5w1zqWKK9NyfBI5ExI0RsZ/NAH+0s1BEfA/wRuCJcqsoSerXjuGema8C7wMeB54FHsnMpyPivoi4va3o24GHM9MeuSRNWKGTmDLzFHCqY9svdjz/pfKqJUkahpcfkKQGMtwlqYEMd0lqIMNdkhrIcJekBjLcJamBDHdJaiDDXZIayHCXpAYy3CWpgQx3SWogw12SGshwl6QGMtwlqYEMd0lqIMNdkhrIcJekBjLcJamBDHdJaiDDXZIayHCXpAYy3CWpgQx3SWogw12SGshwl6QGMtwlqYEMd0lqIMNdkhqoULhHxPGIeC4izkbE3T3K/NOIeCYino6I3y23mpKkflyzU4GI2As8ANwKrANPRsSjmflMW5kjwM8D/yAzvxoRf3FUFZYk7axIz/1m4GxmPp+ZrwAPA3d0lPlJ4IHM/CpAZr5UbjUlSf0oEu7XAy+0PV9vbWv3JuBNEfHHEfGpiDheVgUlSf3bcVgGiC7bssv7HAFuAQ4D/ysi/kZmfu2KN4pYABYApqen+66sJKmYIj33deCGtueHgRe7lPmjzLyUmX8GPMdm2F8hM5czcy4z5w4dOjRonaVda+XMCrP3z7Ln3j3M3j/LypmVSVdJFVUk3J8EjkTEjRGxH7gTeLSjzB8C/xAgIg6yOUzzfJkVlXa7lTMrLDy2wNrGGkmytrHGwmMLBry62jHcM/NV4H3A48CzwCOZ+XRE3BcRt7eKPQ68HBHPAB8Hfi4zXx5VpaXdaPH0IhcvXbxi28VLF1k8vTihGqnKioy5k5mngFMd236x7XEC/6r1J2kEzm+c72u7djfPUJVqYnqq+yKEXtu1uxnuUk0sHVviwL4DV2w7sO8AS8eWJlQjVZnhLtXE/NF5lk8sMzM1QxDMTM2wfGKZ+aPzk66aKig2h8vHb25uLldXVyfy2ZJUVxHxVGbO7VTOnrskNZDhLkkNZLhLUgMZ7pLUQIa7JDXQxFbLRMQFYG2ItzgIfLmk6lSB7ak221NtTWrPTm2Zycwdr7w4sXAfVkSsFlkOVBe2p9psT7U1qT1ltcVhGUlqIMNdkhqozuG+POkKlMz2VJvtqbYmtaeUttR2zF2S1Fude+6SpB4qGe4RcTwinouIsxFxd5fXZyLidER8NiI+ERGHW9u/LyKeiIinW6/9+Phrf7VB29P2+usj4osR8Rvjq3Vvw7QnIqYj4qMR8WxEPBMRs+Ose6ch2/LLrf/Xno2IX4+IbjeTH6uI+EBEvBQRn+vxerTqerbVpje3vXZXRHyh9XfX+Grd26DtqWIWDPPbtF7vLwcys1J/wF7gT4G/AuwHPgPc1FHm94C7Wo9/GHiw9fhNwJHW478MfAl4Q13b0/b6rwG/C/xGnX+f1vNPALe2Hn8HcKCObQH+PvDHrffYCzwB3FKB3+eHgDcDn+vx+m3AR4AAfgD4363t17J53+NrgTe2Hr+xxu2pYhYM1Ja21/vKgSr23G8Gzmbm85n5CvAwcEdHmZuA063HH996PTM/n5lfaD1+EXgJ2HGx/4gN3B6AiPjbwHcBHx1DXYsYuD0RcRNwTWZ+DCAzv56ZF5mcYX6bBL6dzZ3CtwH7gD8feY13kJmfBL6yTZE7gA/lpk8Bb4iI7wZ+BPhYZn4lM78KfAw4Pvoab2/Q9lQxC4b4bQbKgSqG+/XAC23P11vb2n0GeFvr8Y8B3xkR17UXiIib2fyH96cjqmdRA7cnIvYA/wH4uZHXsrhhfp83AV+LiA9HxKcj4t9HxN6R17i3gduSmU+wGfZfav09npnPjri+ZejV5iLfRRXtWO8KZcFOurZl0ByoYrh3G7fsXNLzfuAtEfFp4C3AF4FXX3uDzb3dg8BPZOblUVW0oGHa817gVGa+QHUM055rgB9svf532BwOedfIarqzgdsSEX8V+F7gMJv/KH84In5olJUtSa82F/kuqmjbelcsC3bSqy0D5cA1pVSpXOvADW3PDwMvthdoHWa9FSAivgN4W2ZutJ6/HvjvwC+0Dm0mbeD2RMTfA34wIt7L5vj0/oj4emZeNfE3RsO0Zx34dGY+33rtD9kcW/wv46h4F8O0ZQH4VGZ+vfXaR9hsyyfHUfEh9GrzOnBLx/ZPjK1Wg+v5G1YwC3bSqy2D5cAkJxh6TCpcw+Zkzo18a5Lrr3eUOQjsaT1eAu5rPd7P5vjoyUm3o4z2dJR5F9WYUB3m99nbKn+o9fy/Aj9d07b8OPA/Wu+xr/X/3YlJ/z6tus3Se9LuH3PlpN3/aW2/FvgzNidT39h6fO2k2zJEeyqXBYO2paNM4RyYeGN7NPI24PNsjpEttrbdB9zeevxPgC+0yvw28G2t7e8ALgF/0vb3fXVtz6A/apXbA9wKfBY4A3wQ2F/HtrC5o/rPwLPAM8B/nPTv0qrXQ2zOAVxisyf4buA9wHtarwfwQKu9Z4C5tv/2nwNnW38/Mem2DNOeKmbBML9N23sUzgHPUJWkBqrihKokaUiGuyQ1kOEuSQ1kuEtSAxnuktRAhrskNZDhLkkNZLhLUgP9fzZkA16BhQj0AAAAAElFTkSuQmCC\n",
>>>>>>> 80e3dde8f303f5933c136400d100a54031f18ca2
      "text/plain": [
       "   State Code     Region            Division\n",
       "42         TN      South  East South Central\n",
       "31         NJ  Northeast     Middle Atlantic\n",
       "14         IL    Midwest  East North Central\n",
       "49         WV      South      South Atlantic\n",
       "35         OH    Midwest  East North Central"
      ]
     },
     "execution_count": 48,
     "metadata": {},
     "output_type": "execute_result"
    }
   ],
   "source": [
    "region = pd.read_csv(\"../data/input/Census-Bureau-Regions.csv\")\n",
    "region.drop(columns=[\"State\"], inplace=True)\n",
    "region.sample(5)"
   ]
  },
  {
   "cell_type": "code",
<<<<<<< HEAD
   "execution_count": 49,
   "metadata": {},
   "outputs": [
    {
     "data": {
      "text/html": [
       "<div>\n",
       "<style scoped>\n",
       "    .dataframe tbody tr th:only-of-type {\n",
       "        vertical-align: middle;\n",
       "    }\n",
       "\n",
       "    .dataframe tbody tr th {\n",
       "        vertical-align: top;\n",
       "    }\n",
       "\n",
       "    .dataframe thead th {\n",
       "        text-align: right;\n",
       "    }\n",
       "</style>\n",
       "<table border=\"1\" class=\"dataframe\">\n",
       "  <thead>\n",
       "    <tr style=\"text-align: right;\">\n",
       "      <th></th>\n",
       "      <th>State</th>\n",
       "      <th>Excess Readmission Ratio</th>\n",
       "      <th>SRR</th>\n",
       "      <th>State Code</th>\n",
       "      <th>Region</th>\n",
       "      <th>Division</th>\n",
       "    </tr>\n",
       "  </thead>\n",
       "  <tbody>\n",
       "    <tr>\n",
       "      <th>0</th>\n",
       "      <td>AK</td>\n",
       "      <td>0.956058</td>\n",
       "      <td>0.795926</td>\n",
       "      <td>AK</td>\n",
       "      <td>West</td>\n",
       "      <td>Pacific</td>\n",
       "    </tr>\n",
       "    <tr>\n",
       "      <th>1</th>\n",
       "      <td>AL</td>\n",
       "      <td>1.018150</td>\n",
       "      <td>0.932061</td>\n",
       "      <td>AL</td>\n",
       "      <td>South</td>\n",
       "      <td>East South Central</td>\n",
       "    </tr>\n",
       "    <tr>\n",
       "      <th>2</th>\n",
       "      <td>AR</td>\n",
       "      <td>1.023103</td>\n",
       "      <td>0.995192</td>\n",
       "      <td>AR</td>\n",
       "      <td>South</td>\n",
       "      <td>West South Central</td>\n",
       "    </tr>\n",
       "    <tr>\n",
       "      <th>3</th>\n",
       "      <td>AZ</td>\n",
       "      <td>0.983623</td>\n",
       "      <td>0.932405</td>\n",
       "      <td>AZ</td>\n",
       "      <td>West</td>\n",
       "      <td>Mountain</td>\n",
       "    </tr>\n",
       "    <tr>\n",
       "      <th>4</th>\n",
       "      <td>CA</td>\n",
       "      <td>1.003880</td>\n",
       "      <td>0.967392</td>\n",
       "      <td>CA</td>\n",
       "      <td>West</td>\n",
       "      <td>Pacific</td>\n",
       "    </tr>\n",
       "    <tr>\n",
       "      <th>5</th>\n",
       "      <td>CO</td>\n",
       "      <td>0.957346</td>\n",
       "      <td>0.841315</td>\n",
       "      <td>CO</td>\n",
       "      <td>West</td>\n",
       "      <td>Mountain</td>\n",
       "    </tr>\n",
       "    <tr>\n",
       "      <th>6</th>\n",
       "      <td>CT</td>\n",
       "      <td>1.005010</td>\n",
       "      <td>1.012869</td>\n",
       "      <td>CT</td>\n",
       "      <td>Northeast</td>\n",
       "      <td>New England</td>\n",
       "    </tr>\n",
       "    <tr>\n",
       "      <th>7</th>\n",
       "      <td>DC</td>\n",
       "      <td>1.030351</td>\n",
       "      <td>1.099348</td>\n",
       "      <td>DC</td>\n",
       "      <td>South</td>\n",
       "      <td>South Atlantic</td>\n",
       "    </tr>\n",
       "    <tr>\n",
       "      <th>8</th>\n",
       "      <td>DE</td>\n",
       "      <td>0.986648</td>\n",
       "      <td>0.949382</td>\n",
       "      <td>DE</td>\n",
       "      <td>South</td>\n",
       "      <td>South Atlantic</td>\n",
       "    </tr>\n",
       "    <tr>\n",
       "      <th>9</th>\n",
       "      <td>FL</td>\n",
       "      <td>1.027955</td>\n",
       "      <td>1.120314</td>\n",
       "      <td>FL</td>\n",
       "      <td>South</td>\n",
       "      <td>South Atlantic</td>\n",
       "    </tr>\n",
       "    <tr>\n",
       "      <th>10</th>\n",
       "      <td>GA</td>\n",
       "      <td>1.010445</td>\n",
       "      <td>0.990115</td>\n",
       "      <td>GA</td>\n",
       "      <td>South</td>\n",
       "      <td>South Atlantic</td>\n",
       "    </tr>\n",
       "    <tr>\n",
       "      <th>11</th>\n",
       "      <td>HI</td>\n",
       "      <td>0.959348</td>\n",
       "      <td>0.841714</td>\n",
       "      <td>HI</td>\n",
       "      <td>West</td>\n",
       "      <td>Pacific</td>\n",
       "    </tr>\n",
       "    <tr>\n",
       "      <th>12</th>\n",
       "      <td>IA</td>\n",
       "      <td>0.966133</td>\n",
       "      <td>0.844500</td>\n",
       "      <td>IA</td>\n",
       "      <td>Midwest</td>\n",
       "      <td>West North Central</td>\n",
       "    </tr>\n",
       "    <tr>\n",
       "      <th>13</th>\n",
       "      <td>ID</td>\n",
       "      <td>0.927105</td>\n",
       "      <td>0.801520</td>\n",
       "      <td>ID</td>\n",
       "      <td>West</td>\n",
       "      <td>Mountain</td>\n",
       "    </tr>\n",
       "    <tr>\n",
       "      <th>14</th>\n",
       "      <td>IL</td>\n",
       "      <td>1.010742</td>\n",
       "      <td>1.012582</td>\n",
       "      <td>IL</td>\n",
       "      <td>Midwest</td>\n",
       "      <td>East North Central</td>\n",
       "    </tr>\n",
       "    <tr>\n",
       "      <th>15</th>\n",
       "      <td>IN</td>\n",
       "      <td>0.981389</td>\n",
       "      <td>0.920978</td>\n",
       "      <td>IN</td>\n",
       "      <td>Midwest</td>\n",
       "      <td>East North Central</td>\n",
       "    </tr>\n",
       "    <tr>\n",
       "      <th>16</th>\n",
       "      <td>KS</td>\n",
       "      <td>0.982017</td>\n",
       "      <td>0.994855</td>\n",
       "      <td>KS</td>\n",
       "      <td>Midwest</td>\n",
       "      <td>West North Central</td>\n",
       "    </tr>\n",
       "    <tr>\n",
       "      <th>17</th>\n",
       "      <td>KY</td>\n",
       "      <td>1.024272</td>\n",
       "      <td>1.023309</td>\n",
       "      <td>KY</td>\n",
       "      <td>South</td>\n",
       "      <td>East South Central</td>\n",
       "    </tr>\n",
       "    <tr>\n",
       "      <th>18</th>\n",
       "      <td>LA</td>\n",
       "      <td>1.008793</td>\n",
       "      <td>0.961665</td>\n",
       "      <td>LA</td>\n",
       "      <td>South</td>\n",
       "      <td>West South Central</td>\n",
       "    </tr>\n",
       "    <tr>\n",
       "      <th>19</th>\n",
       "      <td>MA</td>\n",
       "      <td>1.037059</td>\n",
       "      <td>1.039938</td>\n",
       "      <td>MA</td>\n",
       "      <td>Northeast</td>\n",
       "      <td>New England</td>\n",
       "    </tr>\n",
       "    <tr>\n",
       "      <th>20</th>\n",
       "      <td>MD</td>\n",
       "      <td>0.998058</td>\n",
       "      <td>0.973824</td>\n",
       "      <td>MD</td>\n",
       "      <td>South</td>\n",
       "      <td>South Atlantic</td>\n",
       "    </tr>\n",
       "    <tr>\n",
       "      <th>21</th>\n",
       "      <td>ME</td>\n",
       "      <td>0.958886</td>\n",
       "      <td>0.707562</td>\n",
       "      <td>ME</td>\n",
       "      <td>Northeast</td>\n",
       "      <td>New England</td>\n",
       "    </tr>\n",
       "    <tr>\n",
       "      <th>22</th>\n",
       "      <td>MI</td>\n",
       "      <td>1.003114</td>\n",
       "      <td>1.021394</td>\n",
       "      <td>MI</td>\n",
       "      <td>Midwest</td>\n",
       "      <td>East North Central</td>\n",
       "    </tr>\n",
       "    <tr>\n",
       "      <th>23</th>\n",
       "      <td>MN</td>\n",
       "      <td>0.983184</td>\n",
       "      <td>0.982974</td>\n",
       "      <td>MN</td>\n",
       "      <td>Midwest</td>\n",
       "      <td>West North Central</td>\n",
       "    </tr>\n",
       "    <tr>\n",
       "      <th>24</th>\n",
       "      <td>MO</td>\n",
       "      <td>1.003171</td>\n",
       "      <td>1.000527</td>\n",
       "      <td>MO</td>\n",
       "      <td>Midwest</td>\n",
       "      <td>West North Central</td>\n",
       "    </tr>\n",
       "    <tr>\n",
       "      <th>25</th>\n",
       "      <td>MS</td>\n",
       "      <td>1.026966</td>\n",
       "      <td>0.969150</td>\n",
       "      <td>MS</td>\n",
       "      <td>South</td>\n",
       "      <td>East South Central</td>\n",
       "    </tr>\n",
       "    <tr>\n",
       "      <th>26</th>\n",
       "      <td>MT</td>\n",
       "      <td>0.940385</td>\n",
       "      <td>0.899224</td>\n",
       "      <td>MT</td>\n",
       "      <td>West</td>\n",
       "      <td>Mountain</td>\n",
       "    </tr>\n",
       "    <tr>\n",
       "      <th>27</th>\n",
       "      <td>NC</td>\n",
       "      <td>0.993061</td>\n",
       "      <td>0.947828</td>\n",
       "      <td>NC</td>\n",
       "      <td>South</td>\n",
       "      <td>South Atlantic</td>\n",
       "    </tr>\n",
       "    <tr>\n",
       "      <th>28</th>\n",
       "      <td>ND</td>\n",
       "      <td>0.957858</td>\n",
       "      <td>0.776822</td>\n",
       "      <td>ND</td>\n",
       "      <td>Midwest</td>\n",
       "      <td>West North Central</td>\n",
       "    </tr>\n",
       "    <tr>\n",
       "      <th>29</th>\n",
       "      <td>NE</td>\n",
       "      <td>0.954931</td>\n",
       "      <td>0.860917</td>\n",
       "      <td>NE</td>\n",
       "      <td>Midwest</td>\n",
       "      <td>West North Central</td>\n",
       "    </tr>\n",
       "    <tr>\n",
       "      <th>30</th>\n",
       "      <td>NH</td>\n",
       "      <td>0.986297</td>\n",
       "      <td>0.991706</td>\n",
       "      <td>NH</td>\n",
       "      <td>Northeast</td>\n",
       "      <td>New England</td>\n",
       "    </tr>\n",
       "    <tr>\n",
       "      <th>31</th>\n",
       "      <td>NJ</td>\n",
       "      <td>1.036125</td>\n",
       "      <td>1.041900</td>\n",
       "      <td>NJ</td>\n",
       "      <td>Northeast</td>\n",
       "      <td>Middle Atlantic</td>\n",
       "    </tr>\n",
       "    <tr>\n",
       "      <th>32</th>\n",
       "      <td>NM</td>\n",
       "      <td>0.988448</td>\n",
       "      <td>0.778460</td>\n",
       "      <td>NM</td>\n",
       "      <td>West</td>\n",
       "      <td>Mountain</td>\n",
       "    </tr>\n",
       "    <tr>\n",
       "      <th>33</th>\n",
       "      <td>NV</td>\n",
       "      <td>1.032193</td>\n",
       "      <td>0.987932</td>\n",
       "      <td>NV</td>\n",
       "      <td>West</td>\n",
       "      <td>Mountain</td>\n",
       "    </tr>\n",
       "    <tr>\n",
       "      <th>34</th>\n",
       "      <td>NY</td>\n",
       "      <td>1.036308</td>\n",
       "      <td>1.101805</td>\n",
       "      <td>NY</td>\n",
       "      <td>Northeast</td>\n",
       "      <td>Middle Atlantic</td>\n",
       "    </tr>\n",
       "    <tr>\n",
       "      <th>35</th>\n",
       "      <td>OH</td>\n",
       "      <td>0.996189</td>\n",
       "      <td>1.023436</td>\n",
       "      <td>OH</td>\n",
       "      <td>Midwest</td>\n",
       "      <td>East North Central</td>\n",
       "    </tr>\n",
       "    <tr>\n",
       "      <th>36</th>\n",
       "      <td>OK</td>\n",
       "      <td>1.000008</td>\n",
       "      <td>0.950310</td>\n",
       "      <td>OK</td>\n",
       "      <td>South</td>\n",
       "      <td>West South Central</td>\n",
       "    </tr>\n",
       "    <tr>\n",
       "      <th>37</th>\n",
       "      <td>OR</td>\n",
       "      <td>0.963087</td>\n",
       "      <td>0.820113</td>\n",
       "      <td>OR</td>\n",
       "      <td>West</td>\n",
       "      <td>Pacific</td>\n",
       "    </tr>\n",
       "    <tr>\n",
       "      <th>38</th>\n",
       "      <td>PA</td>\n",
       "      <td>1.004211</td>\n",
       "      <td>1.017797</td>\n",
       "      <td>PA</td>\n",
       "      <td>Northeast</td>\n",
       "      <td>Middle Atlantic</td>\n",
       "    </tr>\n",
       "    <tr>\n",
       "      <th>39</th>\n",
       "      <td>RI</td>\n",
       "      <td>0.997538</td>\n",
       "      <td>1.038451</td>\n",
       "      <td>RI</td>\n",
       "      <td>Northeast</td>\n",
       "      <td>New England</td>\n",
       "    </tr>\n",
       "    <tr>\n",
       "      <th>40</th>\n",
       "      <td>SC</td>\n",
       "      <td>0.999690</td>\n",
       "      <td>1.028388</td>\n",
       "      <td>SC</td>\n",
       "      <td>South</td>\n",
       "      <td>South Atlantic</td>\n",
       "    </tr>\n",
       "    <tr>\n",
       "      <th>41</th>\n",
       "      <td>SD</td>\n",
       "      <td>0.919639</td>\n",
       "      <td>0.783584</td>\n",
       "      <td>SD</td>\n",
       "      <td>Midwest</td>\n",
       "      <td>West North Central</td>\n",
       "    </tr>\n",
       "    <tr>\n",
       "      <th>42</th>\n",
       "      <td>TN</td>\n",
       "      <td>1.016491</td>\n",
       "      <td>0.980028</td>\n",
       "      <td>TN</td>\n",
       "      <td>South</td>\n",
       "      <td>East South Central</td>\n",
       "    </tr>\n",
       "    <tr>\n",
       "      <th>43</th>\n",
       "      <td>TX</td>\n",
       "      <td>1.001712</td>\n",
       "      <td>0.970359</td>\n",
       "      <td>TX</td>\n",
       "      <td>South</td>\n",
       "      <td>West South Central</td>\n",
       "    </tr>\n",
       "    <tr>\n",
       "      <th>44</th>\n",
       "      <td>UT</td>\n",
       "      <td>0.942222</td>\n",
       "      <td>0.860547</td>\n",
       "      <td>UT</td>\n",
       "      <td>West</td>\n",
       "      <td>Mountain</td>\n",
       "    </tr>\n",
       "    <tr>\n",
       "      <th>45</th>\n",
       "      <td>VA</td>\n",
       "      <td>1.004910</td>\n",
       "      <td>0.998970</td>\n",
       "      <td>VA</td>\n",
       "      <td>South</td>\n",
       "      <td>South Atlantic</td>\n",
       "    </tr>\n",
       "    <tr>\n",
       "      <th>46</th>\n",
       "      <td>VT</td>\n",
       "      <td>0.957130</td>\n",
       "      <td>0.935480</td>\n",
       "      <td>VT</td>\n",
       "      <td>Northeast</td>\n",
       "      <td>New England</td>\n",
       "    </tr>\n",
       "    <tr>\n",
       "      <th>47</th>\n",
       "      <td>WA</td>\n",
       "      <td>0.969821</td>\n",
       "      <td>0.891418</td>\n",
       "      <td>WA</td>\n",
       "      <td>West</td>\n",
       "      <td>Pacific</td>\n",
       "    </tr>\n",
       "    <tr>\n",
       "      <th>48</th>\n",
       "      <td>WI</td>\n",
       "      <td>0.968758</td>\n",
       "      <td>0.895295</td>\n",
       "      <td>WI</td>\n",
       "      <td>Midwest</td>\n",
       "      <td>East North Central</td>\n",
       "    </tr>\n",
       "    <tr>\n",
       "      <th>49</th>\n",
       "      <td>WV</td>\n",
       "      <td>1.018036</td>\n",
       "      <td>1.004898</td>\n",
       "      <td>WV</td>\n",
       "      <td>South</td>\n",
       "      <td>South Atlantic</td>\n",
       "    </tr>\n",
       "    <tr>\n",
       "      <th>50</th>\n",
       "      <td>WY</td>\n",
       "      <td>0.993947</td>\n",
       "      <td>0.589575</td>\n",
       "      <td>WY</td>\n",
       "      <td>West</td>\n",
       "      <td>Mountain</td>\n",
       "    </tr>\n",
       "  </tbody>\n",
       "</table>\n",
       "</div>"
      ],
      "text/plain": [
       "   State  Excess Readmission Ratio       SRR State Code     Region  \\\n",
       "0     AK                  0.956058  0.795926         AK       West   \n",
       "1     AL                  1.018150  0.932061         AL      South   \n",
       "2     AR                  1.023103  0.995192         AR      South   \n",
       "3     AZ                  0.983623  0.932405         AZ       West   \n",
       "4     CA                  1.003880  0.967392         CA       West   \n",
       "5     CO                  0.957346  0.841315         CO       West   \n",
       "6     CT                  1.005010  1.012869         CT  Northeast   \n",
       "7     DC                  1.030351  1.099348         DC      South   \n",
       "8     DE                  0.986648  0.949382         DE      South   \n",
       "9     FL                  1.027955  1.120314         FL      South   \n",
       "10    GA                  1.010445  0.990115         GA      South   \n",
       "11    HI                  0.959348  0.841714         HI       West   \n",
       "12    IA                  0.966133  0.844500         IA    Midwest   \n",
       "13    ID                  0.927105  0.801520         ID       West   \n",
       "14    IL                  1.010742  1.012582         IL    Midwest   \n",
       "15    IN                  0.981389  0.920978         IN    Midwest   \n",
       "16    KS                  0.982017  0.994855         KS    Midwest   \n",
       "17    KY                  1.024272  1.023309         KY      South   \n",
       "18    LA                  1.008793  0.961665         LA      South   \n",
       "19    MA                  1.037059  1.039938         MA  Northeast   \n",
       "20    MD                  0.998058  0.973824         MD      South   \n",
       "21    ME                  0.958886  0.707562         ME  Northeast   \n",
       "22    MI                  1.003114  1.021394         MI    Midwest   \n",
       "23    MN                  0.983184  0.982974         MN    Midwest   \n",
       "24    MO                  1.003171  1.000527         MO    Midwest   \n",
       "25    MS                  1.026966  0.969150         MS      South   \n",
       "26    MT                  0.940385  0.899224         MT       West   \n",
       "27    NC                  0.993061  0.947828         NC      South   \n",
       "28    ND                  0.957858  0.776822         ND    Midwest   \n",
       "29    NE                  0.954931  0.860917         NE    Midwest   \n",
       "30    NH                  0.986297  0.991706         NH  Northeast   \n",
       "31    NJ                  1.036125  1.041900         NJ  Northeast   \n",
       "32    NM                  0.988448  0.778460         NM       West   \n",
       "33    NV                  1.032193  0.987932         NV       West   \n",
       "34    NY                  1.036308  1.101805         NY  Northeast   \n",
       "35    OH                  0.996189  1.023436         OH    Midwest   \n",
       "36    OK                  1.000008  0.950310         OK      South   \n",
       "37    OR                  0.963087  0.820113         OR       West   \n",
       "38    PA                  1.004211  1.017797         PA  Northeast   \n",
       "39    RI                  0.997538  1.038451         RI  Northeast   \n",
       "40    SC                  0.999690  1.028388         SC      South   \n",
       "41    SD                  0.919639  0.783584         SD    Midwest   \n",
       "42    TN                  1.016491  0.980028         TN      South   \n",
       "43    TX                  1.001712  0.970359         TX      South   \n",
       "44    UT                  0.942222  0.860547         UT       West   \n",
       "45    VA                  1.004910  0.998970         VA      South   \n",
       "46    VT                  0.957130  0.935480         VT  Northeast   \n",
       "47    WA                  0.969821  0.891418         WA       West   \n",
       "48    WI                  0.968758  0.895295         WI    Midwest   \n",
       "49    WV                  1.018036  1.004898         WV      South   \n",
       "50    WY                  0.993947  0.589575         WY       West   \n",
       "\n",
       "              Division  \n",
       "0              Pacific  \n",
       "1   East South Central  \n",
       "2   West South Central  \n",
       "3             Mountain  \n",
       "4              Pacific  \n",
       "5             Mountain  \n",
       "6          New England  \n",
       "7       South Atlantic  \n",
       "8       South Atlantic  \n",
       "9       South Atlantic  \n",
       "10      South Atlantic  \n",
       "11             Pacific  \n",
       "12  West North Central  \n",
       "13            Mountain  \n",
       "14  East North Central  \n",
       "15  East North Central  \n",
       "16  West North Central  \n",
       "17  East South Central  \n",
       "18  West South Central  \n",
       "19         New England  \n",
       "20      South Atlantic  \n",
       "21         New England  \n",
       "22  East North Central  \n",
       "23  West North Central  \n",
       "24  West North Central  \n",
       "25  East South Central  \n",
       "26            Mountain  \n",
       "27      South Atlantic  \n",
       "28  West North Central  \n",
       "29  West North Central  \n",
       "30         New England  \n",
       "31     Middle Atlantic  \n",
       "32            Mountain  \n",
       "33            Mountain  \n",
       "34     Middle Atlantic  \n",
       "35  East North Central  \n",
       "36  West South Central  \n",
       "37             Pacific  \n",
       "38     Middle Atlantic  \n",
       "39         New England  \n",
       "40      South Atlantic  \n",
       "41  West North Central  \n",
       "42  East South Central  \n",
       "43  West South Central  \n",
       "44            Mountain  \n",
       "45      South Atlantic  \n",
       "46         New England  \n",
       "47             Pacific  \n",
       "48  East North Central  \n",
       "49      South Atlantic  \n",
       "50            Mountain  "
      ]
     },
     "execution_count": 49,
     "metadata": {},
     "output_type": "execute_result"
    }
   ],
   "source": [
    "df = pd.merge(df, region, left_on=\"State\", right_on=\"State Code\")\n",
    "df.head(56)"
   ]
  },
  {
   "cell_type": "code",
   "execution_count": 64,
   "metadata": {},
   "outputs": [],
   "source": [
    "df.to_csv(\"../data/output/HospitalsAndDialysisFacilitiesSRR.csv\")"
   ]
  },
  {
   "cell_type": "code",
   "execution_count": 27,
   "metadata": {},
   "outputs": [
    {
     "data": {
      "text/plain": [
       "<seaborn.axisgrid.JointGrid at 0x225f49ff6a0>"
      ]
     },
     "execution_count": 27,
=======
   "execution_count": 16,
   "metadata": {},
   "outputs": [
    {
     "name": "stderr",
     "output_type": "stream",
     "text": [
      "C:\\Users\\jay\\Anaconda3\\lib\\site-packages\\seaborn\\axisgrid.py:2262: UserWarning: The `size` paramter has been renamed to `height`; please update your code.\n",
      "  warnings.warn(msg, UserWarning)\n",
      "C:\\Users\\jay\\Anaconda3\\lib\\site-packages\\scipy\\stats\\stats.py:1713: FutureWarning: Using a non-tuple sequence for multidimensional indexing is deprecated; use `arr[tuple(seq)]` instead of `arr[seq]`. In the future this will be interpreted as an array index, `arr[np.array(seq)]`, which will result either in an error or a different result.\n",
      "  return np.add.reduce(sorted[indexer] * weights, axis=axis) / sumval\n",
      "C:\\Users\\jay\\Anaconda3\\lib\\site-packages\\seaborn\\axisgrid.py:1847: UserWarning: JointGrid annotation is deprecated and will be removed in a future release.\n",
      "  warnings.warn(UserWarning(msg))\n"
     ]
    },
    {
     "data": {
      "text/plain": [
       "<seaborn.axisgrid.JointGrid at 0x202372047f0>"
      ]
     },
     "execution_count": 16,
>>>>>>> 80e3dde8f303f5933c136400d100a54031f18ca2
     "metadata": {},
     "output_type": "execute_result"
    },
    {
     "data": {
<<<<<<< HEAD
      "image/png": "iVBORw0KGgoAAAANSUhEUgAAAsgAAALICAYAAABiqwZ2AAAABHNCSVQICAgIfAhkiAAAAAlwSFlzAAALEgAACxIB0t1+/AAAADh0RVh0U29mdHdhcmUAbWF0cGxvdGxpYiB2ZXJzaW9uMy4xLjAsIGh0dHA6Ly9tYXRwbG90bGliLm9yZy+17YcXAAAgAElEQVR4nOzdd3iUVcL+8e+TSQ8pJIFQQkggQKhBaVIVFAHpiAJiQde+rttE3deyvFhWl/W3vl66q2JfFaUJooIKilRpAlKkhZIeQhLSy2Tm+f2BZKMiLZk8k5n7c11cCZnJnDszIdwcznOOYZomIiIiIiJyio/VAURERERE3IkKsoiIiIhILSrIIiIiIiK1qCCLiIiIiNSigiwiIiIiUouv1QEugrbdEBEREasZVgcQ19EMsoiIiIhILSrIIiIiIiK1qCCLiIiIiNSigiwiIiIiUktjvEhPRMSrvLrtVasjXJA7e91pdQQRkTrRDLKIiIiISC0qyCIiIiIitaggi4iIiIjUooIsIiIiIlKLCrKIiIiISC0qyCIiIiIitaggi4iIiIjUooIsIiIiIlKLDgoREWlE7A47+eX5VFRXnPrlqAAT/H39CbAFEOgbSGRQJIG+gVZHFRFptFSQRUTcVGphKutT1zNv1zyySrI4XnqckxUnMTHP+bmh/qFEB0fTokkLEpom0K5pO1o1aYXNx9YAyUVEGjcVZBERN1FZXcmqI6v46IeP+Dzlc9KK0gAIsAXQKrQVHaM60jykOVHBUQT7BhPoG0iAbwAAVY4qqhxVlFeXk1eWx4myE+SW5bL7+G42pm+seZxO0Z3o0bwHPWJ6EB4YbtnXKiLizlSQRUQs5DSdrDy8kjd3vMknBz6hpKqEUP9QRiSOYGbcTAbGDWRT+qaLnvk1TZO88jwOFxzmUP4hdh/fzfc538MuSIhIoF9sP/q06kMT/yb1/JWJiDRehmme+7/q3EyjCywi8nMZRRm89t1rvLnjTY4VHiMyKJLJnSczIWkCwxKG1cwMA7y67dV6G9c0TTKLM9mZs5NtWdtIL0rHZthIjklmcNvBdI7ujGEYdRrjzl531lNaEbdWtz8o4tY0gywi0oB2Zu/kuY3PMW/3PBxOB1e1u4q/D/874zuN/0kpdhXDMGgd1prWYa25psM1pBWlsTFtI5szNvNd9ne0bNKSYQnDuCz2Mvxt/i7PIyLijjSDLCLSANYeW8sTa57gy8NfEuIXwu2X3s79/e6nXdN25/zc+pxB/jV2h51tWdtYdWQVqYWphPiFcGW7KxkWP4wgv6ALeizNIIuX0AyyB1NBFhFxofWp6/nr6r+y6sgqYkJi+ONlf+TOXnfSNKjpeT9GQxTk00zTJKUghRWHVrDr+C6CfIMYljCMKxOuJMQ/5LweQwVZvIQKsgdTQRYRcYHdx3cz88uZrDi0guYhzXl44MPc1fsugv2CL/ixGrIg15ZamMpnBz9je/Z2gnyDGJk4kmEJw8659EIFWbyECrIHU0EWEalHOSU5PP7147y2/TXCAsJ4ZPAj3Nvn3osqxqdZVZBPSy9KZ+n+pXyf8z0RARGM7jiagW0G/urOGirI4iVUkD2YCrKIeB1XFM4qRxUrD69kxaEV2J12roi/gtEdRnvU9mmH8g+x+IfFpBSkEBsay5RuU+gY1dHqWHWiMi91oILswVSQRcTr1GdBdppONmdsZsm+JRRUFNAzpieTOk8ipklMvY3hTkzTZHv2dhbuXUheeR59WvVhUudJRAZFWh3toqggSx2oIHswbfMmInKRDuQdYOHehRwrPEZceBy3XXJbo59RPRfDMLi05aV0a96Nzw99zucpn7MzZyejEkcxvN1w/Gx+VkcUEakzzSCLiNep6wxyTkkOi/ctZkf2DpoGNmVC0gT6tu6Lj+FTTwkbjxNlJ1i4dyHbs7cTHRzN9V2up0dMjzofNtJQNIMsddA4vsnloqggi4jXudiCXFpVyqcHP2X10dX4+vgyInEEw9sN14EawA+5P/Dhng/JKskiOSaZad2mXdBWdlZRQZY6UEH2YCrIIuJ1LrQgVzurWX10NZ8e/JRyezkD4wYyruM4wgPDXZSwcXI4Haw6soqP93+MzcfGhKQJXN72creeWVdBljpQQfZgWoMsIvIrnKaTbVnb+HjfxxwvO07n6M5c1+U6Woe1tjqaW7L52Li6/dVc0uIS3tv1Hh/s/oAtGVu4sceNtAptZXU8EZHzphlkEfE655pBNk2Tvbl7+WjfR6QVpdEqtBWTkibRrXm3RrO21mqmafJtxrcs2LOAiuoKRiWOYmTiSLe7iE8zyFIH+mHgwTSDLCJSy5GCI3y07yP25+0nKiiKW3ve6rUX4NWFYRj0j+1Pt2bdmL93Pp8c/IRtWdu4qcdNtI9sb3U8EZGz0gyyiHidM80gZ5dks2TfErZnbyfUP5RrOlzD4LjBbjfj2VjtPr6b93a9R0F5AcPbDWdcp3Fu8dxqBlnqQDPIHkwzyCLi1TKKMlh+aDlbM7fib/NnTMcxDG83nEDfQKujeZRuzbvx18v/ysK9C/ni8BfsOr6LGT1nEB8Rb3U0EZFf0AyyiHidV7e9ytGTR1l+aDk7sncQYAtgSNshXN3+asICwqyO5/H2HN/DO9+/Q1FlESPaj2B0h9GWzSZrBlnqQDPIHkwFWUS8RrWzmiX7lvDwyodJKUgh2C+YofFDGZYwjCb+TayO51XK7GXM3zOfjekbaR3amhk9ZxAXHtfgOVSQpQ5UkD2YCrKIeLzM4kze3P4mc7+by7HCY0QHRzMsfhgD2gwgyC/I6nhebWfOTt79/l1KqkoY02EMIxNHYvOxNdj4KshSByrIHkwFWUQ8UpWjihWHVvD69tf59MCnOEwHQ+OHcn+/+8kuydauFG6ktKqUebvnsSVzC+2btue2S24jOji6QcZWQZY6UEH2YCrIIuIxHE4Ha46tYd7ueSzcu5CCigJiQmKY0XMGt196O4mRicDFHzUtrrUpfRPv734fgKndpnJZ68tcvu+0CrLUgQqyB9MuFiLSqJXZy/gi5QuW7l/KJwc+4UTZCUL8QpjYeSLTuk1jeLvhbrGdmJxbv9h+JEYm8saON3hrx1vsytnF9O7TCfEPsTqaiHgZFWQRaVScppPvc77ni5Qv+PLwl6w9tpZKRyXhAeGM7jiaCZ0mMLrjaIL9gq2OKhchKjiKP/f/M5+nfM7H+z/mcMFhbu15K52iO1kdTUS8iJZYiIhbq6yuZGvmVtalrmNd2jrWp66noKIAOLW37vB2wxndYTRD2g4575liLbFoHI6ePMob29/geOlxhrcfzoROE+r9Aj4tsZA60BILD6YZZBFxK3lleXyb/i3r09azNnUtWzK2UOmoBCApOolrO1/L4LaDuardVbQKbWVxWnGl+Ih4Hhn8yKnDRVK+4GDeQW6/9PYGu4BPRLyXZpBFxDJO08ne3L1sTNvIhvQNbEzbyP68/QD4+vjSq2UvBsUNYlDcIAa2GUizkGb1Mq5mkBufbZnbeOf7dzAwuDn5Zi5teWm9PK5mkKUONIPswTSDLCINprCikE0Zm2oK8ab0TRRWFgIQHRxN/9j+zOg5gwFtBtC7VW+tI5YavVr1om1EW+Z+N5dXtr3C5W0v57ou1+kCTBFxCRVkEXGZKkcV36Z/yxcpX/BFyhdszdyKiYmBQfeY7kztNpUBbQbQP7Y/iZGJLt/SSxq36OBoZg6YyZJ9S/jy8Jek5KdwR687aNGkhdXRRMTDaImFiNQb0zQ5mH+wphB/ffRrSqpKsBk2Lou9jKvaXcWguEH0bd2XsIAwy3JqiUXjtytnF2/ueJNqZzXTuk+jf2z/i3ocLbGQOtC/6D2YCrKI1IlpmuzI3sHCvQtZ+MNCDuQdAKB90/Zc3f5qrm5/NUPjhxIeGG5x0v9SQfYMBeUFvL79dQ7mH2RQ3CCmdp16wUsuVJClDlSQPZiWWIjIRUnJT+E/3/+Hd79/l5SCFGyGjSvir+D+vvczMnEk7SPbWx1RPFzToKb88bI/8vH+j1mRsoLUwlTu6nWXdrkQkTrTDLKIm3LHWc7K6kq2ZG5hQ9oGUgpSMDBIik6iT6s+PDfiuUZTTNzxuZW62Zm9kzd3vIlhGNzW8za6x3Q/r8/TDLLUgWaQPZhmkEXknDKLM/nm2Dd8m/4tFdUVtGzSkklJk+jbui9Ng5oCNJpyLJ4puUUyjwx+hFe2vcKLW15kVOIoxnUah4/hY3U0EWmEVJBF5IxM02RP7h5WHl7JDyd+wNfHl0tbXsrlbS+nfdP22nFC3E6zkGY8OPBBPtz9IcsPLefIySP85pLfWHpBqIg0TirIIvITDqeDTRmb+PLwl2QWZxIREMGEpAkMjhtME/8mVscTOSt/mz83Jd9Eu8h2zNs1j6fWPsVdve6iXdN2VkcTkUZEBVlEALA77GxI28DnKZ+TV55HbGgsM3rOoE+rPvj66EeFNC4D2wwkLjyOl7e+zD82/IOp3aYyOG6w/udDRM6L/tYT8XIOp4N1qev49OCnFFYWkhCRwLRu0+jWvJvKhDRqbcLa8D+D/oc3tr/Be7ve4+jJo0zrNk2n74nIOakgi3gp0zTZnr2dJfuWkFOaQ2JkIrddchudojqpGIvHCPEP4bd9f8snBz7h04OfklaUxj297yEyKNLqaCLixrTNm4ibcuVWZIfyD7Hoh0UcLjhMyyYtmZg0kR4xPVSMxaPtzNnJG9vfwNfHl9svvZ3O0Z21zZvUhX5gejAVZBE35YqCnFWcxUf7PmJnzk7CA8IZ12kc/WP7Y/Ox1ftYIu4opySHl7e9TFZxFhOTJrLw+oX6h6FcLH3jeDAVZBE3VZ8FubCikGUHlrEudR0BvgGMaD+CKxOuJMA3oN7GEGksKqoreGfnO2zL2sbkLpN5Y9wbhAaEWh1LGh8VZA+mNcgiHqzcXs4Xh79g5eGVOJwOroi/gtEdRqsMiFcL9A3kjkvvIOFwAot/WMye43v4aMpHdIruZHU0EXETmkEWcVN1mUGudlaz9thaPj34KcVVxfRu1ZsJnSbQLKRZPSYUafwSIxOZsnAKldWVvDPxHSYkTbA6kjQemkH2YJpBFvEgpmmyLWsbS/YtIbcsl45RHbmv833ER8RbHU3ELQ1LGMa2O7cxef5kJn44kUcGP8L/XvG/Wpcv4uVUkEU8xIG8Ayz6YRFHTx6lVWgr7utzn/YyFjkPceFxrLl1Dfd9dh9PrX2KrZlbef/a97UVnIgXU0EWaeQyizNZ/MNidh3fRURgBDcn30z/2P74GD5WRxNpNAJ9A3lt3Gv0a92P+5bfR+9Xe7N4ymJ6tuhpdTQRsYAKskgjVVBewLIDy9iQtoFA30AmJk1kWMIw/G3+VkcTabTu6HUHPWJ6cO38a+n/en/mjp3LjT1utDqWiDQwFWSRRqbcXs6KlBWsOrwKE5NhCcO4psM1NPFvYnU0EY/QL7Yf2+7cxpSFU7jpo5vYnLGZ565+TkdUi3gRFWSRRqKyupKvj37NFylfUGovpW+rvoxPGk90cLTV0UQ8TkyTGL686UseXvkw/+/b/8f27O0suG4BLZq0sDqaiDQAFWQRN2d32Fmbupblh5ZTVFlEt2bdGJ80nrjwOKujiXg0P5sfz414jj6t+/Cbj3/Dpa9cysLrFzKgzQCro4mIi6kgi7gph9PBxvSNfHLgEwoqCugY1ZG7et1FYmSi1dFEvMrUblPp2qwrEz+cyBVvXcHzI5/nnt73aIcYEQ+mg0JE3Ey1s5p5u+bxwBcPcLzsOAkRCYxPGk9SVJL+QhapZ3f2uvO873uy4iQ3Lr6RTw9+yrRu03h5zMuEBYS5MJ24Of1A9mAqyCJuosxexuvfvc5zG5/jWOExYsNiGddpHD2a91AxFnGRCynIAE7TydNrn2bW6lm0jWjLvGvn0bd1XxelEzenH8weTAVZxGJ5ZXm8tOUlXtj0AnnleQxsM5CHBj5ERnGG9jIWcbELLcinrU9dzw2LbyCzOJOnhj3FAwMe0J9X76OC7MH0p1nEIqmFqfxhxR+Iez6Ov67+K/3b9GftrWtZd9s6xnYaq79sRdzYwLiB7LhrB+M7jeehlQ8x8t2RZJdkWx1LROqJLtITaUBO08mXKV/y8raXWbZ/GQA3dL+BBwc+SLfm3SxOJyIXomlQUxZct4C5383l9yt+T/LLybwz4R1GJI6wOpqI1JEKskgDOF56nDe3v8mr373K4YLDRAdH8+f+f+bePvfSNqKt1fFE5CIZhsGdve5kYJuBTF00lZHvjeQP/f7A01c+TZBfkNXxROQiqSCLuIjTdLL22Fpe3vYyi/Yuwu60M6TtEJ4c+iSTOk8iwDfA6ogiUk+6Nu/K5ts3M/PLmTy/6Xk+O/QZb094m8tiL7M6mohcBF2kJ1KPTNNkZ85O5u2ax7zd80grSiM8IJxbkm/hrt530aVZl/N+rFe3verCpCICF3+R3tmsOryK2z6+jfSidB4c8CB/veKvBPoG1vs4YjldpOfBVJBF6sGh/EM1pfiHEz9gM2yMSBzBtG7TmNR5EsF+wRf8mCrIIq7nioIMUFRZxJ8//zOvbX+NDpEdeGXMKwxNGOqSscQyKsgeTAVZ5CKYpsme3D0s27+Mj/Z9xJbMLQAMjhvMDd1vYHKXyUQHR9dpDBVkEddzVUE+beXhldz9yd2kFKRwa89bmTN8DlHBUS4dUxqMCrIHU0EWOU9VjirWHFvDsv3LWHZgGUdOHgGgd6veTOk6hSldp9AmvE29jaeCLOJ6ri7IAOX2cp5Y8wRzNswhPCCcJ4c9yR2X3oHNx+byscWlVJA9mAqyyFmkFqay6vAqVqSsYMWhFRRVFhHoG8hV7a5ibMexjOk4hlahrVwytgqyiOs1REE+bVfOLu5fcT+rj64mOSaZF0a9wJC2QxpsfKl3KsgeTLtYiNRSUF7A6qOrWXl4JSuPrORA3gEAWjRpwfVdrmdsp7Fc1e6qi1pTLCLerXtMd766+SsW7l3In7/4M5e/dTkTkibw9LCn6dyss9XxRKQWzSCL1zjTjGxpVSmHCg5xKP8QB/IOcOzkMUxMAmwBdIzqSOfoznRu1pmWTVpiGJosEPE0DTmDXFuZvYznNjzHnA1zKLWXMiN5BrOumFWvy7TE5fSXggdTQRav8crWV8gvz+dg/kFS8lM4VHCIzOJMAGyGjfiI+JpCnBCRoPWBIl7AqoJ8Wm5pLk+vfZp/bf0XADOSZ/DQoIdo17SdpbnkvKggezAVZPFYDqeDPbl7WJe6jnWp61hxaAUFFQUABPoG0r5pexIjE0mMTCQ+Ih5/m7/FiUWkoVldkE87dvIYz6x7hjd2vIHD6WB6j+k80P8Busd0tzqa/DoVZA+mgiwewTRN0ovS2ZSxic0Zm9mcsZmtmVsptZcC0Cq0Fa1CW5HYNJHEqERah7bGx/CxOLWIWM1dCvJpGUUZPLfxOV7e+jLl1eUMjR/K7/v9njEdx+h/tdyPCrIHU0GWRulkxUm2ZGw5VYYzTxXi7JJsAPxt/vRs0ZO+rfrSt3VfBsUNIj4inrnfzbU4tYi4G3cryKflleXx2nev8dKWl0grSiM+Ip4ZyTO4pectxEfEWx1PTlFB9mAqyOLWTNMkuySbHdk7Tv3K2cH2rO0czD9Yc59OUZ3o2/pUGe7Xuh89YnoQ4Bvwi8fStmki8nPuWpBPq3ZWs2TfEl7Z9gqrDq/CxGRYwjBu7H4j45PGExkUaXVEb6aC7MFUkMVtOJwODuQd+EkZ3pG9g+Olx2vukxCRQHKLZHq37E2/2H70btWbiMCI83p8FWQR+Tl3L8i1HTt5jHd2vsNbO9/icMFhfH18uTLhSiZ3mcw1Ha5x2Z7s8qtUkD2YCrI0uGpnNYcLDrM3dy8/5P7A3hM/vs3dS3l1OXBqmUTXZl3p2aJnza8eMT3OuwyfiQqyiPxcYyrIp5mmybasbSzYs4AFexfUnOqZHJPMyMSRDG83nMtiLyPEP8TipB5PBdmDqSCLSzicDtKL0kkpSOFQ/iFS8lNIKUhhf95+DuQdoMpRVXPf2LBYujTr8pNCnBSdVO+7Sqggi8jPNcaCXJtpmuw6vovlB5ezImUF61LXUe2sxtfHl14tezE4bjD9YvvRq2Uv4iPitZ97/dKT6cFUkOWilNnLSCtMI60ojbTCNNKL0k+9X5TG4YLDHD159Ccl2N/mT0JEAh2iOtAlugtdmnWhc7POJEUnERYQ1iCZVZBF5Ocae0H+uaLKIjakbWDNsTWsObaGLZlban4WRwZF0rNFTzpFdTr1K/rU27jwOO2QcXFUkD2YCrLgNJ0UVRZxsuIkBeUFp95WFHC89HjNr5zSnFNvS069Pb2fcG3NQ5rTJqwN8RHxJEYm0r5pe9pHtqd90/bEhsVa/gNYBVlEfs7TCvLPVVZXsuv4LrZlbmNL5hZ2H9/N/rz9nKw4WXOfAFtAzZ7wrUJb0bJJS1qGtvzJ+82Cm1n+M9wNqSB7MBXkBrQ3dy+maWJicvp5P/3+uT7mMB1UOaqwO+zYnXbsDvup3//4vt1pr7m9vLqcMnsZpVWllNnLKKv+7/ul9h8/Zi+jpKqEkxUnKawoxDzL0xoZFEnzkOY0D2lOTEgMzUOa0zq0NW3C29AmrA2xYbG0DmtNoG+g65/EOlBBFpGf8/SCfCamaZJblsv+E/vZn7ef/Sf2cyD/ACn5KWSVZJFfnv+LzzEwCAsIIyIwgvDAcCICI069HxBOeEA4QX5BBPoGEugbSIAtoOb9QN9AAnz/+3t/mz++Pr7YDBu+Pr6nSnhoSwuehXqhguzBfK0O4E26/7s7TtPZYOMF+QYR7BdMiH/Iqbd+p95GBkUSGxZLiF9IzQ+5poFNT70NalrzseYhzYkOjtYJcyIiHsQwjJpJj8FtB//i9srqSrJLsskqySKzOJOs4ixySnMorCjkZOWpSZWTFSdJLUytmWSpqK6gorrirJMtZ/LYkMeYPXR2fX1pIvWm0c0gG4axAoi2OocAp16HE1aHkIum169x0+vXeOm1a9xOv34nTNMcaXUYcY1GV5DFfRiGsdU0zd5W55CLo9evcdPr13jptWvc9Pp5Bx+rA4iIiIiIuBMVZBERERGRWlSQpS60LUTjptevcdPr13jptWvc9Pp5Aa1BFhERERGpRTPIIiIiIiK1qCCLiIiIiNSigiwiIiIiUosKsoiIiIhILSrIIiIiIiK1qCCLiIiIiNSigiwiIiIiUosKsoiIiIhILSrIIiIiIiK1qCCLiIiIiNSigiwiIiIiUosKsoiIiIhILS4ryIZhvGEYxnHDMHb/yu3jDcP43jCMHYZhbDUMY5CrsoiIiIiInC/DNE3XPLBhDAFKgHdM0+x2htubAKWmaZqGYfQA5pummXSuxx05cqS5YsWK+g8sIiIicv6M+nogdRtLnfF1dNkMsmmaa4D8s9xeYv63nYcA59XUT5w4UQ/pRERERNyDuo37sXQNsmEYEw3D2Ad8Ctx2lvvd+eMyjK25ubkNF1BERETEBdRt3JulBdk0zY9+XFYxAXjiLPd71TTN3qZp9m7WrFnDBRQRERFxAXUb9+YWu1j8uByjvWEY0VZnERERERHv5mvVwIZhJAIpP16kdyngD+RZlUdEROrObreTnp5ORUWF1VFE6kVgYCCxsbH4+flZHUUakMsKsmEY84ArgGjDMNKBvwJ+AKZpvgxcC9xsGIYdKAemmK7aUkNERBpEeno6oaGhxMfHYxj1dpG/iCVM0yQvL4/09HQSEhKsjiMNyGUF2TTNaee4/VngWVeNLyIiDa+iokLlWDyGYRhERUWhi+i8j1usQRYREc+hciyeRN/P3kkFWURERESkFhVkERGRRmrFihV06tSJxMREnnnmmTPe549//CM9e/akZ8+edOzYkYiIiJrbRo4cSUREBGPGjGmoyGc0f/58unTpQteuXbnhhhvOeJ+RI0eSnJxM165dufvuu3E4HBc0xrZt2+jevTuJiYncf//9nL7saefOnfTv35/u3bszduxYioqK6vz1SOOngiwiInIO1dXVLnncCy15P//c3/72tyxfvpy9e/cyb9489u7d+4v7/fOf/2THjh3s2LGD3/3ud0yaNKnmtpkzZ/Kf//znojPUh4MHD/K3v/2N9evXs2fPHp5//vkz3m/+/Pns3LmT3bt3k5uby4IFCy5onHvuuYdXX32VgwcPcvDgQU4f7Xz77bfzzDPPsGvXLiZOnMicOXPq/DVJ46eCLCIiHuPo0aMkJSVxyy230KNHDyZPnkxZWRlwagbx8ssvp1evXowYMYKsrCwA5s6dS58+fUhOTubaa6+tuf+MGTP405/+xNChQ3nooYf45ptvamZiL7nkEoqLizFNk5kzZ9KtWze6d+/Ohx9+CMDq1au54oormDx5MklJSUyfPr1mxjI+Pp7Zs2czaNCgCy55tW3evJnExETatWuHv78/U6dOZenSpWf9nHnz5jFt2n+vob/yyisJDQ39xf0ef/xxPv744198fNasWdx0000MGzaMDh06MHfu3IvOf9rcuXP57W9/S9OmTQFo3rz5Ge8XFhYGnPrHSlVVVc3a4JSUFEaOHEmvXr0YPHgw+/bt+8XnZmVlUVRURP/+/TEMg5tvvpklS5YAsH//foYMGQLA8OHDWbRoUZ2/Jmn8LNsHWURExBX279/P66+/zsCBA7ntttv417/+xe9//3t+97vfsXTpUpo1a8aHH37II488whtvvMGkSZO44447AHj00Ud5/fXX+d3vfgfAgQMHWLlyJTabjbFjx/LSSy8xcOBASkpKCAwMZPHixezYsYOdO3dy4sQJ+vTpU1O2tm/fzp49e2jVqhUDBw5k/fr1DBo0CDi1t+66det+kf2999474wxmYmIiCxcu/MnHMjIyaNOmTc3vY2Nj2bRp068+L8eOHePIkSMMGzbsnM/h7Nmzf/W277//nm+//ZbS0lIuueQSRo8eTatWrX5yn8GDB1NcXPyLz/3HP/7BVVdd9ZOPHThwAICBAwficDiYNWsWI0eOPOPYI0aMYPPmzYwaNYrJkycDcOedd/Lyyy/ToUMHNm3axL333stXX331k8/LyMggNja25vexsdT5K0gAACAASURBVLFkZGQA0K1bNz7++GPGjx/PggULSEtL+9WvXbyHCrKIiHiUNm3aMHDgQABuvPFGXnjhBUaOHMnu3bsZPnw4cGp5QsuWLQHYvXs3jz76KCdPnqSkpIQRI0bUPNZ1112HzWYDThW4P/3pT0yfPp1JkyYRGxvLunXrmDZtGjabjZiYGC6//HK2bNlCWFgYffv2rSllPXv25OjRozUFecqUKWfMPn36dKZPn35eX+eZjg44244LH3zwAZMnT675ei7W+PHjCQoKIigoiKFDh7J582YmTJjwk/usXbv2vB+vurqagwcPsnr1atLT0xk8eDC7d+/+yVrp0z7//HMqKiqYPn06X331Ff3792fDhg1cd911NfeprKz8xeed7bl64403uP/++5k9ezbjxo3D39//vLOL51JBFhERj/LzkmgYBqZp0rVrVzZu3PiL+8+YMYMlS5aQnJzMW2+9xerVq2tuCwkJqXn/4YcfZvTo0Xz22WdcdtllrFy58ozF67SAgICa920220/WMdd+3NouZAY5Njb2J7Od6enpv5jJre2DDz7gpZde+tXbz9eZnt+fu5AZ5NjYWC677DL8/PxISEigU6dOHDx4kD59+pxx/MDAQMaNG8fSpUvp168fERER7Nix4yf3cTgc9OrVC4Bx48Zxzz33kJ6eXnN77ecqKSmJL774Ajg1m/3pp5+e6ykQL6A1yCIi4lFSU1NrivC8efMYNGgQnTp1Ijc3t+bjdrudPXv2AFBcXEzLli2x2+289957v/q4KSkpdO/enYceeojevXuzb98+hgwZwocffojD4SA3N5c1a9bQt2/fi84+ffr0mgvqav/6eTkG6NOnDwcPHuTIkSNUVVXxwQcfMG7cuDM+7v79+ykoKKB///7nleMvf/kLH3300RlvW7p0KRUVFeTl5bF69eozFtm1a9ee8ev4eTkGmDBhAl9//TUAJ06c4MCBA7Rr1+4n9ykpKalZM15dXc1nn31GUlISYWFhJCQk1KzlNk2TnTt3YrPZasacPXs2LVu2JDQ0lG+//RbTNHnnnXcYP348AMePHwfA6XTy5JNPcvfdd5/XcySeTQVZREQ8SufOnXn77bfp0aMH+fn53HPPPfj7+7Nw4UIeeughkpOT6dmzJxs2bADgiSeeoF+/fgwfPpykpKRffdznn3+ebt26kZycTFBQEKNGjWLixIn06NGD5ORkhg0bxt///ndatGjRIF+nr68vL774IiNGjKBz585cf/31dO3aFfjlRXbz5s1j6tSpv5jtHTx4MNdddx2rVq0iNjaWzz//HIBdu3b96tfRt29fRo8ezWWXXcZjjz121lnr8zFixAiioqLo0qULQ4cOZc6cOURFRQGnlqYAlJaWMm7cuJrnunnz5jVF9r333uP111+v2QLu1y5U/Pe//83tt99OYmIi7du3Z9SoUTXPTceOHUlKSqJVq1bceuutdfp6xDMYZ/vvIXfUu3dvc+vWrVbHEBGRM/jhhx/o3LmzZeMfPXqUMWPGsHv3bssyeIIRI0bUlOXaZs2aRZMmTXjggQcsSGWdX/m+rrcj9tRtLHXG11EzyCIiIvITZyrHIt5EF+mJiIjHiI+P1+yxC82aNcvqCCINQjPIIiJSrxrb0j2Rs9H3s3dSQRYRkXoTGBhIXl6eSoV4BNM0ycvLIzAw0Ooo0sC0xEJEROpNbGws6enp5ObmWh1FpF4EBgb+5BQ+8Q4qyCIiUm9OH/YgIudvb+5eyu3lBPkFWR1FfqQlFiIiIiIWKreX4zAdVseQWlSQRURERCymdfvuRQVZRERExGJO02l1BKlFBVlERETEYirI7kUFWURERMRiJlpi4U5UkEVEREQsphlk96KCLCIiImIxFWT3ooIsIiIiYjEVZPeigiwiIiJiMYdT+yC7ExVkEREREYtVO6utjiC1qCCLiIiIWMzutFsdQWpRQRYRERGxmN2hguxOVJBFRETEY1RWV1JaVWp1jAumJRbuRQVZREREPEJJVQlpRWmNsmxqiYV78bU6gIiIiEhdnSg7QX55vtUxLpqWWLgXFWQRERFptJymk6ziLErtjW9ZRW2Ncdbbk6kgi4iISKNU5agisziTKkeV1VHqTEss3IsKsoiIiDQ6JVUlZJdke8wJdFpi4V5UkEVERKRRySvLI688z+oY9UpLLNyLCrKIiIg0Ck7TSXZJNiVVJVZHqXdaYuFeVJBFRETE7XnSeuMzqaiusDqC1KKCLCIiIm6ttKqUrJIsj1lvfCZl9jKrI0gtKsgiIiLitvLL8zlRdsLqGC6nguxeVJBFRETE7XjyeuMzKbeXWx1BalFBFhEREbdid9jJKM7w2PXGZ6IZZPeigiwiIiJuo8xeRlZxFg7TYXWUBmMYhgqym1FBFhEREbdQUF5Ablmu1TEanI/ho4LsZlSQRURExFKmaZJdkk1xVbHVUSyhgux+VJBFRETEMtXOajKLM716H2Afw4fCykKrY0gtKsgiIiJiiYrqCjKLM73+mGVfH19OVpy0OobUooIsIiIiDa6osoickhxMTKujWM7mY1NBdjMqyCIiItKgTpSdIL883+oYbsNm2LTEws2oIIuIiEiDcJpOsoqzKLWXWh3FrWgG2f2oIIuIiIjL2R12MoszqXRUWh3F7fgavuRX5GOaJoZhWB1HAB+rA4iIiIhnq6iuILUwVeX4V9h8bFQ5qrx6Jw9347KCbBjGG4ZhHDcMY/ev3D7dMIzvf/y1wTCMZFdlEREREWsUVRaRVpjmVSfjXSibjw1A67LdiCtnkN8CRp7l9iPA5aZp9gCeAF51YRYRERFpYCfKTpBdkq2dKs7Bz8cPgJzSHIuTyGkuW4NsmuYawzDiz3L7hlq//RaIdVUWERERaTjefjLehTpdkLNLsi1OIqe5y0V6vwGWWx1CRERE6sbhdJBRnKH1tBfAz6aC7G4sL8iGYQzlVEEedJb73AncCRAXF9dAyURERORCVDmqyCjKwO60Wx3F7dXuNm3i2gCQVZxlZSSpxdJdLAzD6AG8Bow3TTPv1+5nmuarpmn2Nk2zd7NmzRouoIiIiJyXMnsZqYWpKsfnqXa3ad6sORGBEZpBdiOWzSAbhhEHLAZuMk3zgFU5REREpG4KKwo5XnpcF+PVQYsmLcguVUF2Fy4ryIZhzAOuAKINw0gH/gr4AZim+TLwOBAF/OvHTbGrTdPs7ao8IiIiUv90bHT9aNGkhZZYuBFX7mIx7Ry33w7c7qrxRURExHVM0ySnNIeiyiKro3iElk1a8m36t1bHkB/pJD0RERG5IE7TSUZxhtuWY6fptDrCBUuISDi1htuhNdzuQAVZREREzlu1s5q0wjTK7GVWRzmjjekbGfD6AFLyU6yOckHaR7bHYTpIK0qzOoqggiwiIiLnqbK6ktTCVCodlVZH+YWK6gqeXvs0M5bMYF/ePu7+9G6rI12Qdk3bATS6Yu+pVJBFRETknEqrSkkrSqPaWW11lF/Yc3wP186/lrd3vg1Ar5a9eOmalyxOdWHaN20PQEqBCrI7sPygEBEREXFv7rqNW7WzmrnfzeXFzS9S7azG18eXe/vcy+NDHicqOMrqeBekdVhr/G3+HC44bHUUQQVZREREziKvLI+88l89y8syx04e46GVD7E9eztw6iK3OcPn0D2mO74+ja/e+Bg+JEQkaAbZTTS+7yARERFxOafpJLskm5KqEquj/IRpmszfM5+/rfsb5dXlANzU4yYeGPAAgb6BFqerm/aR7TWD7CZUkEVEROQnqhxVZBZnUuWosjrKT+SW5vLoV4+y+thqAGJCYnjmqmcY0GaAtcHqSWLTRL45+g1O04mPocvErKSCLCIiIjVKqkrILsl2u72Ev0j5gse+foyTFScBGNNxDI8PeZzwwHCLk9Wf7jHdKbWXcqTgCO0j21sdx6upIIuIiAjgnsdGF1cW89Tap/ho30cAhAeEM+uKWVzT4RqLk9W/HjE9APg+53sVZItp/l5ERMTLOZwO0ovS3a4cb0rfxLgPxtWU40FtBrFs2jKPLMcAXZt1xcBgZ85Oq6N4Pc0gi4iIeLGK6goyizPdan/jyupKnv/2ed7c8SYmJoG+gTw44EFu6H4DhmFYHc9lQvxD6BDVge9zvrc6itdTQRYREfFS7ri/8Q+5P/Dglw9yIP8AAN2bd+fvw/9ec9Kcp+sR04Pvsr6zOobXU0EWERHxMqZpklOaQ1FlkdVRajicDl7f/jovbHoBu9OOzbBxb597uavXXfjZ/KyO12CSY5JZuHchxZXFhAaEWh3Ha6kgi4iIeJFqZzWZxZlUVFdYHaVGWmEaD658sGbmND4injnD59RctOZNTn/Nu47v8pjt6xojXaQnIiLiJcrt5aQWprpNOTZNkwV7FjDug3E15fjG7jeyZMoSryzHAD1b9ARgW+Y2i5N4N80gi4iIeAF3W298ouwEj371KF8f/RqAZsHN+NuVf2Nw28EWJ7NWm7A2tA5tzYb0Dfyu3++sjuO1VJBFREQ8mGma5Jbl1hyw4Q6+TPmSx75+jIKKAgBGJY5i1hWziAiMsDiZ9QzDYGDcQNanrrc6ildTQRYREfFQTtNJVnEWpfZSq6MAp07pe2rNUyzetxiAsIAw/nr5XxnTcYzFydzLwDYDmb9nPmmFabQJb2N1HK+kNcgiIiIe6PThH+5SjrdkbGHcvHE15XhAmwEsm7ZM5fgMBrYZCMD6NM0iW0UzyCIiIh6mylFFRlEGdqfd6ihUOar457f/5M3tpw79CLAF8MCAB7ixx434GJqnO5MeMT0I9gtmfep6pnabanUcr6SCLCIi4kHK7eVkFmfiMB1WR2HfiX3M/HImB/JOHfrRtVlX5lw9h/ZN21uczL352fzo17ofG9I3WB3Fa+mfbiIiIh6ipKqE9KJ0y8uxw+lg7ndzmTx/MgfyDmAzbPy2z2/5cPKHKsfnaWCbgezM3klJVYnVUbySCrKIiIgHKCgvILM40/Jt3NKK0rjpo5v4x4Z/YHfaaRvelvevfZ/7+93vVSfi1dWQtkNwmA7WHFtjdRSvpIIsIiLSyOWW5pJblmtpBtM0Wbh3IePmjWNb1qlDLqZ1m8aSqUtqDr+Q8ze47WCCfINYcWiF1VG8ktYgi4iINFKmaZJdkk1xVbGlOfLK8nj060f56shXwKlDP5668ikub3u5pbkas0DfQIYmDFVBtohmkEVERBqh09u4WV2OVx1ZxZh5Y2rK8cjEkSybtkzluB6MbD+Sg/kHSclPsTqK11FBFhERaWTsDjtpRWmUV5dblqGkqoT/WfU/3PvpveSX5xPqH8rfh/+d50c8T9Ogppbl8iSjOowC0CyyBVSQRUREGpHK6krSitKoclRZlmFr5lbGfzCeRT8sAuCy2MtYNm0Z4zuNxzAMy3J5msTIRBIjE1l+aLnVUbyO1iCLiIg0EqVVpWSVZOE0nZaMX+Wo4v82/R+vf/d6zaEffx7wZ27qcZMO/XCRke1H8saON6ioriDQN9DqOF5D380iIiKNQGFFIZnFmZaV4/0n9jN5/mRe++41TEy6NuvK4imLuSX5FpVjFxrVYRRl9jLWHltrdRSvou9oERERN3ei7AQ5pTmW7HHscDp4/bvXuXb+tezP24+P4cM9ve/hg8kfkBiZ2OB5vM0V8VcQ5BvE0v1LrY7iVVSQRURE3JTTdJJRlEF+eb4l46cXpXPLklv4+4a///fQj0nv84fL/oC/zd+STOfDk2a0g/2CGdVhFIt+WGTZ/x54I8/5DhIREfEgVY4qUgtTKbWXNvjYpmmy+IfFjJs3ji2ZWwCY2m0qH035iEtaXtLgec5XgC2ANmFtCA0ItTpKvZrceTLZJdlsSNtgdRSvoYv0RERE3ExJVQnZJdmWzBjml+fz+NeP8+XhL4EfD/0Y9hSXx7vvvsY2w0ZUcBQRgRFWR3GJ0R1H42/zZ+HehQyKG2R1HK+gGWQRERE3kleWZ9nFeF8f+Zox74+pKcdXt7uaj6d97Lbl2MAgIjCC+Ih4jy3HAGEBYYxKHMX8PfNxOB1Wx/EKmkEWERFxAw6ng+ySbEuWVJRUlfDMumdYsHcBAE38m/DYkMfcel/jsIAwooKi8LP5WR2lQdzY40aW7l/KV0e+Ynj74VbH8XgqyCIiIharqK4gqzgLu9Pe4GN/l/UdD375IGlFaQD0a92Pv135N1qHtW7wLOcj1D+UqOAot75I0BXGdBxDeEA47+56VwW5Aaggi4iIWKiwopDjpccbfAu3KkcVL25+kbnfzcVpOvG3+fPn/n/m5uSb3XIXiCb+TYgKiiLAN8DqKJYI9A3kui7XMW/3PP51zb8I8Q+xOpJHc78/ASIiIl7ANE1ySnIs2d/4QN4Brl9wPa9sewWn6aRzdGcWX7+YGT1nuF05DvELoW14W1qFtvLacnzazck3U2ovrVkKI67jXn8KREREvIDTdJJRnEFhZWGDj/vm9je5dv61/HDiB3wMH+7udTfzr5tPh6gODZrlXIL9gokLj6N1WGuvL8anDYobRFJ0Eq9ue9XqKB5PBVlERNze8oPLGfb2MBL+L4Fhbw9j+cHlVke6aHaHndTCVMrsZQ06bkZRBrcsuYVn1j9DlaOKNmFteG/Se/yx/x/daj1vgC2A1qGtiQ2LJdA30Oo4bsUwDO689E42pm9kV84uq+N4NBVkERFxa8sPLue+5feRVZxFZGAkWcVZ3Lf8vkZZksvt5aQWplLlqGqwMU3TZMm+JYz7YBybMzYDMKXrFJZOXcqlLS9tsBznYjNsxITE0DairdbXnsXNyTfjb/PnlW2vWB3Fo6kgi4iIW5uzYQ7+Pv6E+IdgGAYh/iH4+/gzZ8Mcq6NdkKLKItKL0nGYDbePbX55Pr9f8XseWvkQJVUlRAdH8/Lol5k9dLbblFADg8igSBKaJhAeGG51HLcXFRzFlK5TeHvn2xRWNOwSHW+iXSxERMStHTl5hMjAyJ98LNgvmKMnj1oT6AKZpsmJshMUVBQ06LjfHP2G//nqfzhRdgKA4e2GM3vobCKDIs/xmQ0nxC+E5iHNvWYv41+TW5Z7QeuK48LjKKkq4faPb2fB9bpgzxVUkEVExK0lRCSQVZz1kxnPMnsZ8RHx1oU6Tw6ng6ySrAZdb1xaVcqz65/lwz0fAqdK6KNDHmVi0kS3OfTDz8ePZiHNaOLfxOoojVJceBwdIzvy1dGvqHZW4+ujOlfftMRCRETc2swBM6lyVlFaVYppmpRWlVLlrGLmgJlWRzuriuoKjhUea9ByvD1rOxM+nFBTjvu06sPH0z5mUudJblGOTy+niI+IVzmuoyvbXUl+eT6L9i6yOopHUkEWERG3NqrDKF4c9SItQ1tSUFFAy9CWvDjqRUZ1GGV1tF9VXFlMWmEa1c7qBhmvylHFPzf+kxsW30BqYSp+Pn48OOBB3p7wNrFhsQ2S4VyC/YJpG9GW6OBotyjrjV2PmB7EhMTw9LqncZpOq+N4HM3Ji4iI2xvVYZRbF+La8sryyCvPa7DxDuUfYuaXM9mbuxeATlGdmDN8Dp2iOzVYhrPx9fGlWXAzQgNCrY7iUXwMH67pcA1v7niTpfuWMrHzRKsjeRTNIIuIiNQD0zTJLslusHLsNJ28teMtJn44kb25ezEwuOPSO1h4/UK3KccRgRHER8SrHLtIn1Z96BDZgdlrZmOaDXsao6fTDLKIiEgdOZwOMoszKa8ub5DxMosz+cuqv/Bt+rcAxIbF8uxVz9K7Ve8GGf9cAn0DiQmJ0Ql4LmbzsfHI4EeYsXQGH+//mPFJ462O5DE0gywiIlIHVY4qUgtTG6Qcm6bJ0v1LGTdvXE05ntxlMkunLnWLcnz6sI+48DiV4wYyvcd0OkZ15OFVDzfYmndvoIIsIiJepT6PrS6tKiW1MBW7016PCc+soLyAP3z+Bx788kGKq4qJCoriX6P/xVPDnnKLHSHCA8KJj4jXYR8NzNfHl2evepZ9J/bx+nevWx3HY7isIBuG8YZhGMcNw9j9K7cnGYax0TCMSsMwHnBVDhERkdPq89jq/PJ8MoozGmQHgTXH1jB23lhWHFoBwJUJV7Js2jKuTLjS5WOfS4AtgLjwOGKaxGDzsVkdxyuN7zSewXGDeXz14xRXFlsdxyO4cgb5LWDkWW7PB+4H/uHCDCIi4qEuZia4Po6tNk2TrOKsmhPqXKnMXsas1bO4Y9kd5JblEuIXwtPDnuala14iKjjK5eOfjY/hQ/OQ5rSNaEugb6ClWbydYRj84+p/cLz0OM+uf9bqOB7BZQXZNM01nCrBv3b7cdM0twCu/38pERHxKBc7E3zk5BGC/YJ/8rELOba62llNamEqxVWun6Xbmb2TiR9MZN7ueQD0btWbpdOWcm2Xay3fRzgsIIyEiAQiAiMszSH/1bd1X27scSNzNsxh/4n9Vsdp9BrFGmTDMO40DGOrYRhbc3NzrY4jIiIWu9iZ4ISIhF+cbHe+x1aX2cs4dvIYlY7KukQ/J7vDzv9t+j+mLZrG0cKj+Pn48cCAB3hnwju0CWvj0rHPxd/mT5uwNrRo0kLLKeqodrcpKSipl8f8x/B/EOQbxL2f3att3+qoURRk0zRfNU2zt2mavZs1a2Z1HBERsdjFzgRf7LHVJytOklGUgcN01DX6WaUUpDB10VT+teVfOEwHHaM6svD6hdxx6R2WFlIfw4dmwc1oG96WIL8gy3J4ktrdpknT+rnIMqZJDM9c9QxfHfmK93e9Xy+P6a0aRUEWERGp7WJngi/02OrTh38cLz2Oietm5Jymk3d2vsPEDyay+/huDAx+c8lvWHT9IpKik1w27vlo4t+E+Ih4mgY1tXxph5zbnb3upF/rfvzpiz81yDp5T6WDQkREpNGZOWAm9y2/D6pOzRyX2cvOayYYzv/Y6mpnNZnFmVRUV9RH5F+VXZLNX1b9hQ1pGwBoHdqaZ696lj6t+7h03HPx8/GjeUhzQvxDLM0hF8bH8OHVsa/S+9Xe3PPpPcyfPF//sLkIrtzmbR6wEehkGEa6YRi/MQzjbsMw7v7x9haGYaQDfwIe/fE+Ya7KIyIinuNCZ4IvVLm9nNTCVJeX408OfMLYeWNryvGkzpP4eNrHlpZjA4OooCjiI+JVjhupHjE9mD10Ngv3LtRSi4vkshlk0zSnneP2bCDWVeOLiIhnO9+Z4AtVWFHo8iUVJytO8r/f/C+fHfwMgKaBTXly2JNc1e4ql415PkL8Qmge0hw/m5+lOaTuZg6YybIDy/jtZ7/l8vjLiQ1T5boQWoMsIiLCqfXGOSU55JTmuLQcrz22lrHzxtaU46HxQ/nkhk8sLcf+Nn9ah7amdVhrlWMPYfOx8faEt6l2VnPLkltwOF17gamnUUEWERGv53A6SC9Kp7Cy0GVjlNvLmf3NbG5fdjvHS48T7BfMk0Of5N+j/010cLTLxj0bm2Gr2Z1Cyyk8T2JkIi+MeoGvjnzF7G9mWx2nUdFFeiIi4tUqqivILM6k2lntsjG+z/memV/OrNmG7tKWl/LsVc8SFx7nsjHPJSIwgqigKO1n7OFu7Xkra1PX8sSaJxjQZgAjEkdYHalRUEEWERGvVVRZRE6J65ZU2B12Xt76Mv/e+m8cpgM/Hz/u73c/v7nkN5YV00DfQGJCYgjwDbBkfGlYhmHw0jUvsS1zG9MXT2f7XdtpE27tgTONgZZYiIiI1zFNk+Olx8kuyXZZOT5ccJipi6by4pYXcZgOOkR2YMF1C7iz152WlGObYSMmJIa48DiVYy8T7BfMwusXUuWoYvKCyS7fncUTqCCLiIhXcTgdZBRncLLipEse32k6eff7d5n44X8P/bit520sun4RnZt1dsmY5xIeEE58RDzhgeGWjC/W6xjVkbcnvM3mjM3ctvQ2HUV9DlpiISIiXqOyupLM4kzsTrtLHj+nJIe/rPoL69PWA9AqtBXPXPkM/WL7uWS8cwmwBRDTJIZA30BLxhf3MrHzRJ4a9hSPfPUIXZp14dEhj1odyW2pIIuIiFcorix26ZKKzw5+xqzVs2p2wpiYNJFHBj9CaECoS8Y7Gx/Dh6igKJoGNW3wscW9/WXQX9h3Yh+Pff0YnaI6cV3X66yO5JZUkEVExOPlluZSUFHgkscurChk9jez+eTgJ8CpQz+eGPoEw9sPd8l45xLqH0qzkGb4+uivePklwzCYO3YuKQUp3LLkFmLDYunfpr/VsdyO1iCLiIjHOr2/savK8Ya0DYydN7amHF/R9gqWTVtmSTn2t/kTGxZLy9CWKsdyVgG+AXw05SNah7Vm9Puj2Zu71+pIbkcFWUREPFJldSWphamU2cvq/bHL7eU8ueZJbl16KzmlOQT7BTP7itm8POZlmoU0q/fxzsbAIDo4mrbhbQn2C27QsaXxah7SnC9u/IIA3wBGvDuC1MJUqyO5FRVkERHxOMWVxaQWprrkYrxdObuYNH8S//n+PwBc0uISlkxZwpRuUzAMo97HO5sQvxDiI+KJDIps8LGl8UtomsCK6SsoqixixLsjOFF2wupIbkMFWUREPEpuaS5ZJVn1fjFetbOal7a8xNRFUzlccBhfH1/+eNkfeXfSu7SNaFuvY52Lr48vrUJb0TqsNX42vwYdWzxLcotklk1bxpGCI1zz3jUUVrjuuPXGRAVZREQ8givXGx8pOMINi27ghU0vUO2sJjEykfmT53N377sbdL2vgUFkUCQJEQk08W/SYOOKZxvSdggLrlvA9uztXPP+NRRXFlsdyXIqyCIi0ujZHXaXrDc2TZP3d73PxA8nsjNnJwC3JN/CousX0bV513od61yC/YJpG9GW6OBoLaeQeje201g+uPYDNqVvYsy8MZRWlVodyVK6zFVERBq1iuoKMooycJiOen3cnJIcHvnqEdamrgWgZZOW/O2qv9E/tmG3xLIZNpqFNCMsIKxBxxXvc22Xa3l30rtMXzydlhB2XgAAIABJREFU8R+MZ9m0ZQT5BVkdyxIqyCIi0miVVpWSVZKF03TW6+MuP7ScWV/P4mTlqeOox3Uax2NDHmvwkhoRGEF0cDQ+hv7DVxrG1G5TqXJUMWPJDMZ9MI4lU5YQ4h9idawGp4IsIiKNUlFlETklOfV6MV5RZRGzv5nNsgPLAIgIiOB/h/4vIxNH1tsY5yPQN5CYkBgCfAMadFwRgJuTbwbg1qW3MuLdEXx6w6eEB4ZbnKphqSCLiEijk1+eX+9bUm1M28jDqx4muyQbOHXh0lPDnqJ5SPN6HedsbIaN6OBorysj4n5uTr6ZIN8gblh8A1e+cyUrblxBdHC01bEajAqyiIg0GqZpkl2STXHV/2fvzsOjLK/Gj3+f2TKZbJONJBAgkUUBRVHcUAmCWNOi1rVYa7XiUitqbQ0oKmrckLRV36KtC61L3bCt1i0/ixtUcQNRCypGSAgJIZmsk8yS2e7fHzHTJASSTGYyk3A+19UL8mSe+zn4vkwO95z7nPCdsnf73Pzhwz/w5BdPAhBviGfpiUtZOG3hkB6Gs5qtpMeno9fph+yZQuzPedPOw2K0cM6ac5jzxBzWXrSWnKScaIc1JKSoSQghxLDQ2akinMnx1rqtnP3C2cHk+IisI3h54ctccOgFQ5YcxxviGZ8ynlEJoyQ5FjHnR5N/ROmFpVQ0VzD7idnsbN4Z7ZCGhCTIQgghYp7T66SypZJ2f3tY1vMFfPxp4584/+/ns71pOwadgeuOvY5nznmGPGteWJ7RF6POSE5iDmNTxkqtsYhpJ+efzNqL1mJz2DjprydR1lAW7ZAiThJkIYQQMa3J1RTWNm47m3dy4T8u5IGPHsAX8DEhdQIvnPsCvzr6V0My9EOv6cm0ZJJnzSMpLinizxMiHI4fezzvXvwuLp+Lk/56ElvqtkQ7pIiSGmQhhBAxKaAC1LbVhq2kQinFC1tfYMX7K3D5XEDHQaTfHv9bzAZzWJ6xPxoaqfGppMWnSds2ETaPbnp0SJ+3+OjFPPDRAxz3+HFce+y1Q/aJSzhccdQV/X6t/A0VQggRczx+T1jrjescdVz52pXc9t5tuHwushOz+euZf+Xmk24ekuQ4OS6Z/NR86Wkshr2cpBxumHUDZoOZ+z+6n+8av4t2SBEhf0uFEELElDZPG5UtlXj8nrCs9+Z3b3L6c6ezbuc6ABZMXsArC19h1thZYVl/fyxGC+NTxpOdmD0k5RtCDIXMhEyKZhWREpfCAx89wFe2r6IdUthJgiyEECJm1Dvr2d26OyyT8VrbW1m6dinX/r9raXY3kxKXwv0/uJ/fn/r7iPcZNulNjEkaQ25yrhzAEyNSanwqN8y6gayELB769CE+3/N5tEMKK0mQhRBCRF1ABai2V9PoagzLeh9VfdQxJnfbywCcOO5EXr3gVRKMCfz8pZ8z98m5/Pyln7OuYl1YntfJoDOQlZBFnjXvgBzPKw4syXHJ/Ob435CbnMsjmx7hk+pPoh1S2EiCLIQQIqo6+xs7vI5Br9Xua+fe/9zLxS9fzO7W3ZgNZpbPXs7jpz/ON/XfULy+GJvDhk7T8cWeL7jq9as449kzBp0o6zQd6fHp5FnzZAqeOKAkmBK4/rjrmZg6kb9s/gvvV74f7ZDCQhJkIYSIQaVlpcx9ci75D+Yz98m5lJaVRjukiOjsbxyOeuOvbF9xzppzeOKLJwCYnjWdl37yEhdOvxBN01i9eTUmnQmf8rGnbQ8BFUCn6djZspPi9cUhJ8kpcSnkW/NJt6TLATxxQDIbzFxz7DVMzZzK018+zVs73op2SIMmf5OFECLGlJaVsrh0MTWtNaSZ06hprWFx6eIRlySHq7+xL+Djzxv/zPkvnk9ZYxl6Tc81x1zDc+c8x0GpBwVfV2Wvwmww0+BsQENDp9Oh03T4lR+TzsTqzasH9Nw4fRxjk8eSlZglE/DEAc+kN3HVzKuYkT2DF796kTfK3kApFe2wQiZHaoUQIsaUbCjBpDMFa1gTTAng6bheOKkwytENnj/gp9ZRS5unbdBrVbZUsmTtEjbv2QxAvjWflfNXMj1r+l6vzU3Oxeaw4fF70GsdCW1ABTDpTZgNZqrt1f16Zmc5hdVsHbJx1EIMB0a9kcuPvJynvniKf237F26fm7MOOWtY/j2RBFkIIWJMeXM5aea0btcsRgsVzRXRCSiMXF4XNW01+AK+Qa2jlGLN1jWs+GAFTq8TgJ8d9jNumHUD8cb4Xu9ZNGMRxeuL0Wt6/AE/fP8zOz0+HbfPzZjkMX0+N8GYQFZilrRsE2If9Do9Fx9xMSaDiTe3v4kv4OO8qecNuyRZ/oYLIUSMybfmU9Na060LgtPrHFYTq3pT76wPS5cKm8PGLe/cwns73wNgVMIo7p13LyeOO3G/9xXkFbCc5fz+w9/zXeN3GDUjmZZMDDoDnoCHRTMW7fNeg85ApiVTRkML0Q86TcdPD/0pBp2Bt8vfRinF+dPOH1ZJsiTIQggRY4pmFbG4dDF4OnaOnV4nnoCHollF0Q4tJP6An92tu4PjnQfj39v/za3v3kqzuxmAH036EcsLlmM1W/t1f0FeAQV5BayrWMfqzauptleTmZDJohmLKMgr6PWelLgUMhMy5QCeEAOgaRrnTz0fDY23y98moAIsPHThsEmSJUEWQogYUzipkFWsomRDCRXNFeRZ84LJ8dwn51LeXE6+NZ+iWUUxX5Ps9rnZ3bp70CUVre2t3P2fu3npm5eAjv6rtxXcxoLJC0JarzNR3h+T3kRWQtY+SzaEEPunaRrnTT0PnaZj7Y61KBQLD104LP6xKQmyEELEoMJJhd2S387OFiadqVtni1Wsitkk2d5up7atFsXgTrJ/Uv0JS99ayu7W3QCcMPYE7pl3D9mJ2eEIcy9yCE+I8NE0jXOmnIOmafx7+78x6AzDoiZZEmQhhBgGhltnC5vDRpO7aVBrtPvaeeDjB/jr5r+iUMTp4yiaVcSF0y+M2A5USlwKGZYMadsmRBhpmsbZh5yNz+/j7fK3sRgtIX/6M1QkQRZCiBhRWlZKyYaSXksohktnC3/AT01bTbCzRH911gRX2avITc7l1Amn8sKWF/i28VsApmVOo+TUEiakTohE2FiMFjItmcQZ4iKyvhAHOk3TOG/aebh8Ll799lXiDfHMO2hetMPaJ0mQhRAiBvRVQjEcOluE2sJtXcU6itcXY9KZSDYlU9ZQxsfVHwOg1/T8cuYvuWrmVRj1xrDHLN0phBg6Ok3HRdMvwuVzsearNcQb45k1dla0w+pV7FdJCyHEAaBrCYWmaSSYEjDpTJRsKAE6Olt4Ah4cHgdKKRwex16dLaI5nrrR1cgu+66QDuN1joDW6/TsbNlJo7ujFZxZb+b5c5/n2mOvDXtyrKGRFp9GnjVPkmMhhpBep+eyGZcxJWMKT3/5NF/Zvop2SL2SBFkIIWJAeXM5FqOl27WuJRSFkwpZVbiKnKQcmtxN5CTlsKrwfwf0ojWe2h/wU22vpt5ZH/Iau1p24fK52N60HaevozQj1ZxKWnxarxPxBivBmMB463gyLBnD4jS9ECONUW/kyqOuJDsxm0c3Pcqetj3RDmkv8s4ghBAxIN+av1fdbs8SisJJhbxz8TvsuG4H71z8TrfDeV13oO3tdqpbq9nVsouf/vOnEUuS3T43lS2VOLyOkNeod9bj9DmpaashoAIYdAbGp4wn1ZzK2JSxYYwWjDojo5NGMyZ5DCa9KaxrCyEGJt4Yz9VHX41BZ+ChTx4Ky+j5cJIEWQghYkB/Sij2p3MHusXdQqW9Eo/fg0Ez0OZpi8hOsr3dzq6WXXgD3pDXeGvHW5z+3OnBoR8JxgQmWCeg1/R9TrYbCA2N9Ph08qx5JJoSw7KmEGLwMiwZ/HLmL2l0N/LIpkcG3S89nCRBFkKIGNBXCUVfOnegax21aGjodXoUinhDfLda5sFSSlHbVsuetj0h9zdu87Sx7O1lXP3G1TS6GkmOS2bRjEVMy5yGw+sgMyGT5bOX9znIoz+STEnkp+aTbkmP+b6rQhyIJqZN5KLpF/Ftw7e8uu3VaIcTJF0shBAiRvQcDjIQneOp3T43Bs1AIBDAp3xoAY3tTdupaK6gtKy0z/X312rOF/Cxu3U3bp87pBgBNu7eyJK1S6hurQbg+NzjWXHKirAP/YjTxzEqYZRMwRNiGDgu9zjKGst4c/ubTM2cysEZB0c7JNlBFkKIkaBzBzrBlIBXeYO7pUopdJoOnabrs9Rifwf9nF4nO5t3hpwce/weSjaU8LN//ozq1mri9HEsO2kZfznzL2FNjvWanqyELMZbx0tyLMQwcv7U8xmVMIq/fP4XHJ7QzzWEiyTIQggxQhROKuTZs59lXMq4jjILOsosFIrRSaP7LLXYV6u5e/5zD1X2KvzKH1Jc2+q3ce6ac3n8s8dRKKZlTuOln7zExYdfHLYuEhoaqeZU8lPzSTGnhGVNIcTQiTPEsWjGIlrbW/nbl39DqcGNqB8sSZCFEGIE6dxJDhBAoTDpTYxLHkeKOaXPyXs9W80ppTDoDCFP6/MH/Dz+2eOcs+YctjVsQ6fp+NXRv+KFc19gQlr4JuJ1tm3LTMiUtm1CDGPjreM54+Az+GzPZ/y37r9RjUVqkIUQYoQpnFTI8bnHD3jyXtdpfQEVwOv34vQ6GZM8ZsAxVNmrWPrWUjbu3gjA+JTxrJy/kiOyjxjwWvti0pvItGR2+zMKIYa3+QfN58OqD/n7V39nauZUDLropKryT20hhBiBQmkb13mP3W2n3deO0+sccLu198rfo/BvhZzy1CnB5HjhoQt5eeHLYUuONTQyLBmMTxkvybEQI4xep+e8qedR66jlvYr3ohaHJMhCCDEChdI2bv6E+dxecDtpljTs7fYBt1t7bdtrXPfmdexo3oFCodf0pMenMzdv7l5TAkOVYEwgz5pHWnyatG0TYoQ6dNShTMucxmvfvha1ASJSYiGEECPUQNrGOTwO9rTt4djcYzk299gBP+ud8ndY+vbSYKP/ZFMyOUk5eP1eVm9ePeiexgadgUxLJklxSYNaRwgxPJw79VzuWHcH71a8y+mTTx/y50csQdY07S/AAqBOKXVoL9/XgAeBHwJO4BKl1GeRikcIIUa6nj2M5+TN4b2K93rtadxJKYXNaQtOsxuoNk8b975/L3//6u8A6DQdOYk5pMSloGkaek1Ptb16UH8uq9lKhiVDDuAJcQAZnTSaqZlTeb/yfX448YfodfohfX4k322eAE7bz/cLgUnf/+8K4E8RjEUIIUa0nj2My+rLuHP9nZQ1lu3V07iT1+9ll31XyMnxxt0bOfP5M4PJcbIpmdykXKxma7D8we1zh3TIDzoO4Y1LGceohFGSHAtxAJozfg7N7ma+rP1yyJ8dsXccpdR6oHE/LzkTeEp1+AiwapqWE6l4hBBiJOvZw7jF04IOHS3ulm49jTv7ILd52tjZEtrgD4/fw+82/I6f/fNnVNmrMOlN3HTiTaycv5IAAVxeF0opXF7XgA/5QfdDeGaDecDxCSFGhsOyDiPVnMq6neuG/NnRrEEeA+zq8nXV99dqer5Q07Qr6NhlZty4cUMSnBDiwLO/Mcuxrry5nDRzWvDrdn87ek1Pu789eM1itFDeVI7NYaPJ3RTSc75t+JaitUV8U/8NAFMyplAyv4RJ6ZOAjhKL1ZtXU22vZkzyGBbNWLTP+uN1FetYvXk1VfYqcpNzWTRjEadNPI2sxCxMelNI8QkxXHTNbdKy0/p49YFJp+mYNXYWb5S9gcPjGNKuNdFMkHs7ftzr2BSl1KPAowAzZ86M7mgVIcSI1FmiYNKZupUkrGL/nR9iRdcexgBx+jjafe3EGeKCr3F4HMGuFgMVUAGe+PwJ/vDhH/AGvOg0HVcceQVXH3N1t2S2IK+gXwfy1lWso3h9MSadiZS4FGwOG/e8fw+5ybmMTRk74PiEGG665jbjp46X3GYfDsk4hNfLXmd703amZ00fsudGs6irCuj6LpgL7I5SLEKIA9y+xiz3Npq5tKyUuU/OJf/BfOY+ObdbXW+09Ox7nGJKIUCAFHMKSila21tx+pz84ohfDHjtans1F790Mfd9cB/egJdxKeN45uxnuP7460Pe6V29eTUmnYl4YzwGnQGr2YpZb97vKGwhxIEnz5qHQWegrKFsSJ8bzR3kV4DFmqY9DxwLtCil9iqvEEKIodCzRAHodTRzrO40F04qZBWrKNlQQkVzBZMyJnF53uW8V/Ee2xu3k5OUww0zbtjv7m7PkodLj7iUJncTd66/E4fXAcBPpv2EpScsHfRHnVX2KqxmKya9KXgAr69R2EKIA49JbyLPmkdZ4whJkDVNew6YA2RomlYF3AYYAZRSfwbeoKPF23d0tHkb+LaGEEKESc8SBeh9NHPXnWag41dPx/Vol2L07HvsD/i5dMalOL3OPu/tWfKwp3UP1715XfAQX4Ylg7tOvouT808edJw6TUe+NR+bw9btEF5fo7D7MpxryIUQ+zYuZRwfVH4wpM+MZBeLC5RSOUopo1IqVym1Win15++TY77vXnG1UmqCUuowpdTGSMUihBB96e9o5vLm8r2mwsXizqfT62Rny85+JcfQveShzdNGdWt1MDmef9B8Xr3g1bAkx4mmRPKseSw7aRle5R3QKOz96dnmrre2dkKI4SnJlES7vx2v3ztkz5TGkkIIQf9HM+db8/dKOge78xlOSinqnfVU2auCU+36o7Nd2+7W3VTaK/EpHzpNR6o5lT8W/pG0+MGdsjfqjIxJGsPopNEYdIaQRmHvz0BqyIUQw0uCseMTu/7+gz8cZNS0EEJ8r2uJQufH9b9641fdPq4vmlXE4tLF4OnYOXZ6nYPa+Qwnr99LTVtNSL2NU+JS+Lbx22BSbTFaSI9PZ3TS6ODQj1ClmlPJsGTstc5ARmH3pb815EKI2HTFUVfs83tWs5VntzxL4aRCDh2113DmiJAdZCGE6GF/H9eHe+czXFrbW0Ma/OHxe7j/w/v5uv7rYHKcZckiy5KFQg14yEdXcfo4xqWMIzMhc9BJdl9ifWdfCBG6zoO8/oB/yJ4pO8hCCNFDXwfxwrnzOVgBFaDOUYe93T7ge8sayljy1hK+sn0FQG5yLqnmVJpcTYxKHLXfIR+dehv2MSdvDumWdFLNqRFPjDvF8s6+EGJwattqAchOzB6yZ0qCLIQQPQyXj+udXid72vYMqNYYOpLqp754it9/+Hs8fg8aGpcfeTnXHHvNgPoa9zbs467/3EV2YjanH3z6QP84g9KzzV2eNU+6WAgxQtS01aDTdGRYMobsmZIgCyFED/1t+RYtnQfxQpmIt7t1Nze+dSMfV38MdOwa33fKfcwcPXPAa3XtfKGhkRyXjNvn5v6P7h/yBBnCW9MshIgde9r2kJWQhV6nH7JnSg2yEEL00N+Wb9HQ7munsqVywMmxUoqXv3mZ0587PZgcnzv1XP618F8hJcfQ0fnCbDCj1/SY9Cb0On1M7rQLIYa3/9b9lwlpE4b0mZIgCyFED7FyEK/nSOs1W9ZQ2VJJu799QOs0uhq57v9dx9K3ltLmaSM9Pp2Hf/Qwd8+9m0RTYsjxjU0eiy/gw6g3BmuNY2mnXQgx/Nnb7WzavYk54+cM6XOlxEIIIXoR7Y/ru460To1LpbK5kt+u/S3LZy/v8+BcV+t2ruPmt2/G5rQBMC9/HneefCfplvSQY9PQSI1P5dbZt3LN/7sGh8chB+OEEBHxfuX7+JWfOXlzhvS5kiALIUQM6uykYTaY8QQ8mI1mlFexevPqYILcWweJzu85PA7u++A+Xtj6AtDRaP/mk27m7ClnD6qzhMVoYVTCKEx6Ez+c/EM0TZODcUKIiHm3/F1MehOzxs4a0udKgiyEEDFoR9MOkkxJeAP/G61qNpiptlcDvXeQKF5fzHKWk2JOYcnaJexs2QnAzNEzWXHKCsYmjw05HoPOQKYlk6S4pG7XI73T3jmwpby5vNvAFiHEyOcP+Fnz1Rrm5M0h3hg/pM+WBFkIIWKMvd1OdmI2Noet2w8Ft8/NmOQxQPcOEgDxxniUR3HT2zfR4GoAOkohzp5yNneefGfIp781NKxmK+mW9GCz/qHStcyk68CWVUR/MIsQIvLW7lhLZUslJfOHfmS8HNITQogY4Qv4qLZXs6dtD4tmLMIT8ODyulBK4fK68AQ8wcl2nR0kOrX72qlqrQomx3H6OEYnjebj6o95v/L9kOKJN8Qz3jqezITMIU+OofvAFk3TSDAlYNKZKNkw9D8shRBD77HPHiPDksGZB5855M+WBFkIIWJAa3srFc0VOLwOAAryClg+ezmZCZnY2+1kJmR2O6CXm5yL2+dGKUWDs4HtTduD5Rjp8ekclHoQVrMVk87E6s2rBxSLXtOTnZjN2JSxAxocEm7lzeVYjJZu16SNnBAHhj1te3hl2ytcfPjFxBnihvz5UmIhhBBRtL9R0QV5BfvsWLFoxiKWv7ecmrYaXD5X8Pqo+FFkJmYGv+5at9xTb4f8FkxewKiEUUPakH9fYn1gixAiclZ+sJKACnDlUVdG5fmygyyEEFHSOfSjt+R4f5RSNLc30+JuCSbHmZZMJqZOJDGue1/jrnXLXXUe8rM5bMFDfve8fw+f7/k8JpJjiO2BLUKIyKm2V/Pwpw9z8eEXMyl9UlRikARZCCGioNndTGVLJR6/Z0D3Nbma+PWbv2bJ2iW4fC7S4tN46IcP8f6l77PkhCX7rVvuqushP4POgNVsxaw3x1R9b6wMbBFCDK27/3M3ARVgecHyqMUgJRZCCDGEfAEfe9r24PQ6B3zv+p3rWfb2suDQj7n5c7nr5LuCQz8K8gpYznJWb15Ntb2aMcljuvVG7qrKXtVRo6w3BQ/gxWJ9b7QHtgghhtaOph08/tnjXHbkZVEtp5IEWQghhkiLuwWb00ZABQZ0n9PrZOUHK3luy3NARyK77KRlnDvl3L2GfuyvbrmTXtOTb82n3lmPzvC/DxKlvlcIEU1KKa4pvYY4Qxw3n3RzVGOREgshhIgwX8BHlb2KWkftgJPjL/Z8wVnPnxVMjo/MOZJXFr7CeVPPC2kiXkpcCnnWPJadtEzqe4UQMeWlb17ijbI3KJ5T3OvZiaEkO8hCCBFBoe4ae/1eHt74MI9sfAS/8mPUGbn22GtZNGNRSIfoDDoD2YnZwbZphZMKWcUqGRMthIgJre2tXFt6LYdnHc41x14T7XAkQRZCiEjw+r3UOmpDqjXe3rSdJWuXsKVuCwCT0yZTcmoJh2Qc0mtrtr5KKpJMSb22bpP6XiFErLj13VvZ3bqbv5//dwy66KenUmIhhBAhKC0rZe6Tc8l/MJ+5T86ltKw0+L1mdzM7W3YOODkOqABPf/E0Zz1/FlvqtqChcemMS/n7+X8PJsc9W7MVry9mXcW6XtfTaTqyE7PJScqJmdZtQgjR07b6bfzfx//HVTOv4rjc46IdDiA7yEIIMWClZaUsLl2MSWcizZxGTWsNi0sX80DgAWbkzNhvYryvHeA9bXu46e2b2LBrAwBjksaw4pQVHDPmmOC9XVuzAR2/ejuu99xFjjfEk52YjVFvjMB/ASGECA+X18UTXzzBxLSJrJy/MtrhBEmCLIQQA1SyoQSTzhSc8JZgSsDv9nP3f+7mqbOe2ud9nTvAJp2p2w7wadWnsearNcGBIWcfcjY3z76ZRFP3oR9V9ipS4lK6Xes5KU9DI8OSQWp8arj+uEIIETEvbH2BJlcTr//09W5TM6NNEmQhhBig8uZy0sxpQEdbIm/Ai1Fv3OdI5049d4CNeiO1jloe3/w4AKnmVO48+U7mT5jf6/25ybnYHLbg/dB9Ul6cPo7sxGziDHGD/jMKIUSkfVbzGR9WfUjhxMKYKa3oJDXIQggxQPnWfJxeJ/6AH4/fQ0AF9jnSuasqexVmgxmANk8b25u24/A6ADg572ReveDVfSbHAItmLNrnpLy0+DTGpYyT5FgIMSzYHDae+uIp8lLyWDB5QbTD2YskyEIIMUC/Oe43OH1O7O12Aiqw35HOXeUm5+L0OqlprWFny058AR8aGvnWfP70oz+RmZC53/sL8gpYPns5mQmZ2NvtZCZkckfBHVw4/UIyLBkh9UUWQoih5vV7efSzR9E0jcuPujwmulb0FHsRCSFEDGttb2VK5hRuOemWfo107mpe/jxWbliJL+ADOkoiUuNTuenEm/qd3HadlGcxWshOzI7JHy5CCLEva75aQ2VLJVcffTUZloxoh9MreVcVQoh+8AV81DnqaPO0Af0b6dzJ6/fyyKZHePjTh/ErPxoaSaYkDsk4hMuOvKzf63SVFp8Wsz9YhBBiXz6p/oT1O9dz6oRTmZ41Pdrh7JMkyEII0Qd7ux2bw4Zf+Qd8b3lTOUveWsKXtV8CMDFtIiXzS5iaOTWkWPSanpyknOBEPCGEGC72tO3hb1/+jYlpE/nxwT+Odjj7JQmyEGJASstKKdlQQnlzOfnW/BE9nngw0/CUUjz732dZuWElbp8bDY1LjriE64+7PuSDdBajhZxEGfohhBh+2n3tPLLpEUx6E5fNuCzm38ckQRZC9Nu+BmSsYtWIS5KbXE00uBoIqMCA761tq2XZO8t4v/J9AHISc1hxyoqQ2xhpaKRb0kmLTwvpfiGEiCalFM9ueZaa1hquPfbaYdGnXRJkIUS/9TYgA0/H9ZGSIHv8Hva07cHtc+9z6t3+vFH2Bre/dzst7S0A/PjgH3PL7FtIiksKKR6jzkhOUk6wPVysO5A+YRBC9M+GXRv4qOojFkxaEHJ52VCTNm9CiH4rby7fq/bVYrRQ0VwRnYDCSClFvbOenc07g8lx8fpibA5bt6l36yrW9Xp/i7uF3/77t1z/5vW0tLdgNVv5v9P+j/vm3xdycpxkSmK8dfywSo4Xly6mprWm2ycMpWWl0Q5NCBElu+yop/d7AAAgAElEQVS7eG7Lc0zJmMKPJv8o2uH0myTIQoh+6xyQ0ZXT6yTPmhedgMLE4XFQ0VxBo6sRhQK6T73TNI14YzwmnYnVm1fvdf+GXRs4/bnTee3b1wAoGF/Aaxe8xg8m/iCkeHSajuzEbHKSctBpw+dtuusnDJqmkWBKwKQzUbKhJNqhCSGiwOV18eimR7EYLVw649Jh9X42fCIVQkRd0awiPAEPDo8DpRQOjwNPwEPRrKJohxYSX8BHTWsN1a3VeAPebt/rOvWuk9lg7jZO2u1zc9f6u/jFv35BraOWeEM8d8y5g0cWPNLn0I99idPHMS5lHMlxySHdH00j+RMGIcTAKKV4+sunqXfWc/mRlw+79zRJkIUQ/VY4qZBVhavIScqhyd1ETlIOqwqH5wG9FncLFc0VtHpae/1+bnIubp+727Wu46T/W/tfznrhLJ7+8mkAZmTP4F8L/8XCQxeGPNHOarYyLmUcJr0ppPujbaR+wiCEGLh1O9exqWYTPz74x0xKnxTtcAZMDukJIQakcFLhsEyIO/W3dduiGYsoXl8M3o6dY7fPjSfg4ZLDL+GhTx/i4U8fxhfwYdAZuOaYa7jsyMtCnmhn0BnISsgKHn4cropmFbG4dDF4OnaOnV7nsP6EQQgRml0tu3jxqxc5dNShzJ8wP9rhhEQSZCHEAaPJ1US9sz5YZ7w/BXkFLGd5t3HSCyYt4M+b/swXtV8AMCF1AiXzS5g2alrIMSXHJTMqYdSwqs3bl8JJhaxiFSUbSqhoriDPmiddLIQ4wLh9bh777DESjYlccvglw/a9TRJkIcSI5/a5qXPU7VUy0dW+WroV5BWglOL5rc9zz/v34PK5ALj48Iv5zfG/CbnDhF7Tk5WYRaIpMaT7Y9Vw/4RBCDE4z295njpHHdcfd33IHXxigSTIQogRyxfwUe+sx95u3+/rOlu6mXSmbi3dlrOcKZlTuPmdm1m/cz0A2YnZrJi3guPHHh9yXImmRLISsmJ+kpQQQgzER1Uf8WHVhyyYtICDMw6OdjiDIgmyEGLEUUrR7G7u9yS8ri3dgI5fvbByw0rqHfU0tzcDcMbBZ3Dr7FtDPo2t1/SMShg1rHdVhBAjxxVHXRG2tbbVb+M3b/6G2eNn89LCl0I+kxErhnf0QgjRg8vrotZRi8fv6fc9VfYqUuJSgl/7A34aXA3BaXjWOCu3n3w7hRNDLx1INCUyKmHUsP+hIYQQPbl9bhb+YyFmg5lnzn5mRLzPDf8/gRBC0JHU1jvrg0ntQOQm52Jz2Ig3xtPmaaO6tRpfwAfASeNO4u65d5OVmBVSXDpNx6iEUcOuB6gQQvRX0b+L+HzP57x6wavkJudGO5ywGJ5HC4UQogt7u52K5oqQkmPoaOnW7m9nV8sudrbsxBfwoaFx4WEX8tjpj4WcHMcb4smz5klyLIQYsV7/9nVWfbqK64+7ngWTF0Q7nLCRHWQhxLDlC/iobavF4XUMap0MSwYBFcDu6TjMl2BM4MYTbuT8Q88PaT0NjXRLOmnxaYOKSwghYlmjq5HLX72cw0Ydxr3z7o12OGElCbIQYlhqbW+lzlGHX/lDXsMX8PHYZ4+x6pNVwaEfvzr6V1x51JUh19CZ9CayE7NDbv8mhBDDxbWl12Jz2nj9p68TZ4iLdjhhJQmyEGJY8Qf81Dnq9jkiur92Nu9k6VtL2bxnMwAHpR7EylNWcljWYSGvaTVbybRkhjxqWgghhouXvn6JZ/77DLcX3M6MnBnRDifsJEEWQgwbDo+DWkdt8ABdKJRSvLD1BVa8vyI49OOi6Rdxw6wbQt71NegMZCdmYzFaQo5LCCGGi2Z3M1e9fhVHZB/BspOWRTuciJAEWQgR87x+LzanjTZP26DWqXPUccs7t7Bu5zqgY+jHvfPuZdbYWSGvOZJGRQshRH8se3sZNqeN0gtLMeqN0Q4nIiRBFkLELKUUja5GGl2NKNSg1nrzuzdZ/t5ymt0dQz8WTF7A8tnLSTGn9HFn70bqqGghhNifT6o/4c8b/8y1x147IksrOkU0QdY07TTgQUAPPK6UWtHj++OBvwCZQCPwM6VUVSRjEkIMDw6PgzpHHd6Ad1DrtLa3cuf6O/nXtn8BkBKXwu1zbueHk34Y8poWo4XsxOwR0QxfCCH6yxfw8cvXfklOUg7FJxdHO5yIiti7u6ZpeuAhYD5QBXyqadorSqmvurzsd8BTSqknNU2bC9wLXBSpmIQYbkrLSinZUEJ5czn51nyKZhVROCn0aW7DgS/go85RN+hyCoCPqz7mxrdvZHfrbgBOHHsi98y7J+S+xtDREk7atwkhDkSPbnqUzXs2s+bcNSO+v3sktz+OAb5TSu0A0DTteeBMoGuCPBW4/vvfvwu8HMF4hBhWSstKWVy6GJPORJo5jZrWGhaXLmYVq0ZkkqyUosndRIOzYdDlFO2+du7/6H6e+PwJFAqzwcySWUv46WE/DbnDhEFnICcxh3hj/KBiE0KI4cjebuf2926nYHwB5049N9rhRFwkE+QxwK4uX1cBx/Z4zRfAOXSUYZwFJGmalq6UaohgXEIMCyUbSjDpTCSYEgA6fvV0XB9pCbLT66TOUYfH7wleW1exjtWbV1NlryI3OZdFMxZRkFfQ51pf276maG0RZY1lABw26jBWzl/JQakHhRxfoimRrIQs9Dp9yGsIIcRwdt/792Fz2vjdqb87IFpZRvLYdW//9XpuC90AFGiathkoAKqBvfo3aZp2haZpGzVN22iz2cIfqRAxqLy5fK+2YRajhYrmiugEFAG+gI+a1hqq7FV7JcfF64uxOWykxKVgc9goXl/Muop1+1zLH/DzyMZHOO/F8yhrLEOv6bnmmGt47pznQk6ONTSyErIYnTRakmMhRFh1zW3amgZfUhZJVfYq/vDRH7jg0AuYOXpmtMMZEpHcQa4Cxnb5OhfY3fUFSqndwNkAmqYlAucopVp6LqSUehR4FGDmzJmD++xViGEi35pPTWtNcAcZOnZa86x50QsqTDrLKRpdjQRUYK/vr968GpPOFCxniDfGg7fjem+7yJUtlSxZuyQ49CPPmkfJ/BKmZ00POcY4fRw5STmY9KaQ1xBCiH3pmtuMnzo+pnOb4nXFBFSAe+bdE+1Qhkwkd5A/BSZpmpavaZoJWAi80vUFmqZlaFqweehNdHS0EEIARbOK8AQ8ODwOlFI4PA48AQ9Fs4qiHdqgOL1OdrbspN5Z32tyDB27FZ1DO1o9rVQ0V1DZUsnmms3ddpGVUqzZuoYznz8zmBz/7LCf8fJPXh5UcpxqTmVcyjhJjoUQB7zKlkqe+PwJLptx2YjYoOmviCXISikfsBh4E/gaWKOU2qppWrGmaWd8/7I5wDZN074FsoC7IxWPEMNN4aRCVhWuIicphyZ3EzlJOawqHL4H9PwBP3va9uxVTtGb3ORc3D43rZ5Walpr8Pq9aJqGTtMFSy3qnfVc9fpV3PrurTi9TkYljGL1Gau5teDWkA/S6TU9Y5LGkJkg46KFEAJg5QcrAVh64tIoRzK0NKVield/LzNnzlQbN26MdhhCiAGwt9uxOWz4lb9fr++sQa531OMP+IMnGnISczDoDOh1euqd9TS5mwAonFjI7XNux2q2hhyj9DYWQgxQ2P4VPX7qeHXz0zeHa7l+u+KoK/b7/ZrWGvIfzOei6Rfx2BmPDVFUQ67X/zvKTwIhRMR4/V5qHbU4vc4B3VeQV8BylrO4dDEAJr2J9Ph0LEYLNW01tLR3HFVIjkvmtoLbWDB5waDilN7GQgixtwc/fhBvwMuNJ94Y7VCGnCTIQoiwC6gAja5GmlxNIfc0LsgrYEb2DGwOG/HGeBweB9ubtgcn680aO4t7591LdmJ2yHFKb2MhhOidy+vi8c8e58eH/JgJaROiHc6Qi+QhPSHEAcjebqeiuYJGV+OgB34smrGIdn87VfYqKloqgsnxwmkLWX3G6kElxxajhfEp4yU5FkKIXryw9QUaXA0sPnpxtEOJCtlBFkKEhdvnps5Rh9vnDtuanSOhO0sqEowJLJm1hIWHLRzUumnxaWRYMgYdnxBCjERKKf74yR+ZmjmVOXlzoh1OVEiCLIQYFH/AT72zPpjEhmvNv3z+Fx78qKP+Ta/p+eXMX3LVzKsw6o0hr6vTdGQnZpNoSgxbrEIIMdJ8VvMZn9V8xkM/fOiA7egjCbIQImQD7U7RH7vsu1i6dimbajYBkJeSx8r5Kzk8+/BBrSuDP4QQon+e/vJpTHoTFxx6QbRDiRpJkIUQA+bxe6htq8Xlc4VtTaUU//j6H9z9n7uDXS8uOPQClpywZK+R2wOVak4lw5JxwO6ECCFEf/kCPp7b8hwLJi8gNT412uFEjSTIQoh+C6gADc4Gmt3Ngz6A11WDs4Fb3r2Fd8rfASDTksk98+5h9vjZg1rXoDOQnZg96ARbCCEOFGu3r6XOUcdF0y+KdihRJQmyEKJfWtwt1Dvrw1pOAfB2+dvc8s4tNLoaATht4mncXnD7oHcuEk2JZCVkodfpwxGmEEIcEJ7f+jxWs5XCicNzamu4SIIshNivSHSnAGjztHHPf+7hH1//A4AkUxLLC5Zz+uTTB1UKoaExKmEUKeaUcIUqhBAHBF/Ax+vfvs6CyQuIM8RFO5yokgRZCNErX8BHvbMee7s97Gtv3L2RJWuXUN1aDcBxucdx77x7GZ00elDrGnVGcpJyMBvM4QhTCCEOKB/u+pAGVwNnTD4j2qFEnSTIQohulFI0uhrDMuijJ4/fw4MfP8jqz1ajUMTp4/jtrN9y0fSL0GmDm1uUYEwgOzFbSiqEECJEr2x7BaPOyA8m/iDaoUSdJMhCiKDW9lZsThu+gC/sa39T/w1L1i5hW8M2AKZlTmPl/JVMTJs46LXT49NJt6QPeh0hhDiQvV72OnPy5pAclxztUKJOEmQhBF6/l1pHbbC9Wjj5A37++vlfeeCjB/AGvOg0HVccdQVXH331oHsS6zQdOYk5JJgSwhStEEIcmHa37ubr+q/5xRG/iHYoMUESZCEOYEopmtxNNDgbwl5OAVBlr+LGt27k092fAjA+ZTz3nXIfM3JmDHptk97E6KTRMvhDCCHC4N3ydwGYd9C8KEcSG0JKkDVNswJXK6XuDnM8Qogh4vK6qHPU0e5vD/vaSile+uYl7lp/Fw6vA4CfTPsJS09YGpbd3kRTItmJ2YOuWxZCCNHhnfJ3SDWncnjW4KaWjhT7TZA1TRsL3AqMBl4GngXuBC4Cnot4dEKIbkrLSinZUEJ5czn51nyKZhVROGlgvSp9AR82h41WT2ufr11XsY7Vm1dTZa8iNzmXRTMWUZBXsN97Gl2N3Prurby14y0AMiwZ3D33bubkzRlQnPsi9cZCCBF+6yvXU5BXIAedv9fX9stTwG7gj8A04CM6kuXpSqnrIhybEKKL0rJSFpcupqa1hjRzGjWtNSwuXUxpWWm/7g+oAPXOesqbyvudHBevL8bmsJESl4LNYaN4fTHrKtbt8553y99lwbMLgsnxDyb8gFcveDUsybFO0zE6abQkx0IIEWaNrka+a/yOY8ccG+1QYkZfJRZpSqnbv//9m5qm1QJHK6XC/5msEGK/SjaUYNKZgiUKCaYE8HRc72sXOZQpeKs3r8akMxFvjAfo+NXbcb3nLrLD42DF+ytY89UaoKME4tbZt3LmwWcOauhHJ6k3FkKIyNm4eyMAR48+OsqRxI4+a5A1TUsFOn/C7QEsmqYlACilGiMYmxCii/LmctLMad2uWYwWKpor9nmPx++htq0Wl8814OdV2atIies+jc5sMFNtr+52bVPNJpauXcou+y4AjhlzDCvmrWBM8pgBP7M3CcYEcpJypN5YCCEi5NPqjoPUR40+KsqRxI6+EuQUYBP/S5ABPvv+VwUcFImghBB7y7fmU9Na0+2Qm9PrJM+at9drw9GdIjc5F5vDFtxBho6x052Jr8fvYdUnq3jss8cIqAAmvYnfHv9bfn74z8OWzEq9sRBCRN6nuz9lcvpkrGZrtEOJGfv9KaaUylNKHaSUyu/lf5IcCzGEimYV4Ql4cHgcKKVweBx4Ah6KZhV1e53b56aypZJ6Z/2gWrctmrEIT8CDy+tCKYXL68IT8LBoxiK+bfiW8188n0c2PUJABZiSMYV/nP8PLjnikrAkx1JvLIQQQ+fT3Z9KeUUPIf0k0zTtYE3THgt3MEKIfSucVMiqwlXkJOXQ5G4iJymHVYWrgvXHARWgzlFHZUtlWFq3FeQVsHz2cjITMrG328lMyOSWk25hR9MOzllzDl/Xf41O03HlUVey5rw1TE6fPOhnQke98biUcSSaEsOynhBCiH3b3bqb3a27JUHuoa82b9OB3/G/Nm9/BB4GjgV+H/HohBDdFE4q7PVAnr3djs1hG9AhvP4oyCsIHsirtldz49s38kn1JwCMTR7LffPv46ic8NWsJZmSyErMknpjIYQYIp31x0ePkQS5q75qkB8D/gR8CJxGR/3xs8CFSil3hGMTQvSh3ddOnaMupEN4/aWU4l/b/sWd6++kzdMGwPlTz2fpiUvDusubYckgLT6t7xcKIYQIm817NqPTdByRfUS0Q4kpfSXIcUqpJ77//TZN024AblQqzNtUQogB8Qf8NLgaaHY3R/Q5ja5Gbnv3Nv69499ARxJ718l3cXL+yWF7hl7Tk5OUg8VoCduaQggh+mdL3RYmpE6Q9+Ae+kqQzZqmzeB/XSzagOna941NlVKf7fNOIUTYKaVoaW+hwdkQ9nKKnt6reI+b37mZemc9APMPmk/xycVh3eWN08fxZe2XXP7q5YOaDiiEECI0W21bOXTUodEOI+b0lSDX0FFr3LUPctfa47mRCEoIsTen10mdow6P3xPR5zg8Du774D5e2PoC0NGH+JbZt3DWIWftc+hHKCOpk+OS+Wz3Z/z6zV9j0pm6TQdcxSpJkoUQIsLcPjdlDWWcO+XcaIcSc/pKkJcCu5RSNQCapl0MnANUALdHNDIhBNDRb9jmsOHwOiL+rM01m1ny1hIqWyqBjqlKK05ZQW5ybvA1PZPhY8Ycw0vfvIRJZ+o2kno5y3tNkjU0MiwZpMan8rsPfxfydEAhhBCDs61+G37llx3kXvR1VPzPQDuApmmzgXuBJ4EW4NHIhibEgc0f8FPbVktFc0XEk2OP38P9H93PT//5UypbKjHqjCw9YSlPnfXUXslx8fpibA5bMBl+ZNMjeP1e4o3xaJpGvDEek87E6s2r93qOXtMzJnkMqfGpQMd0wJ51b31NBxRCCBEeW21bAZg2alqUI4k9fe0g67uMk/4J8KhS6h/APzRN+zyyoQlxYOqcgtfoaiSgAhF/3neN37Fk7ZLgG+UhGYew8pSVHJxx8F6vXb15NSadKThdL94YTyAQoLW9lQxLRvB1vY2kNulNjE4ajUlvCl4byHRAIYQQ4bWlbgsGnSFsfexHkr52kPWapnUm0fOAd7p8r6/kWggxQG2eNiqaK6h31kc8OQ6oAE98/gRnvXAWW21b0dC4/MjLefG8F3tNjgGq7FWYDeZu10wG016DSbqOpIaOXeFxKeO6JcfQ/+mAQgghwm+rbSuT0yfv9d4s+k5ynwPWaZpWD7iA/wBomjaRjjILIUQYDGWdMXRMTrrp7Zv4qOojAHKTc7nvlPuYOXrmfu/LTc7F5rAFd5ABkoxJ+AI+XF4XZoMZt88dHEkNYDVbybRk9nrAr3BSIatYRcmGEiqaK8iz5kkXCyGEGCJb6rb0+b5/oNpvgqyUulvTtLeBHODfSin1/bd0wDWRDk6IkS6gAjS6GmlyNaFQfd8wSEopXvn2Fe5cdyetnlYAzp16LjedeFO/hn4smrGI4vXF4CWYDBsNRq489Eo+qf6Eans1Y5LHsGjGIubkzSEzIROr2brfNfc1HVAIIUTktPva2dG0g0sOvyTaocSkPssklFIf9XLt28iEI8SBw95up95Zjy/gG5LnNbmauO2923hz+5sApMWncdfcu5iXP6/faxTkFbCc5azevLpbMtyzW4UM/xBCiNhW01YDyAG9fZE6YiGG2FCMh+5p/c71LHt7GTanDYB5+fO48+Q7SbekD3itgryC/fY4jtPHMTppNEa9MeR4hRBCRNbu1t0A0uJtHyRBFmKIDNV46K6cXicrP1jJc1ueAzoOy91y0i2cPeXsfQ79GIxEUyLZidnotL7O/wohhIim6tZqzAYzB6UeFO1QYpIkyEIMAXu7HZvDFvHx0F19secLlqxdQkVLBQAzR89kxSkrGJs8NiLPS49PD2lHWgghxNDb1bKLw0YdhkEnqWBv5L+KEBHk9XupddTi9DqH9JkPb3yYRzY+gl/5MeqMXHfcdVx6xKXodfqwP09DIzsxm6S4pLCvLYQQIvyUUlTZq7jg0AuiHUrMkgRZiAjoHPbR4GwYku4UnbY3bqdobVFw6Mfk9MmUzC/hkIxDIvI8g87A6KTRe/VGFkIIEbua3c04vA6OyD4i2qHELEmQhQgzp9dJnaMOj98zZM8MqAB/+/Jv/G7D72j3t6OhcemMS/n1cb+OWAP4OH0cY5LHyMdzQggxzFTZqwA4PPvwKEcSu+QnmxBh4gv4sDlswf7CQ2VP2x5ufOtGPqz6EIAxSWO475T7OHrM0RF75kAP45WWlVKyoYTy5nLyrfkyDEQIIaJol30XANOzpkc5ktglR82FGCSlFI2uRiqaK4Y0OVZK8eq2Vzn9udODyfHZU87mlQteiWhynGpOZXTS6AElx4tLF1PTWkOaOY2a1hoWly6mtKw0YjEKIYTYtyp7FRmWDJLjkqMdSsySHWQhBsHebqfB2YA34B3S5za7m7lj3R28UfYG0JG03jX3Lk456JSIPVNDIysxa8BvqCUbSjDpTCSYEgA6fvV0XJddZCGEGHq77Lsi1tFopJAEWYgQODwO6p31tPvbh/zZ/9n5H5a9s4w6Rx0AJ+edzF1z7yLDkhGxZ+o1PaOTRhNvjB/wveXN5aSZ07pdsxgtVDRXhCk6IYQQ/eXwOKhz1HF87vHRDiWmSYIsxAC4fW5sDtuQTsHr5PK6KNlQwjP/fQboSDKXnbiMc6eeG5GhH51MehNjksaEPBkv35pPTWtNcAcZOg4y5lnzwhShEEKI/trRtAOACakTohxJbJMEWYh+aPe1U++sx+F1ROX5X9Z+SdHaouCu65E5R7LylJWMTYnsR2ThmIxXNKuIxaWLwdOR1Du9TjwBD0WzisIYqRBCiP7Y3rQdnaaTTYo+SIIsxH54/B4anA1D3pmik9fv5c8b/8yfNv4pOPTj2mOvZdGMRREZ+tFVuCbjFU4qZBWrKNlQQkVzBXnWPOliIYQQUbKjaQe5ybnEGeKiHUpMkwRZiF74A34aXA20uFuGdNBHVzuadlC0togtdVsAmJw2mZXzVzIlc0pEn6vTdOQk5nQriRiswkmFkhALIUSU+QN+ypvLOWHsCdEOJeZJgixEF50T8BpdjQRUIGoxPPPfZyjZUILb50ZD4xczfsGvj/11xP/Fb9KbGJ00OmLDRYQQQkRPlb0Kj98j9cf9IAmyEN+zt9upd9bjC/iiFkNtWy3L3l7G+7veB2B00mjuO+U+jhlzTMSfnWRKIisxa1D1xkIIIWLX9qbtAExIkwS5L5IgiwNeu6+dWkctbp87qnG8UfYGt793Oy3tLQCcdchZ3HzSzSTFJUX82RmWDNLi0/p+oRBCiGFre9N2Us2p8n7fD5IgiwNWQAWod9bT7G7u87XrKtaxevNqquxV5CbnsmjGIgryCsISR4u7heJ1xbxW9hoAVrOVO0++k1MnnBqW9fdHr+nJScrBYrRE/FlCCCGiJ6ACbKvfxpSMyJ5jGSki+lmqpmmnaZq2TdO07zRNu7GX74/TNO1dTdM2a5r2paZpP4xkPEJ0srfbKW8q73dyXLy+GJvDRkpcCjaHjeL1xayrWDfoOD6o/IDTnzs9mBwXjC/gtQteG5Lk2GwwM946XpJjIYQ4AOxq2UWrp5Vpo6ZFO5RhIWI7yJqm6YGHgPlAFfCppmmvKKW+6vKyW4A1Sqk/aZo2FXgDyItUTEK0+9qpc9QNaNDH6s2rMelMwSly8cZ48HZcD3UX2eV18fsPf8/TXz4NdPQHvvGEGzl/2vkRHfrRKTkumayErCF5lhBCiOjbatsKwNTMqVGOZHiIZInFMcB3SqkdAJqmPQ+cCXRNkBWQ/P3vU4DdEYxHHMACKkCDs4Fmd/OA27ZV2atIiUvpds1sMFNtrw4pli9rv2TJ2iWUN5cDMCN7Bivnr2RcyriQ1huoTEsmqfGpQ/IsIYQQsWFL3RbGpYwjOS657xeLiJZYjAF2dfm66vtrXd0O/EzTtCo6do+v6W0hTdOu0DRto6ZpG202WyRiFSNYa3srFc0VNLmbQuppnJucu9cBPrfPzZjknv/vvH++gI9Vn6xi4d8XUt5cjkFn4PrjrudvZ/9tSJJjnaZjTNKYkJLj0rJS5j45l/wH85n75FxKy0ojEKEQQhw4uuY2bU1tEX2Ww+NgR9MOpmVKeUV/RTJB7u2z257ZyQXAE0qpXOCHwNOatnePKaXUo0qpmUqpmZmZmREIVYxEHr+HKnsVNW01g2rdtmjGIjwBDy6vC6UULq8LT8DDohmL+r1GeVM5F/zjAv74yR/xKz8T0yby4nkv8suZv8Sgi/xZWZPexLiUcSEN/ygtK2Vx6WJqWmtIM6dR01rD4tLFkiQLIcQgdM1tElMTI/qsb+q/QaE4dNShEX3OSBLJBLkKGNvl61z2LqFYBKwBUEp9CJiBjAjGJA4ASinqnfXsbN6J0+sc9HoFeQUsn72czIRM7O12MhMyWT57eb/qjzuHfvz4hR/zZe2XAFx8+MX88/x/DlkdmMVoYVzKuJCHf5RsKMGkM5FgSkDTNBJMCZh0Jko2lIQ5UiGEEJGw1baVeEM8+db8aDrYRkkAACAASURBVIcybERy6+pTYJKmaflANbAQ+GmP11QC84AnNE2bQkeCLDUUImRtnjZsDhvegDes6xbkFQz4QF5tWy3L3lnG+5UdQz9yEnO495R7OT73+LDGtj8pcSmMShg1qMN45c3lpJm798y0GC1UNFcMMjohhBCRppRiq20rUzKnoNfpox3OsBGxBFkp5dM0bTHwJqAH/qKU2qppWjGwUSn1CvBb4DFN066no/ziEqXUwItExQHP6/dS56jD4XVEOxSgY+jHHe/dQXN7Rxu5Mw8+k1tm3zKkhyPCdRgv35pPTWtNt/IMp9dJnjVv0GsLIYSIrIrmCprdzUwfNT3aoQwrES1+VEq9Qcfhu67Xlnf5/VfACZGMQYxsSikaXY00uhpDOoAXbvZ2O8Xrinn121cBsMZZuePkOzht4mlDFoOGRk5SDomm8NS0Fc0qYnHpYvB07Bw7vU48AQ9Fs4rCsr4QQojI2VSzCb2m5/Dsw6MdyrAS0UEhQkSSw+OgormCBldDTCTHH+76kNOfOz2YHM8eP5tXLnhlSJNjvaZnbMrYsCXHAIWTCllVuIqcpBya3E3kJOWwqnAVhZMKw/YMIYQQ4aeUYlPNJqZmTpWhUAMko6bFsOML+Khz1NHm6V9bnEiOiYaOlm+///D3PPXFUwDEG+JZeuJSFk5bOKSDOEx6E2OSxmDUG8O+duGkQkmIhRAiBl1x1BX7/N7HVR/T6GrkD6f+gYuPuHgIoxr+JEEWw4ZSiiZ3Ew3O/u8Yd46JNulM3cZEL6d/XSj6srVuK0Vri9jetB2Aw7MOZ+X8lUNenxtviGd00mg5gCGEECLoxa9exKgzcuYhZ0Y7lGFHEmQxLDi9TuocdXj8ngHdF4kx0dCxi/3opkd56NOH8AV8GHQGrj76aq446ooh6WvcVZIpiezEbBkbLYQQIkgpxYtfvcipE07FarZGO5xhRxJkEdN8AR82h41WT2tI94d7TDR0nAheunYpn9d+DsBBqQdRMr8kKg3YU82pZCbI8JxYUFpWSsmGEsqby8m35lM0q0jKUoQQUfNJ9SdUtlRSPOf/t3fn8VFX9/7H35+Z7MlACIRsgKDF1gU3qHVfoRVr1XvttdbettqF9rb01+XK4kYpLghpb9XS2171Wm1rtb1dvLaVUlRcCm6oKOKKgrIJJGwhCTPJzPn9MRPuEAOyzOR8Z/J6Ph55mMx8M/NOvk7yzuF8z5nhO0pO4iI9BFLX6hQrt6zc73IsZW6b6K5M9758ry6878Kd5fjzR31ef/rMn3q9HJtMtRW1Xssx20//H3YbBBA0v1v2O6ZXHAAKMgKna3WKprYmJVzigB4rE9tES9KG1g2a8JcJmv7odLV3tqu2ola/uOAXuua0a1RSUHJAGfdVQahAQ/sP7dU1lbujEO6K3QYBBElnolP3LL1H5448l+kV+4mCjMCIxWNas22N1rSsydhOeAeyTXSXecvn6VP3fkqPv/O4JOm8Q8/TA5c8oJOGnpSRjPuitKBUB/U/qNdLeXcUwl2t2LLifUsosdsgAF/mLZ+n9a3rdfkxl/uOkrOYgwzv4om4mtqatDW6NSuPvz/bREtSS7RF1z1+nf739f+VlNy2efoZ03XuyHMzHXGvZGLb6Exh++ldsdsggCC568W7VF1W7e33VT5gBBnedM0zXrFlRdbK8f56avVTOv++83eW41OGnaI/f/bP3n7YDC4frJqKmkCUYylZCNs62na5rS8XwkknTVIsEVNrrFXOObXGWtltEIAXzW3NeuD1B/S5UZ/Lyrr4fQUFGV5kcp5xJkU7o5r5xEx98f4vam3LWpUUlGja6dN0x6fuUE1FTa/nCVlIDZGGwM0hoxDuit0GAQTFfS/fp1g8psuOucx3lJzGFAv0qo54hza0blBrR6vvKO/zysZXNGn+JC3ftFySdFTNUZo9drZGDBjhJU9hqFD1kXoVFxR7ef49GT9yvOZojhoXNWrllpUaXjm8zy9rxm6DAILgF0t+oWNqj9HRtUf7jpLTKMjoFV3TKTa1b9rrXfB6SzwR1x3P36GfPPMTdSQ6FLawvvHRb+jrY77e65t+dCkpKFFDpCHQO+NRCAEgWJauX6rn1j2nmz9xs+8oOY+CjKxrjbVqQ+uGjK1MkUnvbn1Xk+dP1gvvvSApuenH7LGzNapmlLdM7IwHANgfd794twpCBbp01KW+o+Q8CjKyJsjTKbq24Jz5j5k7Lzb7/FGf17+f+O87t6X2YVDZIFWVVn3wgQAApOmId+jXL/1a5x16HjusZgAFGRmXcAltat+kze2bAzedQpI2tm7UtQuu1YKVCyRJNeU1mnn2TJ087GRvmUymukidKooqvGUAAOSueW+x9nEmUZCRUVt3bFVze7M6E52+o/Ro/lvzde2Ca7V5x2ZJ0nkjz9O006epf0l/b5kKQgVqiDQE8mI8AEBuuGtJcu3j8R/i2pBMoCAjI7bHtquprUmxeMx3lB61RFt0wxM36E+v/UmS1K+4n6afPl2fPPSTXnOVFJSoPlLv7WJAAEDu61r7eOLxE1n7OEP4rYwDsqNzhza2blR7Z7vvKLv1zJpnNOWhKVrbslaSdPLQkzXz7Jle1jVOx8V4AIBMuPfle9WR6GDt4wyiIGO/xOIxNbU1aXtsu+8ouxXtjOrmp27WL5b8Qk5OxeFiTT55si4ddalC5nePHC7GAwBkyl1L7tKxtcfqqJqjfEfJGxRk7JN4Iq7m9mZt3bE1kBfgdXmt6TVN+vskvbHpDUnSkYOP1Oxxs3XIgEO85gpZSLUVtVyMBwDIiK61j2855xbfUfIKBRl7xTmnzTs2a1P7pkBtDd1dPBHXf7/w37r16Vt3bvrx9TFf17+N+Tfv87K4GA8AkGldax9/9sjP+o6SVyjI+EAt0RY1tTUFcqOPdKu2rtKUh6bouXXPSZKG9x+uxo83BuKfnIrDxWro18DFeACAjIkn4rpn6T2sfZwF/LbGbuXCBXhScnT7D6/+QTc8ccPOTT8uHXWpJp00SWWFZZ7TSeWF5aqL1Hmf9wwAyC+vNr2q97a/py8c9QXfUfIOBRnv05noVFNbk7ZFt/mO8oGa25p1zYJr9MiKRyRJ1WXVuvHsG3XaQad5TpZUWVKpweWDfccAAOShp1Y/parSKp078lzfUfIOBRk7BX0HvO4eevshXbvgWm1q3yRJGv+h8fr+6d/XgNIBnpMlVZdVByYLACC/tHe0a8l7S/TV477KtS1ZQEGGnHPaGt2q5rZmxV3cd5wPtD22XTc+caP+8OofJCU3/Zh22jSdd+h5gVhTmG2jAQDZ9vy659WR6NAXjmZ6RTZQkPu4oO+A193itYs1ef5krWlZI0k6cciJumnsTaqtqPWcLKkgVKD6SL1KCkp8RwEA5LGnVj+lmvIaHd9wvO8oeYmC3Ee1dbSpqa1JOzp3+I6yV2LxmG5+6mbd+cKdOzf9uOKkK/SvR/1rYC5+Y6UKAEBvaGpr0hub3tAFH74gEP9ymo/4Td7HRDujamprUmtHq+8oe+21ptc0ef5kvd78uiTpiOoj1DiuUYdU+d30I11ZYZnqI/WBKesAgPz1zJpnJEkfa/iY5yT5i4LcR3TEO9Tc3pwTK1N0iSfiunPJnbrlqVvUkehQyEL62uiv6Rsf/YaKwkW+4+3Uv7i/BpcP5q94AECveG7dczpkwCEaWDbQd5S8RUHOc7myNXR3q7at0tSHpmrx2sWSpIP6H6TZ42brmNpjPCfb1eDywaosqfQdAwDQR6zfvl6rt63Wvxz+L76j5DUKcp7Kla2hu+tp049LjrxEU06eEohNP7qELKS6ijqVF5X7jgIA6EO6dosdXTfac5L8RkHOQy3RFm1s26jORKfvKPukua1Z1y64Vg+veFhSch3hG86+QacfdLrnZLsqDBWqoV9DoKZ5AAD6hufXPa+DBxzMOvtZRkHOI9HOqDa0bgj81tA9eXjFw7r2kWvV3N4sSfrEIZ/QD874QeB+AJQVlqmuok7hUNh3FABAH7OhdYNWbVvF9IpeQEHOA/FEXE1tTdoa3eo7yj7bHtuumf+Yqd+/8ntJUqQoommnT9OnDv1U4C5661fcTzXlNYHLBQDoG7qmVxxXd5znJPmPgpzjtu7Yqqa2ppzYAa+7xWsXa8pDU7R622pJ0glDTtBNZ9+kukid52TvN6hskKpKq3zHAAD0Yc+tfU4jKkfw+6gXUJBzVLQzqvWt63Nmo490sXhMtz59q+54/g45ORWFi/TvJ/67vnD0FwK3jjDbRgMAgqCprUmrtq3Spw/7tO8ofQIFOcckXEJNbU3asmOL7yj75Y3mNzRp/iS91vSaJOnw6sM1e+xsjRw40nOy92PbaABAUCzbuEySNKpmlOckfQMFOYdsi25TU1tTzq1OISXnSd+15C79+Kkf79z0Y8LoCfrmR78ZyNUg2DYaABAkyzYs08DSgaopr/EdpU/gt38OiMVj2tC6Yee6wLlmzbY1mvrQVD2zNrk15rD+wzRr7KzAXmRQXliuukhd4KZ7AAD6ps5Ep15rek0nDDmBC8V7CQU5wBIuoU3tm7S5fXNO7YLXxTmn+1+7X9c9fp1aO1olSZ854jOacvKUwG6wUVlSqcHlg33HAABgp7c2vaVoPKojqo/wHaXPoCAHVC5Pp5CkTe2bNG3BNM1/e76k5CoQN5x1g84YfobfYHvAttEAgKCYMHrCzvcnz5+swlChbhp7kyLFEY+p+g4KcsDs6NyhDa0bcnJ1ii4LVizQNQuuUVNbkyRp3MHjNOPMGYFdloZtowEAQfa35X/TqQedSjnuRRTkgMjlzT66tMZaNWvhLP122W8lJefyXnvatbrwIxcGds5UQahADZEGFRcU+44CAMD7rNm2Rks3LNXssbN9R+lTKMieOee0ecdmbWrfpIRL+I6z355f97wmz5+sVdtWSZKOrz9eM8fO1JB+Qzwn2z1WqgAABN3DKx6WJH38kI97TtK30Aw82h7bro2tG9WR6PAdZb/F4jHNeWaObn/+diVcQoWhQn3vxO/psmMuC/QqEKxUAQDIBQvfXajKkkrWP+5lFGQPop1RbWzbmLPLtnV5s/lNTZo/Sa82vSpJ+sigj6hxXKMOHXio52R7xkoVAIBcsXDVQp045EQGdHoZBbkX5cM8Yym5/NzdS+7Wfzz1H4rFYwpZSF897quaePzEQG76kY6VKjJv7ptz1bioUSu2rNCIyhGadNIkjR853ncsAMh5W3Zs0bKNy3TJkZf4jtLnUJB7Qb7MM5aktS1rNfWhqXp6zdOSpKH9hmrWuFkaXTfac7I9Y6WK7Jj75lxNnDtRRaEiVZVUaV3LOk2cO1FzNIeSDAAH6MlVT0qSTh56suckfQ/j9VnWGmvVyi0r1dTWlNPluGvTj0/d+6md5fjiwy/W/ZfcH/hyXBAq0NB+QynHWdC4qFFFoSKVF5XLzFReVK6iUJEaFzX6jgYAOW/RqkUKW1jHNxzvO0qfwwhylnTEO7ShdcPOHeRy2ab2TZr+6HTNe2ueJGlg6UBdf9b1OmvEWZ6TfTBWqsiuFVtWqKpk1/WtywrLtHLLSj+BACCPLFy1UMfUHsMAjwe0hgxzzqm5vTlnt4fu7rGVj+nqR67WxraNkqSxB4/VdWdeF9hNP9JVFFWotqKWCxuyaETlCK1rWbfLD++2jjYNrxzuLxQA5IHORKeeXvO0vnzsl31H6ZOy2hzM7Bwze93MlpvZ1B7u/7GZLUm9vWFmW7KZJ9u2x7Zr5ZaV2tS+KefLcWusVdMWTNOEv0zQxraNKi8s18yzZ2rO+Dk5UY4HlAxQfaSecpxlk06apFgiptZYq5xzao21KpaIadJJk3xHA4Cc9srGV9TW0aYThpzgO0qflLURZDMLS/qppHGSVkt61swecM690nWMc+67acd/S9Kx2cqTTbF4TBtaN+T8sm1dXlj3gqY8NEXvbH1HkjSmfoxmjZ0V6E0/0rFSRe8ZP3K85miOGhc1auWWlRpeOZxVLAAgA15a/5Ik6eiaoz0n6ZuyOcXieEnLnXNvS5KZ3SfpAkmv7Ob4z0r6fhbzZFzCJbSpfVPeTKeIxWP66bM/1W3P3bZz04/vnPAdXX7M5QqHwr7jfSBWqvBj/MjxFGIAyLCl65eqMFQY+L0F8lU2C3KDpFVpH6+W9LGeDjSzgySNkPTIbu6fIGmCJA0bNiyzKfdTS7RFG9s2qjPR6TtKRizftFyT50/Wso3LJEmHDjxUjeMa9ZFBH/GcbO8UhgrV0K8h8OswAwAg7dptqmrfP3Vx6YalOrz6cBWGC3s7GpTdgmw93La7YdZLJP3eORfv6U7n3G2SbpOkMWPGeB2qzbfpFAmX0K9e+pV+uOiHisVjMpm+fNyX9e2PfTtnymZZYZnqKupyYpQbAABp125z0OEHva/bLN2wVGcMP6O3YyElmwV5taShaR8PkbR2N8deIumbWcxywBIuoea2Zm3ZsSUvplNI0rqWdbry4Sv15OrkQuQNkQbNHjdbY+rHeE629ypLKlVdVi2znv4eAwAg97TGWrV622qNGjzKd5Q+K5sF+VlJI81shKQ1SpbgS7sfZGYfljRA0pNZzHJAtkW3qamtKW+mUzjn9Oc3/qwZj81QS6xFknTRYRfpqlOvUkVRhed0e8dkqi6v5mI8AEDeWduSHE+kIPuTtYLsnOs0s4mS5kkKS7rTObfMzGZIWuyceyB16Gcl3eecC9ywbLQzqg2tG9Te2e47SsZsbt+s6Y9N19+W/02SVFVapevOvE5jDx7rOdneC1tYdZE6lRWW+Y4CAEDGrWlZI0kaVUNB9iWrG4U45x6U9GC326Z1+3h6NjPsj4RLqKmtSVt25PSyzO/z+DuP66qHr9q56cdZI87S9Wder4FlAz0n23tF4SI1RBq4aAEAkLfWbV+nfsX91BBp8B2lz2InvR68u/VdxeIx3zEypq2jTbMXzta9L98rKXlR29WnXq2LDrsop+bulheWqy5Sx+YfAIC81tzWrIMHHJxTv6PzDQW5BwmX8B0hY15870VNnj9ZK7eulCSNrhutWWNnaWj/oXv+xICpKq3SoLJBvmMAAJB1TW1N7KDnGQU5T3XEO/SzxT/Tzxf/XHEXV2GoUN8+4dv60jFfyqnl0Eymmooa9Svu5zsKAABZ55xTc3uzRlSO8B2lT6Mg56G3Nr+lSX+flLObfnQpCBWoPlKvkoIS31EAAOgVLbEWxeIxjRhAQfaJgpxHEi6he166R42LGhWNR2UyXX7s5fruCd/NmU0/upQUlKg+Uq+CEP+LAgD6jq4L6RlB9ov2kSfWb1+vKx++UgtXLZSU3PRj1thZ+mjDRz0n23eRoohqK2q5OAEA0Oc0tzVLEiPInlGQ88Bf3/irpj82Xdui2yRJ/3zYP+vqU6/OmU0/0g0qG6Sq0vfvSQ8AQF/Q1NYkSRpeOdxvkD6OgpzDtuzYohmPzdBf3/yrJGlAyQBdf9b1ObXpRxc2/wAAQNq8Y7PKC8v5fegZBTlH/ePdf+jKh6/UhtYNkqQzh5+p68+6PieXQisOF6s+Us/mHwCAPq8l2sLKTQFAQc4x7R3talzUqHuW3iMpuenHVadcpU8f/umcnLPbr7ifasprcjI7AACZ1hJrUaQ44jtGn0dBziEvrX9Jk+dP1ootKyRJx9Yeq9njZmtY/2Gek+07k2lQ2SANKB3gOwoAAIHREm3RkH5DfMfo8yjIOaAj3qH/eu6/9J/P/ufOTT++dfy39JXjvpJTm350KQgVqK6iTqWFpb6jAAAQKIwgBwMFOeDe3vy2Js+frKUblkqSRlaNVOO4Rh1WfZjnZPuntKBUdZE61jcGAKCbzkSn2jra1K+IOci+0VICyjmn3yz9jWYvmq0dnTtkMl12zGX67gnfVXFBse94+6WypFLVZdXMNwYAoAct0RZJYgQ5ACjIAbR++3pd9chV+se7/5Ak1VXU6aaxN+mEISd4TrZ/TKaaihquygUAYA9aYsmCzO9L/yjIAfPgmw9q+qPTtTW6VZJ04Ycv1DWnXZOzf00WhgpVH6nP2VFvAAB6S2tHqySxBnIAUJADYuuOrZrx+Az95Y2/SEpOR5hxxgx94kOf8Jxs/5UXlqsuUqeQhXxHAQAg8KKdUUlSSUGJ5ySgIAfAolWLNPWhqVrful6SdPpBp+v6s67X4PLBnpPtv4GlAzWwbKDvGAAA5IwdnTskJTfQgl8UZI/aO9r1oyd/pF+99CtJyRUerjzlSl18xMU5eyFb2MKqrahVeVG57ygAAOQURpCDg4LsydL1SzX5ocl6e/PbkpKbfswaO0sHVR7kOdn+Y8toAAD2X9cIMgXZPwpyL+tMdO7c9KMz0amCUMHOTT9yeW1gtowGAODARONRmUxF4SLfUfq83G1kOWjF5hWa8tAUvbj+RUnSIQMOUeO4Rh0x+AjPyfafyVRdXq3KkkrfUQAAyGk7OneouKCYwaYAoCD3Auec7n35Xs1eOFvtne2SpC8e/UV978Tv5fQ/o4QtrPpIPVtGAwCQATs6d6gknLu9IJ9QkLNs/fb1uvqRq/XEu09ISm76MXPsTJ045ETPyQ5MSUGJ6iP1OT0tBACAIOlIdKggzO/VIOAsZNHc5XM1fcF0bYlukSSd/+Hzde1p1+b8DjnMNwYAIPPiibjCFvYdA6IgZ8W26DbNeGyG/vzGnyVJlcWVmn7mdI3/0HjPyQ4M840BAMieuIsrHKIgBwEFOcOeXP2kpj40Ve9tf0+SdOqwU3Xj2Tfm9KYfUnK+cV2kju0vAQDIEkaQg4OCnCE7OnfoR0/+SL988ZeSkpt+TDllii454pKcn4pQFC5SQ6SB9Y0BAMgiRpCDg4KcAcs2LNOk+ZP01ua3JElH1xyt2eNma3jlcL/BMqC8sFx1kTqFLOQ7CgAAeS3hEowgBwQF+QB0Jjp1+/O3a84zc3Zu+vGNj35DXxv9tbxY3WFAyQBVl1f7jgEAQJ/AFIvgyP0W58k7W97RlIem6IX3XpAkHTzgYDWOa9SRg4/0nOzAmUw1FTU5v9oGAAC5JO7iKg4X+44BUZD3mXNOv132W81aOEttHW2SpM8f9XldcdIVOb3pRxc2/wAAAH0dBXkfbGzdqKsfuVqPvfOYJKm2olYzz56pk4ae5DlZZhSHi1UfqediPAAAPDCZnJzvGBAFea/NWz5P0x6dpi07kpt+nDfyPE07fZr6l/T3nCwzKooqVFtRy8V4AAB4YmZyjoIcBBTkD9ASbdH1j1+v+1+/X5LUv7i/pp8xXeeOPNdzssypKq3SoLJBvmMAANCnhRSiIAcEBXkPnl79tKY+PFVrW9ZKkk4ZeopuPPtG1VTUeE6WGSZTbUWtIsUR31EAAOjzzExxF/cdA6Ig9yjaGVXjokbdteQuOTmVFJRo8kmTdemoS3N+048uBaEC1Ufq8+LCQgAA8oGZySUYQQ4CCnI3S95boov/52K9uelNSdKowaM0e9xsHTzgYM/JMqekoET1kfq8WKsZAIB8YcqPQbh8QENK88yaZ3TKnaeoI9GhsIV3bvqRT6s6RIoiqq2ozZuRcAAA8oWZKeESvmNAFORdjK4brZOGnqR3t76r2eNm66iao3xHyqiBpQM1sGyg7xgAAKAHLPMWHBTkNOFQWPd9+j41tzXn1ahxyEKqrahVRVGF7ygAAGA3WOYtOCjI3dRW1Kqto02diU7fUTKiIFSghkiDigvYuhIAgCBjBDk4KMh5rLSgVPWReoVDYd9RAADABwgZ6yAHBQU5T/Ur7qea8houxgMAIEeYmGIRFBTkPFRdVq0BpQN8xwAAAPvAzJQQq1gEAQU5j4QspLqKOpUXlfuOAgAA9hEX6QUHBTlPFIYK1dCvQUXhIt9RAADAfuAiveCgIOeBssIy1VXUcTEeAAA5jIv0goOCnOP6F/fX4PLBXIwHAECO4yK94KAg57DB5YNVWVLpOwYAAMgALtILDgpyDgpbWHWROpUVlvmOAgAAMoSL9IKDgpxjisJFqo/UczEeAABAloSy+eBmdo6ZvW5my81s6m6OudjMXjGzZWb2m2zmyXXlheUa1n8Y5RgAACCLsjaCbGZhST+VNE7SaknPmtkDzrlX0o4ZKelKSSc75zab2eBs5cl1A0oGqLq82ncMAACAvJfNEeTjJS13zr3tnItJuk/SBd2O+aqknzrnNkuSc25DFvPkJJOppryGcgwAANBLslmQGyStSvt4deq2dIdKOtTMFprZU2Z2Thbz5JywhTWk3xD1L+nvOwoAAECfkc2L9HpamLf7pZkFkkZKOkPSEElPmNmRzrktuzyQ2QRJEyRp2LBhmU8aQMXhYtVH6lUYLvQdBQAAZFh6t6mqrfKcBt1lcwR5taShaR8PkbS2h2P+1znX4ZxbIel1JQvzLpxztznnxjjnxlRX5/9Ug/LCcg3tP5RyDABAnkrvNhUDKnzHQTfZLMjPShppZiPMrEjSJZIe6HbM/ZLOlCQzG6TklIu3s5gp8KpKq9TQr0Ehy+oCIwAAANiNrLUw51ynpImS5kl6VdLvnHPLzGyGmZ2fOmyepGYze0XSAkmTnHPN2coUZCZTbUWtBpUN8h0FQC+Y++ZcnXX3WRpxywiddfdZmvvmXN+RAAApWd0oxDn3oKQHu902Le19J+l7qbc+qyBUoPpIvUoKSnxHAdAL5r45VxPnTlRRqEhVJVVa17JOE+dO1BzN0fiR433HA4A+j3/H96w4XKxh/YdRjoE+pHFRo4pCRSovKpeZqbyoXEWhIjUuavQdDQAgCrJXFUUVGtZ/mApC7PgN9CUrtqxQWWHZLreVFZZp5ZaVfgIB8Kq6rFoTRk/QyKqRihRHNGH0BN+R+jwKsicDSweqPlIvs55WwwOQz0ZUjlBbR9sut7V1tGl45XA/gQAEQjQeVVG4yHcMiILc60ymuoo6DSwb6DsKAE8mnTRJsURMKF/EUQAAEHhJREFUrbFWOefUGmtVLBHTpJMm+Y4GwKNoZ1TF4WLfMSAKcq8qCBVoaP+hihRHfEcB4NH4keM1Z/wc1UXqtHnHZtVF6jRnPBfoAX1dNB5VcQEFOQiY/NpLisPFaujXwHxjAJKSJZlCDCAdI8jBQVvrBRVFFaqtqGXzDwAAsFvReJRVrQKCxpZlVaVVqo/UU44BAMAeMYIcHIwgZ4nJVFNRo37F/XxHAQAAOYA5yMFBQc6CsIVVH6lXaWGp7ygAACBHMIIcHBTkDCsKF6kh0qDCcKHvKAAAIIcwghwcFOQMKissY74xAADYL4wgBwcFOUMqSypVXVbNzngAAGC/ROMU5KCgIGfA4PLBqiyp9B0DAADksGgny7wFBQX5AIQspLqKOpUXlfuOAgAAclhnolPtne3sthsQFOT9VBgqVEO/BhWFi3xHAQAAOW57bLskKVJEQQ4CCvJ+KC0oVX2kXuFQ2HcUAACQB7ZFt0kSI8gBQUHeR/2K+6mmvIaL8QAAQMa0RFskiQ3GAoKCvA8GlQ1SVWmV7xgAACDPtMSSBZkpFsFAQd4LJlNdpE4VRRW+owAAgDzUNYLMFItgoCB/gIJQgRoiDexsAwAAsqZrDjJTLIKBgrwHJQUlqo/UqyDEtwkAAGQPUyyChea3G5GiiGorarkYDwAAZB1TLIKFgtyDqtIqdsYDAAC9Zucyb4wgB0LId4AgohwDAIDe1BJrUVG4iGueAoKCDAAA4FlLtIXR4wChIAMAAHjWEmth/nGAUJABAAA82xbdxhJvAUJBBgAA8KwlxhSLIKEgAwAAeNYSZYpFkFCQAQAAPNsW3ab+xf19x0AKBRkAAMCzbdFtTLEIEAoyAACAZy2xFi7SCxAKMgAAgGfbY9spyAFCQQYAAPAo7uKSREEOEAoyAACAR/FEsiCzikVwUJABAAA8SriEJEaQg4SCDAAA4FHXCDIFOTgoyAAAAB4xBzl4KMgAAAAedRVk1kEODgoyAACAR0yxCB4KMgAAgEdcpBc8FGQAAACPWOYteCjIAAAAHsVdXGWFZSoIFfiOghQKMgAAgEdxF+cCvYChIAMAAHiUcAlVFFX4joE0FGQAAACPEi6hssIy3zGQhoIMAADgEQU5eCjIAAAAHiUSCZUWlvqOgTQUZAAAAI8SYgQ5aCjIAAAAHjHFIngoyAAAAB4lXEKlBUyxCBIKMgAAgEeMIAdPVguymZ1jZq+b2XIzm9rD/ZeZ2UYzW5J6+0o28wAAAAQNI8jBk7U9Dc0sLOmnksZJWi3pWTN7wDn3SrdDf+ucm5itHAAAAEHGCHLwZHME+XhJy51zbzvnYpLuk3RBFp8PAAAg9zhRkAMmmwW5QdKqtI9Xp27r7iIze8nMfm9mQ3t6IDObYGaLzWzxxo0bs5EVAACg16R3G0msgxww2SzI1sNtrtvHf5Y03Dl3lKSHJN3d0wM5525zzo1xzo2prq7OcEwAAIDeld5tJKk4XOw7EtJksyCvlpQ+IjxE0tr0A5xzzc65aOrD2yWNzmIeAACAQCoMF/qOgDTZLMjPShppZiPMrEjSJZIeSD/AzOrSPjxf0qtZzAMAABBIhSEKcpBkbRUL51ynmU2UNE9SWNKdzrllZjZD0mLn3AOS/p+ZnS+pU9ImSZdlKw8AAEBQMYIcLFkryJLknHtQ0oPdbpuW9v6Vkq7MZgYAAICgYwQ5WNhJDwAAwDNGkIOFggwAAOAZI8jBQkEGAADwjBHkYKEgAwAAeMYIcrBQkAEAADxjBDlYKMgAAACeMYIcLBRkAAAAzxhBDhYKMgAAgGeMIAcLBRkAAMAzRpCDhYIMAADgGSPIwUJBBgAA8IwR5GChIAMAAHgWtrDvCEhDQQYAAPDMzHxHQBoKMgAAgGcho5IFCWcDAADAMxMjyEFCQQYAAPCMKRbBQkEGAADwjBHkYKEgAwAAeMYc5GDhbAAAAHjGFItgoSADAAB4xhSLYKEgAwAAeMYIcrBQkAEAADxjDnKwcDYAAAA8Y4pFsFCQAQAAPGOKRbBQkAEAADxjBDlYKMgAAACeMQc5WDgbAAAAnjHFIlgoyAAAAB4N6z9MReEi3zGQhoIMAADgUXV5tQpCBb5jIA0FGQAAAEhDQQYAAADSUJABAACANBRkAAAAIA0FGQAAAEhDQQYAAADSUJABAACANBRkAAAAIA0FGQAAAEhDQQYAAADSUJABAACANBRkAAAAIA0FGQAAAEhDQQYAAADSUJABAACANBRkAAAAIA0FGQAAAEhDQQYAAADSUJABAACANBRkAAAAIA0FGQAAAEhDQQYAAADSUJABAACANOac851hn5jZRknv+M4BSdIgSU2+Q2C/cf5yG+cvd3HuclvX+Wtyzp2TiQc0s79l6rGQGTlXkBEcZrbYOTfGdw7sH85fbuP85S7OXW7j/PUNTLEAAAAA0lCQAQAAgDQUZByI23wHwAHh/OU2zl/u4tzlNs5fH8AcZAAAACANI8gAAABAGgoyAAAAkIaCjB6Z2Tlm9rqZLTezqT3cf5CZPWxmL5nZo2Y2JO2+L5rZm6m3L/ZuchzguYub2ZLU2wO9mxySZGZ3mtkGM3t5N/ebmd2aOr8vmdlxaffx2vPoAM8drz3P9uL8fcTMnjSzqJld0e2+Pf7cRe5hDjLex8zCkt6QNE7SaknPSvqsc+6VtGP+R9JfnHN3m9lZki53zn3ezKokLZY0RpKT9Jyk0c65zb39dfRFB3LuUvdtd85VeIiOFDM7TdJ2Sb90zh3Zw/3nSvqWpHMlfUzSLc65j/Ha829/z13qPl57nu3F+Rss6SBJF0ra7Jz7Yer2D/y5i9zDCDJ6cryk5c65t51zMUn3Sbqg2zGHS3o49f6CtPs/IWm+c25T6hfzfEnsDtR7DuTcIQCcc49L2rSHQy5Q8he4c849JanSzOrEa8+7Azh3CIAPOn/OuQ3OuWcldXS7a29+7iLHUJDRkwZJq9I+Xp26Ld2Lki5Kvf9PkiJmNnAvPxfZcyDnTpJKzGyxmT1lZhdmNyr20+7OMa+94NvTOeK1l7t47eUhCjJ6Yj3c1n0uzhWSTjezFySdLmmNpM69/Fxkz4GcO0kaltpC9VJJN5vZIVlLiv21u3PMay/49nSOeO3lLl57eYiCjJ6sljQ07eMhktamH+CcW+uc+2fn3LGSrk7dtnVvPhdZdSDnTs65tan/vi3pUUnH9kJm7JvdnWNee8G323PEay+n8drLQxRk9ORZSSPNbISZFUm6RNIuV1Wb2SAz6/r/50pJd6benyfp42Y2wMwGSPp46jb0jv0+d6lzVtx1jKSTJXGRSfA8IOkLqRURTpC01Tm3Trz2ckGP547XXs77wJ+7yD0FvgMgeJxznWY2UclfrmFJdzrnlpnZDEmLnXMPSDpD0kwzc5Iel/TN1OduMrPrlPyBIUkznHN7umgFGXQg507SYZL+y8wSSv7xfBNXYfc+M7tXyXM0yMxWS/q+pEJJcs79XNKDSq6CsFxSm6TLU/fx2vNsf8+deO0FwgedPzOrVXKlmH6SEmb2HUmHO+e29fRz18fXgMxhmTcAAAAgDVMsAAAAgDQUZAAAACANBRkAAABIQ0EGAAAA0lCQAQAAgDQUZKAPMrO4mS1Je5sagEx3mdmKVJ4XzezsDD729n08/utm9oV9/Jx6M/v9viXb7WM9amavp74Pz5rZMXvxOd8xs7K0jx80s8pM5AGAvoZl3oA+yMy2O+cqfOdIZ2Z3SfqLc+73ZnampNuccyMz9NiB+3r3xMwelXSFc26xmV0u6VLn3LgP+JyVksY455p6ISIA5DVGkAFIksysf2rU8sOpj+81s6+m3j/HzJ5PjWg+nLqt3MzuTI1wvmBmF6RuP8LMnkmNBL9kZiNTx/419fkvm9lnPiDOk5Ia0rKNNrPHzOw5M5tnZnWp27+aev4XzewPXSOoqR2tnkzdd13a45yRepzfmdkbZnaTmX0ulXepmR2SOm66mV2Rev//mdkrqa/lvtRtp6eNvr9gZhEzG25mL6fuLzGzX6Qe84VU4ZeZXWZmfzSzv5nZm2Y2ey9OTffvxc/MbLGZLTOzH3RllFQvaYGZLUjdttKSu7LJzL6X+r6/nNrcAACwB+ykB/RNpWa2JO3jmc6536Z2g7rLzG6RNMA5d7uZVUu6XdJpzrkVZlaV+pyrJT3inPtS6p/ynzGzhyR9XdItzrl7LLntaljJ3cPWOuc+KSXL+AfkO0fS/aljCyX9RNIFzrmNqXJ9g6QvSfqjc+721HHXS/py6thbJP3MOfdLM/tmt8c+WsmdyzZJelvSHc65483s25K+Jal7gZwqaYRzLpo2ZeEKSd90zi00swpJO7p9TtfOkqPM7COS/m5mh6buO0bSsZKikl43s58451btzfci5erUrnlhSQ+b2VHOuVvN7HuSzuw+gmxmo5Xcse1jkkzS02b2mHPuhT08JwD0aRRkoG9qd869b16rc26+mf2LpJ8qWSQl6QRJjzvnVqSO6dq++OOSzu8aaZVUImmYkiOeV5vZECUL7JtmtlTSD81slpLTKJ7YTa7G1Kjq4NTzStKHJR0pab6ZScnCvS5135GpYlwpqULJrV4l6WRJF6Xe/5WkWWnP8axzbp0kmdlbkv6eun2ppDN7yPSSpHvM7H79X1FdKOk/zOye1Ne4OpWtyylKFnU5514zs3ckdRXkh51zW1PP/4qkgyT1VJDvMbPy1Nd7XNrtF5vZBCV/ftdJOjyVcXdOkfQn51xr6jn/KOlUSRRkANgNplgA2MnMQkqOrrZL6hopNkk9Xaxgki5yzh2TehvmnHvVOfcbSeenHmOemZ3lnHtD0mglS+hMM5u2mwiTJH1I0jWS7k57nmVpzzPKOffx1H13SZronBsl6QdKlvQuu7vAIpr2fiLt44R6HjT4pJJ/MIyW9JyZFTjnbpL0FUmlkp5KjRJ3/97sTvrzx3fznJL0OUkjJP0m9fwysxFKjl6f7Zw7StJftevX3JM9ZQEA9ICCDCDddyW9Kumzku5MTW94UtLpqXKmtCkW8yR9y1JDp2Z2bOq/B0t62zl3q6QHJB1lZvWS2pxzv5b0Q+06IroL51xCySkSITP7hKTXJVWb2Ympxy80syNSh0ckrUvl/FzawyyUdEnq/fTb90nqD4ahzrkFkiYrNVJtZoc455Y652ZJWiype0F+vOt5U1MrhqW+jn3inOtQ8o+FE8zsMEn9JLVK2mpmNZLGpx3eouT3o7vHJV1oZmWpEel/krS7EXwAgJhiAfRV3ecg/03SnUqOih7vnGsxs8clXeOc+37qn/T/mCqMGySNk3SdpJslvZQqySslnSfpM5L+1cw6JL0naYakjyo5fSIhqUPSv+0pnHPOpaZOTHbOzTOzT0u6NTV3uSD1vMskXSvpaUnvKDk63VUQvy3pN6l5xX/Y7+9ScnrDr1PPa5J+7JzbYmbXpS68i0t6RdJcJac7dPlPST9PTS3plHRZag7zPgdwzrWb2Y+UXNXiy2b2gpJf+9tK/iHQ5TZJc81snXPuzLTPf96SK4Q8k7rpDuYfA8CescwbAAAAkIYpFgAAAEAaCjIAAACQhoIMAAAApKEgAwAAAGkoyAAAAEAaCjIAAACQhoIMAAAApPn/bQtD/tXQLDIAAAAASUVORK5CYII=\n",
=======
      "image/png": "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\n",
>>>>>>> 80e3dde8f303f5933c136400d100a54031f18ca2
      "text/plain": [
       "<Figure size 720x720 with 3 Axes>"
      ]
     },
     "metadata": {
      "needs_background": "light"
     },
     "output_type": "display_data"
    }
   ],
   "source": [
    "import scipy.stats as stats\n",
    "j = sns.jointplot(x=\"Excess Readmission Ratio\", y=\"SRR\", data=df, size=10, color=\"g\", kind=\"reg\")\n",
    "j.annotate(stats.pearsonr)"
   ]
  },
  {
   "cell_type": "code",
   "execution_count": 17,
   "metadata": {},
   "outputs": [
    {
     "data": {
      "text/plain": [
       "<matplotlib.axes._subplots.AxesSubplot at 0x202375e4fd0>"
      ]
     },
     "execution_count": 17,
     "metadata": {},
     "output_type": "execute_result"
    },
    {
     "data": {
      "image/png": "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\n",
      "text/plain": [
       "<Figure size 1440x720 with 1 Axes>"
      ]
     },
     "metadata": {
      "needs_background": "light"
     },
     "output_type": "display_data"
    }
   ],
   "source": [
    "# Grouped bar chart\n",
    "df.plot(kind=\"bar\", figsize=(20,10))  "
   ]
  },
  {
   "cell_type": "code",
   "execution_count": 18,
   "metadata": {},
   "outputs": [
    {
     "data": {
      "text/html": [
       "<div>\n",
       "<style scoped>\n",
       "    .dataframe tbody tr th:only-of-type {\n",
       "        vertical-align: middle;\n",
       "    }\n",
       "\n",
       "    .dataframe tbody tr th {\n",
       "        vertical-align: top;\n",
       "    }\n",
       "\n",
       "    .dataframe thead th {\n",
       "        text-align: right;\n",
       "    }\n",
       "</style>\n",
       "<table border=\"1\" class=\"dataframe\">\n",
       "  <thead>\n",
       "    <tr style=\"text-align: right;\">\n",
       "      <th></th>\n",
       "      <th>State</th>\n",
       "      <th>Excess Readmission Ratio</th>\n",
       "      <th>SRR</th>\n",
       "    </tr>\n",
       "  </thead>\n",
       "  <tbody>\n",
       "    <tr>\n",
       "      <th>0</th>\n",
       "      <td>AK</td>\n",
       "      <td>0.956058</td>\n",
       "      <td>0.795926</td>\n",
       "    </tr>\n",
       "    <tr>\n",
       "      <th>1</th>\n",
       "      <td>AL</td>\n",
       "      <td>1.018150</td>\n",
       "      <td>0.932061</td>\n",
       "    </tr>\n",
       "    <tr>\n",
       "      <th>2</th>\n",
       "      <td>AR</td>\n",
       "      <td>1.023103</td>\n",
       "      <td>0.995192</td>\n",
       "    </tr>\n",
       "    <tr>\n",
       "      <th>3</th>\n",
       "      <td>AZ</td>\n",
       "      <td>0.983623</td>\n",
       "      <td>0.932405</td>\n",
       "    </tr>\n",
       "    <tr>\n",
       "      <th>4</th>\n",
       "      <td>CA</td>\n",
       "      <td>1.003880</td>\n",
       "      <td>0.967392</td>\n",
       "    </tr>\n",
       "  </tbody>\n",
       "</table>\n",
       "</div>"
      ],
      "text/plain": [
       "  State  Excess Readmission Ratio       SRR\n",
       "0    AK                  0.956058  0.795926\n",
       "1    AL                  1.018150  0.932061\n",
       "2    AR                  1.023103  0.995192\n",
       "3    AZ                  0.983623  0.932405\n",
       "4    CA                  1.003880  0.967392"
      ]
     },
     "execution_count": 18,
     "metadata": {},
     "output_type": "execute_result"
    }
   ],
   "source": [
    "df.head()"
   ]
  },
  {
   "cell_type": "code",
<<<<<<< HEAD
   "execution_count": 21,
=======
   "execution_count": 19,
   "metadata": {},
   "outputs": [
    {
     "data": {
      "image/png": "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\n",
      "text/plain": [
       "<Figure size 432x288 with 1 Axes>"
      ]
     },
     "metadata": {
      "needs_background": "light"
     },
     "output_type": "display_data"
    }
   ],
   "source": [
    "ax = plt.gca()\n",
    "\n",
    "df.plot(kind='line',x=\"State\", y=\"SRR\" ,ax=ax)\n",
    "df.plot(kind='line',x='State',y='Excess Readmission Ratio', color='red', ax=ax)\n",
    "\n",
    "plt.show()"
   ]
  },
  {
   "cell_type": "code",
   "execution_count": 20,
>>>>>>> 80e3dde8f303f5933c136400d100a54031f18ca2
   "metadata": {},
   "outputs": [
    {
     "data": {
      "text/plain": [
       "0.9393735798753111"
      ]
     },
     "execution_count": 20,
     "metadata": {},
     "output_type": "execute_result"
    }
   ],
   "source": [
    "df[\"SRR\"].mean()"
   ]
  },
  {
   "cell_type": "code",
   "execution_count": 21,
   "metadata": {},
   "outputs": [
    {
     "data": {
      "text/html": [
       "<div>\n",
       "<style scoped>\n",
       "    .dataframe tbody tr th:only-of-type {\n",
       "        vertical-align: middle;\n",
       "    }\n",
       "\n",
       "    .dataframe tbody tr th {\n",
       "        vertical-align: top;\n",
       "    }\n",
       "\n",
       "    .dataframe thead th {\n",
       "        text-align: right;\n",
       "    }\n",
       "</style>\n",
       "<table border=\"1\" class=\"dataframe\">\n",
       "  <thead>\n",
       "    <tr style=\"text-align: right;\">\n",
       "      <th></th>\n",
       "      <th>Excess Readmission Ratio</th>\n",
       "      <th>SRR</th>\n",
       "    </tr>\n",
       "  </thead>\n",
       "  <tbody>\n",
       "    <tr>\n",
       "      <th>count</th>\n",
       "      <td>51.000000</td>\n",
       "      <td>51.000000</td>\n",
       "    </tr>\n",
       "    <tr>\n",
       "      <th>mean</th>\n",
       "      <td>0.991212</td>\n",
       "      <td>0.939374</td>\n",
       "    </tr>\n",
       "    <tr>\n",
       "      <th>std</th>\n",
       "      <td>0.029532</td>\n",
       "      <td>0.104667</td>\n",
       "    </tr>\n",
       "    <tr>\n",
       "      <th>min</th>\n",
       "      <td>0.919639</td>\n",
       "      <td>0.589575</td>\n",
       "    </tr>\n",
       "    <tr>\n",
       "      <th>25%</th>\n",
       "      <td>0.967446</td>\n",
       "      <td>0.876168</td>\n",
       "    </tr>\n",
       "    <tr>\n",
       "      <th>50%</th>\n",
       "      <td>0.997538</td>\n",
       "      <td>0.969150</td>\n",
       "    </tr>\n",
       "    <tr>\n",
       "      <th>75%</th>\n",
       "      <td>1.010593</td>\n",
       "      <td>1.008740</td>\n",
       "    </tr>\n",
       "    <tr>\n",
       "      <th>max</th>\n",
       "      <td>1.037059</td>\n",
       "      <td>1.120314</td>\n",
       "    </tr>\n",
       "  </tbody>\n",
       "</table>\n",
       "</div>"
      ],
      "text/plain": [
       "       Excess Readmission Ratio        SRR\n",
       "count                 51.000000  51.000000\n",
       "mean                   0.991212   0.939374\n",
       "std                    0.029532   0.104667\n",
       "min                    0.919639   0.589575\n",
       "25%                    0.967446   0.876168\n",
       "50%                    0.997538   0.969150\n",
       "75%                    1.010593   1.008740\n",
       "max                    1.037059   1.120314"
      ]
     },
     "execution_count": 21,
     "metadata": {},
     "output_type": "execute_result"
    }
   ],
   "source": [
    "df.describe()"
   ]
  },
  {
   "cell_type": "code",
<<<<<<< HEAD
   "execution_count": 62,
=======
   "execution_count": 22,
>>>>>>> 80e3dde8f303f5933c136400d100a54031f18ca2
   "metadata": {},
   "outputs": [
    {
     "ename": "AttributeError",
     "evalue": "'FacetGrid' object has no attribute 'annotate'",
     "output_type": "error",
     "traceback": [
      "\u001b[1;31m---------------------------------------------------------------------------\u001b[0m",
      "\u001b[1;31mAttributeError\u001b[0m                            Traceback (most recent call last)",
      "\u001b[1;32m<ipython-input-62-24f79275c21f>\u001b[0m in \u001b[0;36m<module>\u001b[1;34m\u001b[0m\n\u001b[0;32m      2\u001b[0m \u001b[0mplt\u001b[0m\u001b[1;33m.\u001b[0m\u001b[0mfigure\u001b[0m\u001b[1;33m(\u001b[0m\u001b[0mfigsize\u001b[0m\u001b[1;33m=\u001b[0m\u001b[1;33m(\u001b[0m\u001b[1;36m16\u001b[0m\u001b[1;33m,\u001b[0m \u001b[1;36m16\u001b[0m\u001b[1;33m)\u001b[0m\u001b[1;33m)\u001b[0m\u001b[1;33m\u001b[0m\u001b[1;33m\u001b[0m\u001b[0m\n\u001b[0;32m      3\u001b[0m \u001b[0mj\u001b[0m \u001b[1;33m=\u001b[0m \u001b[0msns\u001b[0m\u001b[1;33m.\u001b[0m\u001b[0mlmplot\u001b[0m\u001b[1;33m(\u001b[0m\u001b[0mx\u001b[0m\u001b[1;33m=\u001b[0m\u001b[1;34m\"Excess Readmission Ratio\"\u001b[0m\u001b[1;33m,\u001b[0m \u001b[0my\u001b[0m\u001b[1;33m=\u001b[0m\u001b[1;34m\"SRR\"\u001b[0m\u001b[1;33m,\u001b[0m  \u001b[0mfit_reg\u001b[0m\u001b[1;33m=\u001b[0m\u001b[1;32mFalse\u001b[0m\u001b[1;33m,\u001b[0m \u001b[0mdata\u001b[0m\u001b[1;33m=\u001b[0m\u001b[0mdf\u001b[0m\u001b[1;33m,\u001b[0m \u001b[0mhue\u001b[0m\u001b[1;33m=\u001b[0m\u001b[1;34m\"Division\"\u001b[0m\u001b[1;33m,\u001b[0m \u001b[0mheight\u001b[0m\u001b[1;33m=\u001b[0m\u001b[1;36m12\u001b[0m\u001b[1;33m)\u001b[0m\u001b[1;33m\u001b[0m\u001b[1;33m\u001b[0m\u001b[0m\n\u001b[1;32m----> 4\u001b[1;33m \u001b[0mj\u001b[0m\u001b[1;33m.\u001b[0m\u001b[0mannotate\u001b[0m\u001b[1;33m(\u001b[0m\u001b[0mstats\u001b[0m\u001b[1;33m.\u001b[0m\u001b[0mpearsonr\u001b[0m\u001b[1;33m)\u001b[0m\u001b[1;33m\u001b[0m\u001b[1;33m\u001b[0m\u001b[0m\n\u001b[0m\u001b[0;32m      5\u001b[0m \u001b[1;32mfor\u001b[0m \u001b[0mline\u001b[0m \u001b[1;32min\u001b[0m \u001b[0mrange\u001b[0m\u001b[1;33m(\u001b[0m\u001b[1;36m0\u001b[0m\u001b[1;33m,\u001b[0m\u001b[0mdf\u001b[0m\u001b[1;33m.\u001b[0m\u001b[0mshape\u001b[0m\u001b[1;33m[\u001b[0m\u001b[1;36m0\u001b[0m\u001b[1;33m]\u001b[0m\u001b[1;33m)\u001b[0m\u001b[1;33m:\u001b[0m\u001b[1;33m\u001b[0m\u001b[1;33m\u001b[0m\u001b[0m\n\u001b[0;32m      6\u001b[0m      \u001b[0mj\u001b[0m\u001b[1;33m.\u001b[0m\u001b[0mtext\u001b[0m\u001b[1;33m(\u001b[0m\u001b[0mdf\u001b[0m\u001b[1;33m[\u001b[0m\u001b[1;34m\"Excess Readmission Ratio\"\u001b[0m\u001b[1;33m]\u001b[0m\u001b[1;33m[\u001b[0m\u001b[0mline\u001b[0m\u001b[1;33m]\u001b[0m\u001b[1;33m,\u001b[0m \u001b[0mdf\u001b[0m\u001b[1;33m[\u001b[0m\u001b[1;34m\"SRR\"\u001b[0m\u001b[1;33m]\u001b[0m\u001b[1;33m[\u001b[0m\u001b[0mline\u001b[0m\u001b[1;33m]\u001b[0m\u001b[1;33m,\u001b[0m \u001b[0mdf\u001b[0m\u001b[1;33m[\u001b[0m\u001b[1;34m\"State\"\u001b[0m\u001b[1;33m]\u001b[0m\u001b[1;33m[\u001b[0m\u001b[0mline\u001b[0m\u001b[1;33m]\u001b[0m\u001b[1;33m,\u001b[0m \u001b[0mhorizontalalignment\u001b[0m\u001b[1;33m=\u001b[0m\u001b[1;34m'left'\u001b[0m\u001b[1;33m,\u001b[0m \u001b[0msize\u001b[0m\u001b[1;33m=\u001b[0m\u001b[1;34m'medium'\u001b[0m\u001b[1;33m,\u001b[0m \u001b[0mcolor\u001b[0m\u001b[1;33m=\u001b[0m\u001b[1;34m'black'\u001b[0m\u001b[1;33m,\u001b[0m \u001b[0mweight\u001b[0m\u001b[1;33m=\u001b[0m\u001b[1;34m'semibold'\u001b[0m\u001b[1;33m)\u001b[0m\u001b[1;33m\u001b[0m\u001b[1;33m\u001b[0m\u001b[0m\n",
      "\u001b[1;31mAttributeError\u001b[0m: 'FacetGrid' object has no attribute 'annotate'"
     ]
    },
    {
     "data": {
      "text/plain": [
<<<<<<< HEAD
       "<Figure size 1152x1152 with 0 Axes>"
      ]
     },
=======
       "<matplotlib.axes._subplots.AxesSubplot at 0x202379e4c88>"
      ]
     },
     "execution_count": 22,
>>>>>>> 80e3dde8f303f5933c136400d100a54031f18ca2
     "metadata": {},
     "output_type": "display_data"
    },
    {
     "data": {
<<<<<<< HEAD
      "image/png": "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\n",
=======
      "image/png": "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\n",
>>>>>>> 80e3dde8f303f5933c136400d100a54031f18ca2
      "text/plain": [
       "<Figure size 996.625x864 with 1 Axes>"
      ]
     },
     "metadata": {
      "needs_background": "light"
     },
     "output_type": "display_data"
    }
   ],
   "source": [
    "import scipy.stats as stats\n",
    "plt.figure(figsize=(16, 16))\n",
    "j = sns.lmplot(x=\"Excess Readmission Ratio\", y=\"SRR\",  fit_reg=False, data=df, hue=\"Division\", height=12)\n",
    "j.annotate(stats.pearsonr)\n",
    "for line in range(0,df.shape[0]):\n",
    "     j.text(df[\"Excess Readmission Ratio\"][line], df[\"SRR\"][line], df[\"State\"][line], horizontalalignment='left', size='medium', color='black', weight='semibold')"
   ]
  },
  {
   "cell_type": "code",
   "execution_count": null,
   "metadata": {},
   "outputs": [],
   "source": []
  }
 ],
 "metadata": {
  "kernelspec": {
   "display_name": "Python 3",
   "language": "python",
   "name": "python3"
  },
  "language_info": {
   "codemirror_mode": {
    "name": "ipython",
    "version": 3
   },
   "file_extension": ".py",
   "mimetype": "text/x-python",
   "name": "python",
   "nbconvert_exporter": "python",
   "pygments_lexer": "ipython3",
   "version": "3.7.1"
  }
 },
 "nbformat": 4,
 "nbformat_minor": 2
}
