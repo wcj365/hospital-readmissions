{
  "cells": [
    {
      "metadata": {
        "trusted": true
      },
      "cell_type": "code",
      "source": "import numpy as np\nimport matplotlib.pyplot as plt\nimport tensorflow as tf",
      "execution_count": 1,
      "outputs": [
        {
          "output_type": "stream",
          "text": "/home/nbuser/anaconda3_501/lib/python3.6/site-packages/matplotlib/font_manager.py:229: UserWarning: Matplotlib is building the font cache using fc-list. This may take a moment.\n  'Matplotlib is building the font cache using fc-list. '\n",
          "name": "stderr"
        }
      ]
    },
    {
      "metadata": {
        "trusted": true
      },
      "cell_type": "code",
      "source": "np.random.seed(101) \ntf.set_random_seed(101) ",
      "execution_count": 2,
      "outputs": []
    },
    {
      "metadata": {
        "trusted": true
      },
      "cell_type": "code",
      "source": "# Genrating random linear data \n# There will be 50 data points ranging from 0 to 50 \nx = np.linspace(0, 50, 50) \ny = np.linspace(0, 50, 50) \n  \n# Adding noise to the random linear data \nx += np.random.uniform(-4, 4, 50) \ny += np.random.uniform(-4, 4, 50) \n  \nn = len(x) # Number of data points ",
      "execution_count": 3,
      "outputs": []
    },
    {
      "metadata": {
        "trusted": true
      },
      "cell_type": "code",
      "source": "# Plot of Training Data \nplt.scatter(x, y) \nplt.xlabel('x') \nplt.ylabel('y') \nplt.title(\"Training Data\") \nplt.show() ",
      "execution_count": 5,
      "outputs": [
        {
          "output_type": "display_data",
          "data": {
            "image/png": "[encoded data removed]",
            "text/plain": "<Figure size 432x288 with 1 Axes>"
          },
          "metadata": {
            "needs_background": "light"
          }
        }
      ]
    },
    {
      "metadata": {
        "trusted": true
      },
      "cell_type": "code",
      "source": "X = tf.placeholder(\"float\") \nY = tf.placeholder(\"float\") ",
      "execution_count": 6,
      "outputs": []
    },
    {
      "metadata": {
        "trusted": true
      },
      "cell_type": "code",
      "source": "W = tf.Variable(np.random.randn(), name = \"W\") \nb = tf.Variable(np.random.randn(), name = \"b\") ",
      "execution_count": 7,
      "outputs": []
    },
    {
      "metadata": {
        "trusted": true
      },
      "cell_type": "code",
      "source": "learning_rate = 0.01\ntraining_epochs = 1000",
      "execution_count": 9,
      "outputs": []
    },
    {
      "metadata": {
        "trusted": true
      },
      "cell_type": "code",
      "source": "# Hypothesis \ny_pred = tf.add(tf.multiply(X, W), b) \n  \n# Mean Squared Error Cost Function \ncost = tf.reduce_sum(tf.pow(y_pred-Y, 2)) / (2 * n) \n  \n# Gradient Descent Optimizer \noptimizer = tf.train.GradientDescentOptimizer(learning_rate).minimize(cost) \n  \n# Global Variables Initializer \ninit = tf.global_variables_initializer() ",
      "execution_count": 10,
      "outputs": []
    },
    {
      "metadata": {
        "trusted": true
      },
      "cell_type": "code",
      "source": "# Starting the Tensorflow Session \nwith tf.Session() as sess: \n      \n    # Initializing the Variables \n    sess.run(init) \n      \n    # Iterating through all the epochs \n    for epoch in range(training_epochs): \n          \n        # Feeding each data point into the optimizer using Feed Dictionary \n        for (_x, _y) in zip(x, y): \n            sess.run(optimizer, feed_dict = {X : _x, Y : _y}) \n          \n        # Displaying the result after every 50 epochs \n        if (epoch + 1) % 50 == 0: \n            # Calculating the cost a every epoch \n            c = sess.run(cost, feed_dict = {X : x, Y : y}) \n            print(\"Epoch\", (epoch + 1), \": cost =\", c, \"W =\", sess.run(W), \"b =\", sess.run(b)) \n      \n    # Storing necessary values to be used outside the Session \n    training_cost = sess.run(cost, feed_dict ={X: x, Y: y}) \n    weight = sess.run(W) \n    bias = sess.run(b) ",
      "execution_count": 11,
      "outputs": [
        {
          "output_type": "stream",
          "text": "Epoch 50 : cost = 5.8868036 W = 0.9951241 b = 1.238105\nEpoch 100 : cost = 5.79127 W = 0.99812365 b = 1.0914395\nEpoch 150 : cost = 5.7119684 W = 1.0008028 b = 0.96044284\nEpoch 200 : cost = 5.6459413 W = 1.0031956 b = 0.84343934\nEpoch 250 : cost = 5.5907993 W = 1.0053328 b = 0.7389355\nEpoch 300 : cost = 5.544608 W = 1.007242 b = 0.6455921\nEpoch 350 : cost = 5.5057893 W = 1.008947 b = 0.56221986\nEpoch 400 : cost = 5.473066 W = 1.01047 b = 0.48775342\nEpoch 450 : cost = 5.445385 W = 1.0118302 b = 0.42124158\nEpoch 500 : cost = 5.4219036 W = 1.0130452 b = 0.36183482\nEpoch 550 : cost = 5.4019227 W = 1.0141305 b = 0.30877408\nEpoch 600 : cost = 5.3848557 W = 1.0150996 b = 0.2613811\nEpoch 650 : cost = 5.370246 W = 1.0159653 b = 0.21905078\nEpoch 700 : cost = 5.3576994 W = 1.0167387 b = 0.18124203\nEpoch 750 : cost = 5.3468933 W = 1.0174294 b = 0.14747237\nEpoch 800 : cost = 5.337558 W = 1.0180461 b = 0.11730931\nEpoch 850 : cost = 5.3294754 W = 1.0185971 b = 0.090368524\nEpoch 900 : cost = 5.322459 W = 1.0190892 b = 0.06630575\nEpoch 950 : cost = 5.3163586 W = 1.0195289 b = 0.044813294\nEpoch 1000 : cost = 5.3110332 W = 1.0199214 b = 0.02561658\n",
          "name": "stdout"
        }
      ]
    },
    {
      "metadata": {
        "trusted": true
      },
      "cell_type": "code",
      "source": "# Calculating the predictions \npredictions = weight * x + bias \nprint(\"Training cost =\", training_cost, \"Weight =\", weight, \"bias =\", bias, '\\n') ",
      "execution_count": 12,
      "outputs": [
        {
          "output_type": "stream",
          "text": "Training cost = 5.3110332 Weight = 1.0199214 bias = 0.02561658 \n\n",
          "name": "stdout"
        }
      ]
    },
    {
      "metadata": {
        "trusted": true
      },
      "cell_type": "code",
      "source": "# Plotting the Results \nplt.plot(x, y, 'ro', label ='Original data') \nplt.plot(x, predictions, label ='Fitted line') \nplt.title('Linear Regression Result') \nplt.legend() \nplt.show() ",
      "execution_count": 13,
      "outputs": [
        {
          "output_type": "display_data",
          "data": {
            "image/png": "[encoded data removed]",
            "text/plain": "<Figure size 432x288 with 1 Axes>"
          },
          "metadata": {
            "needs_background": "light"
          }
        }
      ]
    },
    {
      "metadata": {
        "trusted": true
      },
      "cell_type": "code",
      "source": "",
      "execution_count": null,
      "outputs": []
    }
  ],
  "metadata": {
    "kernelspec": {
      "name": "python36",
      "display_name": "Python 3.6",
      "language": "python"
    },
    "language_info": {
      "mimetype": "text/x-python",
      "nbconvert_exporter": "python",
      "name": "python",
      "pygments_lexer": "ipython3",
      "version": "3.6.6",
      "file_extension": ".py",
      "codemirror_mode": {
        "version": 3,
        "name": "ipython"
      }
    }
  },
  "nbformat": 4,
  "nbformat_minor": 2
}