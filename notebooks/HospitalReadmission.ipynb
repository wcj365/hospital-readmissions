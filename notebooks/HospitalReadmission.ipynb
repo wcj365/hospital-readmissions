{
 "cells": [
  {
   "cell_type": "code",
   "execution_count": null,
   "metadata": {},
   "outputs": [],
   "source": [
    "import numpy as np\n",
    "import pandas as pd\n",
    "import matplotlib.pyplot as ply\n",
    "import seaborn as sns"
   ]
  },
  {
   "cell_type": "code",
   "execution_count": 2,
   "metadata": {},
   "outputs": [
    {
     "name": "stdout",
     "output_type": "stream",
     "text": [
      "<class 'pandas.core.frame.DataFrame'>\n",
      "RangeIndex: 19674 entries, 0 to 19673\n",
      "Data columns (total 12 columns):\n",
      "Hospital Name                 19674 non-null object\n",
      "Provider ID                   19674 non-null int64\n",
      "State                         19674 non-null object\n",
      "Measure Name                  19674 non-null object\n",
      "Number of Discharges          19674 non-null object\n",
      "Footnote                      8157 non-null object\n",
      "Excess Readmission Ratio      19674 non-null object\n",
      "Predicted Readmission Rate    19674 non-null object\n",
      "Expected Readmission Rate     19674 non-null object\n",
      "Number of Readmissions        19674 non-null object\n",
      "Start Date                    19674 non-null object\n",
      "End Date                      19674 non-null object\n",
      "dtypes: int64(1), object(11)\n",
      "memory usage: 1.8+ MB\n"
     ]
    }
   ],
   "source": [
    "hosp = pd.read_csv(\"../data/input/Hospital_Readmissions_Reduction_Program.csv\")\n",
    "hosp.info()"
   ]
  },
  {
   "cell_type": "code",
   "execution_count": 3,
   "metadata": {},
   "outputs": [
    {
     "data": {
      "text/html": [
       "<div>\n",
       "<style scoped>\n",
       "    .dataframe tbody tr th:only-of-type {\n",
       "        vertical-align: middle;\n",
       "    }\n",
       "\n",
       "    .dataframe tbody tr th {\n",
       "        vertical-align: top;\n",
       "    }\n",
       "\n",
       "    .dataframe thead th {\n",
       "        text-align: right;\n",
       "    }\n",
       "</style>\n",
       "<table border=\"1\" class=\"dataframe\">\n",
       "  <thead>\n",
       "    <tr style=\"text-align: right;\">\n",
       "      <th></th>\n",
       "      <th>Hospital Name</th>\n",
       "      <th>Provider ID</th>\n",
       "      <th>State</th>\n",
       "      <th>Measure Name</th>\n",
       "      <th>Number of Discharges</th>\n",
       "      <th>Footnote</th>\n",
       "      <th>Excess Readmission Ratio</th>\n",
       "      <th>Predicted Readmission Rate</th>\n",
       "      <th>Expected Readmission Rate</th>\n",
       "      <th>Number of Readmissions</th>\n",
       "      <th>Start Date</th>\n",
       "      <th>End Date</th>\n",
       "    </tr>\n",
       "  </thead>\n",
       "  <tbody>\n",
       "    <tr>\n",
       "      <th>0</th>\n",
       "      <td>BYRD REGIONAL HOSPITAL</td>\n",
       "      <td>190164</td>\n",
       "      <td>LA</td>\n",
       "      <td>READM_30_AMI_HRRP</td>\n",
       "      <td>Not Available</td>\n",
       "      <td>1 - The number of cases/patients is too few to...</td>\n",
       "      <td>Not Available</td>\n",
       "      <td>Not Available</td>\n",
       "      <td>Not Available</td>\n",
       "      <td>Not Available</td>\n",
       "      <td>07/01/2014</td>\n",
       "      <td>06/30/2017</td>\n",
       "    </tr>\n",
       "    <tr>\n",
       "      <th>1</th>\n",
       "      <td>BYRD REGIONAL HOSPITAL</td>\n",
       "      <td>190164</td>\n",
       "      <td>LA</td>\n",
       "      <td>READM_30_CABG_HRRP</td>\n",
       "      <td>Not Available</td>\n",
       "      <td>1 - The number of cases/patients is too few to...</td>\n",
       "      <td>Not Available</td>\n",
       "      <td>Not Available</td>\n",
       "      <td>Not Available</td>\n",
       "      <td>Not Available</td>\n",
       "      <td>07/01/2014</td>\n",
       "      <td>06/30/2017</td>\n",
       "    </tr>\n",
       "    <tr>\n",
       "      <th>2</th>\n",
       "      <td>BYRD REGIONAL HOSPITAL</td>\n",
       "      <td>190164</td>\n",
       "      <td>LA</td>\n",
       "      <td>READM_30_COPD_HRRP</td>\n",
       "      <td>217</td>\n",
       "      <td>NaN</td>\n",
       "      <td>1.0195</td>\n",
       "      <td>20.9722</td>\n",
       "      <td>20.5712</td>\n",
       "      <td>47</td>\n",
       "      <td>07/01/2014</td>\n",
       "      <td>06/30/2017</td>\n",
       "    </tr>\n",
       "    <tr>\n",
       "      <th>3</th>\n",
       "      <td>BYRD REGIONAL HOSPITAL</td>\n",
       "      <td>190164</td>\n",
       "      <td>LA</td>\n",
       "      <td>READM_30_HF_HRRP</td>\n",
       "      <td>259</td>\n",
       "      <td>NaN</td>\n",
       "      <td>1.0773</td>\n",
       "      <td>23.9788</td>\n",
       "      <td>22.2578</td>\n",
       "      <td>67</td>\n",
       "      <td>07/01/2014</td>\n",
       "      <td>06/30/2017</td>\n",
       "    </tr>\n",
       "    <tr>\n",
       "      <th>4</th>\n",
       "      <td>BYRD REGIONAL HOSPITAL</td>\n",
       "      <td>190164</td>\n",
       "      <td>LA</td>\n",
       "      <td>READM_30_HIP_KNEE_HRRP</td>\n",
       "      <td>Not Available</td>\n",
       "      <td>1 - The number of cases/patients is too few to...</td>\n",
       "      <td>Not Available</td>\n",
       "      <td>Not Available</td>\n",
       "      <td>Not Available</td>\n",
       "      <td>Not Available</td>\n",
       "      <td>07/01/2014</td>\n",
       "      <td>06/30/2017</td>\n",
       "    </tr>\n",
       "  </tbody>\n",
       "</table>\n",
       "</div>"
      ],
      "text/plain": [
       "            Hospital Name  Provider ID State            Measure Name  \\\n",
       "0  BYRD REGIONAL HOSPITAL       190164    LA       READM_30_AMI_HRRP   \n",
       "1  BYRD REGIONAL HOSPITAL       190164    LA      READM_30_CABG_HRRP   \n",
       "2  BYRD REGIONAL HOSPITAL       190164    LA      READM_30_COPD_HRRP   \n",
       "3  BYRD REGIONAL HOSPITAL       190164    LA        READM_30_HF_HRRP   \n",
       "4  BYRD REGIONAL HOSPITAL       190164    LA  READM_30_HIP_KNEE_HRRP   \n",
       "\n",
       "  Number of Discharges                                           Footnote  \\\n",
       "0        Not Available  1 - The number of cases/patients is too few to...   \n",
       "1        Not Available  1 - The number of cases/patients is too few to...   \n",
       "2                  217                                                NaN   \n",
       "3                  259                                                NaN   \n",
       "4        Not Available  1 - The number of cases/patients is too few to...   \n",
       "\n",
       "  Excess Readmission Ratio Predicted Readmission Rate  \\\n",
       "0            Not Available              Not Available   \n",
       "1            Not Available              Not Available   \n",
       "2                   1.0195                    20.9722   \n",
       "3                   1.0773                    23.9788   \n",
       "4            Not Available              Not Available   \n",
       "\n",
       "  Expected Readmission Rate Number of Readmissions  Start Date    End Date  \n",
       "0             Not Available          Not Available  07/01/2014  06/30/2017  \n",
       "1             Not Available          Not Available  07/01/2014  06/30/2017  \n",
       "2                   20.5712                     47  07/01/2014  06/30/2017  \n",
       "3                   22.2578                     67  07/01/2014  06/30/2017  \n",
       "4             Not Available          Not Available  07/01/2014  06/30/2017  "
      ]
     },
     "execution_count": 3,
     "metadata": {},
     "output_type": "execute_result"
    }
   ],
   "source": [
    "hosp.head()"
   ]
  },
  {
   "cell_type": "code",
   "execution_count": 4,
   "metadata": {},
   "outputs": [
    {
     "name": "stdout",
     "output_type": "stream",
     "text": [
      "<class 'pandas.core.frame.DataFrame'>\n",
      "RangeIndex: 19674 entries, 0 to 19673\n",
      "Data columns (total 12 columns):\n",
      "Hospital Name                 19674 non-null object\n",
      "Provider ID                   19674 non-null int64\n",
      "State                         19674 non-null object\n",
      "Measure Name                  19674 non-null object\n",
      "Number of Discharges          19674 non-null object\n",
      "Footnote                      8157 non-null object\n",
      "Excess Readmission Ratio      14280 non-null float64\n",
      "Predicted Readmission Rate    19674 non-null object\n",
      "Expected Readmission Rate     19674 non-null object\n",
      "Number of Readmissions        19674 non-null object\n",
      "Start Date                    19674 non-null object\n",
      "End Date                      19674 non-null object\n",
      "dtypes: float64(1), int64(1), object(10)\n",
      "memory usage: 1.8+ MB\n"
     ]
    }
   ],
   "source": [
    "hosp['Excess Readmission Ratio'] = pd.to_numeric(hosp['Excess Readmission Ratio'],errors='coerce')\n",
    "hosp.info()"
   ]
  },
  {
   "cell_type": "code",
   "execution_count": 5,
   "metadata": {},
   "outputs": [
    {
     "data": {
      "text/html": [
       "<div>\n",
       "<style scoped>\n",
       "    .dataframe tbody tr th:only-of-type {\n",
       "        vertical-align: middle;\n",
       "    }\n",
       "\n",
       "    .dataframe tbody tr th {\n",
       "        vertical-align: top;\n",
       "    }\n",
       "\n",
       "    .dataframe thead th {\n",
       "        text-align: right;\n",
       "    }\n",
       "</style>\n",
       "<table border=\"1\" class=\"dataframe\">\n",
       "  <thead>\n",
       "    <tr style=\"text-align: right;\">\n",
       "      <th></th>\n",
       "      <th>Hospital Name</th>\n",
       "      <th>Provider ID</th>\n",
       "      <th>State</th>\n",
       "      <th>Measure Name</th>\n",
       "      <th>Number of Discharges</th>\n",
       "      <th>Footnote</th>\n",
       "      <th>Excess Readmission Ratio</th>\n",
       "      <th>Predicted Readmission Rate</th>\n",
       "      <th>Expected Readmission Rate</th>\n",
       "      <th>Number of Readmissions</th>\n",
       "      <th>Start Date</th>\n",
       "      <th>End Date</th>\n",
       "    </tr>\n",
       "  </thead>\n",
       "  <tbody>\n",
       "    <tr>\n",
       "      <th>0</th>\n",
       "      <td>BYRD REGIONAL HOSPITAL</td>\n",
       "      <td>190164</td>\n",
       "      <td>LA</td>\n",
       "      <td>READM_30_AMI_HRRP</td>\n",
       "      <td>Not Available</td>\n",
       "      <td>1 - The number of cases/patients is too few to...</td>\n",
       "      <td>NaN</td>\n",
       "      <td>Not Available</td>\n",
       "      <td>Not Available</td>\n",
       "      <td>Not Available</td>\n",
       "      <td>07/01/2014</td>\n",
       "      <td>06/30/2017</td>\n",
       "    </tr>\n",
       "    <tr>\n",
       "      <th>1</th>\n",
       "      <td>BYRD REGIONAL HOSPITAL</td>\n",
       "      <td>190164</td>\n",
       "      <td>LA</td>\n",
       "      <td>READM_30_CABG_HRRP</td>\n",
       "      <td>Not Available</td>\n",
       "      <td>1 - The number of cases/patients is too few to...</td>\n",
       "      <td>NaN</td>\n",
       "      <td>Not Available</td>\n",
       "      <td>Not Available</td>\n",
       "      <td>Not Available</td>\n",
       "      <td>07/01/2014</td>\n",
       "      <td>06/30/2017</td>\n",
       "    </tr>\n",
       "    <tr>\n",
       "      <th>2</th>\n",
       "      <td>BYRD REGIONAL HOSPITAL</td>\n",
       "      <td>190164</td>\n",
       "      <td>LA</td>\n",
       "      <td>READM_30_COPD_HRRP</td>\n",
       "      <td>217</td>\n",
       "      <td>NaN</td>\n",
       "      <td>1.0195</td>\n",
       "      <td>20.9722</td>\n",
       "      <td>20.5712</td>\n",
       "      <td>47</td>\n",
       "      <td>07/01/2014</td>\n",
       "      <td>06/30/2017</td>\n",
       "    </tr>\n",
       "    <tr>\n",
       "      <th>3</th>\n",
       "      <td>BYRD REGIONAL HOSPITAL</td>\n",
       "      <td>190164</td>\n",
       "      <td>LA</td>\n",
       "      <td>READM_30_HF_HRRP</td>\n",
       "      <td>259</td>\n",
       "      <td>NaN</td>\n",
       "      <td>1.0773</td>\n",
       "      <td>23.9788</td>\n",
       "      <td>22.2578</td>\n",
       "      <td>67</td>\n",
       "      <td>07/01/2014</td>\n",
       "      <td>06/30/2017</td>\n",
       "    </tr>\n",
       "    <tr>\n",
       "      <th>4</th>\n",
       "      <td>BYRD REGIONAL HOSPITAL</td>\n",
       "      <td>190164</td>\n",
       "      <td>LA</td>\n",
       "      <td>READM_30_HIP_KNEE_HRRP</td>\n",
       "      <td>Not Available</td>\n",
       "      <td>1 - The number of cases/patients is too few to...</td>\n",
       "      <td>NaN</td>\n",
       "      <td>Not Available</td>\n",
       "      <td>Not Available</td>\n",
       "      <td>Not Available</td>\n",
       "      <td>07/01/2014</td>\n",
       "      <td>06/30/2017</td>\n",
       "    </tr>\n",
       "  </tbody>\n",
       "</table>\n",
       "</div>"
      ],
      "text/plain": [
       "            Hospital Name  Provider ID State            Measure Name  \\\n",
       "0  BYRD REGIONAL HOSPITAL       190164    LA       READM_30_AMI_HRRP   \n",
       "1  BYRD REGIONAL HOSPITAL       190164    LA      READM_30_CABG_HRRP   \n",
       "2  BYRD REGIONAL HOSPITAL       190164    LA      READM_30_COPD_HRRP   \n",
       "3  BYRD REGIONAL HOSPITAL       190164    LA        READM_30_HF_HRRP   \n",
       "4  BYRD REGIONAL HOSPITAL       190164    LA  READM_30_HIP_KNEE_HRRP   \n",
       "\n",
       "  Number of Discharges                                           Footnote  \\\n",
       "0        Not Available  1 - The number of cases/patients is too few to...   \n",
       "1        Not Available  1 - The number of cases/patients is too few to...   \n",
       "2                  217                                                NaN   \n",
       "3                  259                                                NaN   \n",
       "4        Not Available  1 - The number of cases/patients is too few to...   \n",
       "\n",
       "   Excess Readmission Ratio Predicted Readmission Rate  \\\n",
       "0                       NaN              Not Available   \n",
       "1                       NaN              Not Available   \n",
       "2                    1.0195                    20.9722   \n",
       "3                    1.0773                    23.9788   \n",
       "4                       NaN              Not Available   \n",
       "\n",
       "  Expected Readmission Rate Number of Readmissions  Start Date    End Date  \n",
       "0             Not Available          Not Available  07/01/2014  06/30/2017  \n",
       "1             Not Available          Not Available  07/01/2014  06/30/2017  \n",
       "2                   20.5712                     47  07/01/2014  06/30/2017  \n",
       "3                   22.2578                     67  07/01/2014  06/30/2017  \n",
       "4             Not Available          Not Available  07/01/2014  06/30/2017  "
      ]
     },
     "execution_count": 5,
     "metadata": {},
     "output_type": "execute_result"
    }
   ],
   "source": [
    "hosp.head()"
   ]
  },
  {
   "cell_type": "code",
   "execution_count": 6,
   "metadata": {},
   "outputs": [
    {
     "data": {
      "text/plain": [
       "(19674, 12)"
      ]
     },
     "execution_count": 6,
     "metadata": {},
     "output_type": "execute_result"
    }
   ],
   "source": [
    "hosp.shape"
   ]
  },
  {
   "cell_type": "code",
   "execution_count": 7,
   "metadata": {},
   "outputs": [
    {
     "data": {
      "text/plain": [
       "(14280, 12)"
      ]
     },
     "execution_count": 7,
     "metadata": {},
     "output_type": "execute_result"
    }
   ],
   "source": [
    "hosp2 = hosp[pd.notnull(hosp['Excess Readmission Ratio'])]\n",
    "hosp2.shape"
   ]
  },
  {
   "cell_type": "code",
   "execution_count": 8,
   "metadata": {},
   "outputs": [
    {
     "data": {
      "text/html": [
       "<div>\n",
       "<style scoped>\n",
       "    .dataframe tbody tr th:only-of-type {\n",
       "        vertical-align: middle;\n",
       "    }\n",
       "\n",
       "    .dataframe tbody tr th {\n",
       "        vertical-align: top;\n",
       "    }\n",
       "\n",
       "    .dataframe thead th {\n",
       "        text-align: right;\n",
       "    }\n",
       "</style>\n",
       "<table border=\"1\" class=\"dataframe\">\n",
       "  <thead>\n",
       "    <tr style=\"text-align: right;\">\n",
       "      <th></th>\n",
       "      <th>Hospital Name</th>\n",
       "      <th>Provider ID</th>\n",
       "      <th>State</th>\n",
       "      <th>Measure Name</th>\n",
       "      <th>Number of Discharges</th>\n",
       "      <th>Footnote</th>\n",
       "      <th>Excess Readmission Ratio</th>\n",
       "      <th>Predicted Readmission Rate</th>\n",
       "      <th>Expected Readmission Rate</th>\n",
       "      <th>Number of Readmissions</th>\n",
       "      <th>Start Date</th>\n",
       "      <th>End Date</th>\n",
       "    </tr>\n",
       "  </thead>\n",
       "  <tbody>\n",
       "    <tr>\n",
       "      <th>2</th>\n",
       "      <td>BYRD REGIONAL HOSPITAL</td>\n",
       "      <td>190164</td>\n",
       "      <td>LA</td>\n",
       "      <td>READM_30_COPD_HRRP</td>\n",
       "      <td>217</td>\n",
       "      <td>NaN</td>\n",
       "      <td>1.0195</td>\n",
       "      <td>20.9722</td>\n",
       "      <td>20.5712</td>\n",
       "      <td>47</td>\n",
       "      <td>07/01/2014</td>\n",
       "      <td>06/30/2017</td>\n",
       "    </tr>\n",
       "    <tr>\n",
       "      <th>3</th>\n",
       "      <td>BYRD REGIONAL HOSPITAL</td>\n",
       "      <td>190164</td>\n",
       "      <td>LA</td>\n",
       "      <td>READM_30_HF_HRRP</td>\n",
       "      <td>259</td>\n",
       "      <td>NaN</td>\n",
       "      <td>1.0773</td>\n",
       "      <td>23.9788</td>\n",
       "      <td>22.2578</td>\n",
       "      <td>67</td>\n",
       "      <td>07/01/2014</td>\n",
       "      <td>06/30/2017</td>\n",
       "    </tr>\n",
       "    <tr>\n",
       "      <th>5</th>\n",
       "      <td>BYRD REGIONAL HOSPITAL</td>\n",
       "      <td>190164</td>\n",
       "      <td>LA</td>\n",
       "      <td>READM_30_PN_HRRP</td>\n",
       "      <td>213</td>\n",
       "      <td>NaN</td>\n",
       "      <td>1.1031</td>\n",
       "      <td>19.2445</td>\n",
       "      <td>17.4459</td>\n",
       "      <td>47</td>\n",
       "      <td>07/01/2014</td>\n",
       "      <td>06/30/2017</td>\n",
       "    </tr>\n",
       "    <tr>\n",
       "      <th>8</th>\n",
       "      <td>GRAND ITASCA CLINIC AND HOSPITAL</td>\n",
       "      <td>240064</td>\n",
       "      <td>MN</td>\n",
       "      <td>READM_30_COPD_HRRP</td>\n",
       "      <td>Not Available</td>\n",
       "      <td>5 - Results are not available for this reporti...</td>\n",
       "      <td>1.0024</td>\n",
       "      <td>18.0061</td>\n",
       "      <td>17.9630</td>\n",
       "      <td>Not Available</td>\n",
       "      <td>07/01/2014</td>\n",
       "      <td>06/30/2017</td>\n",
       "    </tr>\n",
       "    <tr>\n",
       "      <th>9</th>\n",
       "      <td>GRAND ITASCA CLINIC AND HOSPITAL</td>\n",
       "      <td>240064</td>\n",
       "      <td>MN</td>\n",
       "      <td>READM_30_HF_HRRP</td>\n",
       "      <td>75</td>\n",
       "      <td>NaN</td>\n",
       "      <td>0.9726</td>\n",
       "      <td>19.6816</td>\n",
       "      <td>20.2355</td>\n",
       "      <td>13</td>\n",
       "      <td>07/01/2014</td>\n",
       "      <td>06/30/2017</td>\n",
       "    </tr>\n",
       "  </tbody>\n",
       "</table>\n",
       "</div>"
      ],
      "text/plain": [
       "                      Hospital Name  Provider ID State        Measure Name  \\\n",
       "2            BYRD REGIONAL HOSPITAL       190164    LA  READM_30_COPD_HRRP   \n",
       "3            BYRD REGIONAL HOSPITAL       190164    LA    READM_30_HF_HRRP   \n",
       "5            BYRD REGIONAL HOSPITAL       190164    LA    READM_30_PN_HRRP   \n",
       "8  GRAND ITASCA CLINIC AND HOSPITAL       240064    MN  READM_30_COPD_HRRP   \n",
       "9  GRAND ITASCA CLINIC AND HOSPITAL       240064    MN    READM_30_HF_HRRP   \n",
       "\n",
       "  Number of Discharges                                           Footnote  \\\n",
       "2                  217                                                NaN   \n",
       "3                  259                                                NaN   \n",
       "5                  213                                                NaN   \n",
       "8        Not Available  5 - Results are not available for this reporti...   \n",
       "9                   75                                                NaN   \n",
       "\n",
       "   Excess Readmission Ratio Predicted Readmission Rate  \\\n",
       "2                    1.0195                    20.9722   \n",
       "3                    1.0773                    23.9788   \n",
       "5                    1.1031                    19.2445   \n",
       "8                    1.0024                    18.0061   \n",
       "9                    0.9726                    19.6816   \n",
       "\n",
       "  Expected Readmission Rate Number of Readmissions  Start Date    End Date  \n",
       "2                   20.5712                     47  07/01/2014  06/30/2017  \n",
       "3                   22.2578                     67  07/01/2014  06/30/2017  \n",
       "5                   17.4459                     47  07/01/2014  06/30/2017  \n",
       "8                   17.9630          Not Available  07/01/2014  06/30/2017  \n",
       "9                   20.2355                     13  07/01/2014  06/30/2017  "
      ]
     },
     "execution_count": 8,
     "metadata": {},
     "output_type": "execute_result"
    }
   ],
   "source": [
    "hosp2.head()"
   ]
  },
  {
   "cell_type": "code",
   "execution_count": 9,
   "metadata": {},
   "outputs": [
    {
     "ename": "NameError",
     "evalue": "name 'plt' is not defined",
     "output_type": "error",
     "traceback": [
      "\u001b[1;31m---------------------------------------------------------------------------\u001b[0m",
      "\u001b[1;31mNameError\u001b[0m                                 Traceback (most recent call last)",
      "\u001b[1;32m<ipython-input-9-e5f377cefe99>\u001b[0m in \u001b[0;36m<module>\u001b[1;34m\u001b[0m\n\u001b[1;32m----> 1\u001b[1;33m \u001b[0mfig\u001b[0m\u001b[1;33m,\u001b[0m \u001b[0max\u001b[0m \u001b[1;33m=\u001b[0m \u001b[0mplt\u001b[0m\u001b[1;33m.\u001b[0m\u001b[0msubplots\u001b[0m\u001b[1;33m(\u001b[0m\u001b[1;33m)\u001b[0m\u001b[1;33m\u001b[0m\u001b[1;33m\u001b[0m\u001b[0m\n\u001b[0m\u001b[0;32m      2\u001b[0m \u001b[0max\u001b[0m\u001b[1;33m.\u001b[0m\u001b[0mbar\u001b[0m\u001b[1;33m(\u001b[0m\u001b[1;33m)\u001b[0m\u001b[1;33m\u001b[0m\u001b[1;33m\u001b[0m\u001b[0m\n",
      "\u001b[1;31mNameError\u001b[0m: name 'plt' is not defined"
     ]
    }
   ],
   "source": [
    "fig, ax = plt.subplots()\n",
    "ax.bar()"
   ]
  },
  {
   "cell_type": "code",
   "execution_count": null,
   "metadata": {},
   "outputs": [],
   "source": [
    "hosp2[\"State\"].value_counts().plot(kind=\"bar\", figsize=(20,10))"
   ]
  },
  {
   "cell_type": "code",
   "execution_count": null,
   "metadata": {},
   "outputs": [],
   "source": [
    "grouped = hosp2.groupby(\"State\")\n",
    "grouped.head()"
   ]
  },
  {
   "cell_type": "code",
   "execution_count": 10,
   "metadata": {},
   "outputs": [],
   "source": [
    "#hosp2.plot(kind=\"bar\", x='State',y='Excess Readmission Ratio',  figsize=(20,10))"
   ]
  },
  {
   "cell_type": "code",
   "execution_count": 11,
   "metadata": {},
   "outputs": [
    {
     "data": {
      "text/html": [
       "<div>\n",
       "<style scoped>\n",
       "    .dataframe tbody tr th:only-of-type {\n",
       "        vertical-align: middle;\n",
       "    }\n",
       "\n",
       "    .dataframe tbody tr th {\n",
       "        vertical-align: top;\n",
       "    }\n",
       "\n",
       "    .dataframe thead th {\n",
       "        text-align: right;\n",
       "    }\n",
       "</style>\n",
       "<table border=\"1\" class=\"dataframe\">\n",
       "  <thead>\n",
       "    <tr style=\"text-align: right;\">\n",
       "      <th></th>\n",
       "      <th>State</th>\n",
       "      <th>Excess Readmission Ratio</th>\n",
       "    </tr>\n",
       "  </thead>\n",
       "  <tbody>\n",
       "    <tr>\n",
       "      <th>2</th>\n",
       "      <td>LA</td>\n",
       "      <td>1.0195</td>\n",
       "    </tr>\n",
       "    <tr>\n",
       "      <th>3</th>\n",
       "      <td>LA</td>\n",
       "      <td>1.0773</td>\n",
       "    </tr>\n",
       "    <tr>\n",
       "      <th>5</th>\n",
       "      <td>LA</td>\n",
       "      <td>1.1031</td>\n",
       "    </tr>\n",
       "    <tr>\n",
       "      <th>8</th>\n",
       "      <td>MN</td>\n",
       "      <td>1.0024</td>\n",
       "    </tr>\n",
       "    <tr>\n",
       "      <th>9</th>\n",
       "      <td>MN</td>\n",
       "      <td>0.9726</td>\n",
       "    </tr>\n",
       "  </tbody>\n",
       "</table>\n",
       "</div>"
      ],
      "text/plain": [
       "  State  Excess Readmission Ratio\n",
       "2    LA                    1.0195\n",
       "3    LA                    1.0773\n",
       "5    LA                    1.1031\n",
       "8    MN                    1.0024\n",
       "9    MN                    0.9726"
      ]
     },
     "execution_count": 11,
     "metadata": {},
     "output_type": "execute_result"
    }
   ],
   "source": [
    "hosp3 = hosp2[[\"State\", \"Excess Readmission Ratio\"]]\n",
    "hosp3.head()"
   ]
  },
  {
   "cell_type": "code",
   "execution_count": 12,
   "metadata": {},
   "outputs": [
    {
     "data": {
      "text/html": [
       "<div>\n",
       "<style scoped>\n",
       "    .dataframe tbody tr th:only-of-type {\n",
       "        vertical-align: middle;\n",
       "    }\n",
       "\n",
       "    .dataframe tbody tr th {\n",
       "        vertical-align: top;\n",
       "    }\n",
       "\n",
       "    .dataframe thead th {\n",
       "        text-align: right;\n",
       "    }\n",
       "</style>\n",
       "<table border=\"1\" class=\"dataframe\">\n",
       "  <thead>\n",
       "    <tr style=\"text-align: right;\">\n",
       "      <th></th>\n",
       "      <th>Excess Readmission Ratio</th>\n",
       "    </tr>\n",
       "    <tr>\n",
       "      <th>State</th>\n",
       "      <th></th>\n",
       "    </tr>\n",
       "  </thead>\n",
       "  <tbody>\n",
       "    <tr>\n",
       "      <th>AK</th>\n",
       "      <td>0.956058</td>\n",
       "    </tr>\n",
       "    <tr>\n",
       "      <th>AL</th>\n",
       "      <td>1.018150</td>\n",
       "    </tr>\n",
       "    <tr>\n",
       "      <th>AR</th>\n",
       "      <td>1.023103</td>\n",
       "    </tr>\n",
       "    <tr>\n",
       "      <th>AZ</th>\n",
       "      <td>0.983623</td>\n",
       "    </tr>\n",
       "    <tr>\n",
       "      <th>CA</th>\n",
       "      <td>1.003880</td>\n",
       "    </tr>\n",
       "  </tbody>\n",
       "</table>\n",
       "</div>"
      ],
      "text/plain": [
       "       Excess Readmission Ratio\n",
       "State                          \n",
       "AK                     0.956058\n",
       "AL                     1.018150\n",
       "AR                     1.023103\n",
       "AZ                     0.983623\n",
       "CA                     1.003880"
      ]
     },
     "execution_count": 12,
     "metadata": {},
     "output_type": "execute_result"
    }
   ],
   "source": [
    "hosp4 = hosp3.groupby('State').mean()\n",
    "hosp4.head()"
   ]
  },
  {
   "cell_type": "code",
   "execution_count": 13,
   "metadata": {},
   "outputs": [],
   "source": [
    "hosp4.to_csv(\"../data/output/AverageReadmissionRatioByState.csv\")"
   ]
  },
  {
   "cell_type": "code",
   "execution_count": 14,
   "metadata": {},
   "outputs": [
    {
     "data": {
      "text/plain": [
       "(51, 1)"
      ]
     },
     "execution_count": 14,
     "metadata": {},
     "output_type": "execute_result"
    }
   ],
   "source": [
    "hosp4.shape"
   ]
  },
  {
   "cell_type": "code",
   "execution_count": 15,
   "metadata": {},
   "outputs": [
    {
     "data": {
      "text/html": [
       "<div>\n",
       "<style scoped>\n",
       "    .dataframe tbody tr th:only-of-type {\n",
       "        vertical-align: middle;\n",
       "    }\n",
       "\n",
       "    .dataframe tbody tr th {\n",
       "        vertical-align: top;\n",
       "    }\n",
       "\n",
       "    .dataframe thead th {\n",
       "        text-align: right;\n",
       "    }\n",
       "</style>\n",
       "<table border=\"1\" class=\"dataframe\">\n",
       "  <thead>\n",
       "    <tr style=\"text-align: right;\">\n",
       "      <th></th>\n",
       "      <th>Excess Readmission Ratio</th>\n",
       "    </tr>\n",
       "  </thead>\n",
       "  <tbody>\n",
       "    <tr>\n",
       "      <th>count</th>\n",
       "      <td>51.000000</td>\n",
       "    </tr>\n",
       "    <tr>\n",
       "      <th>mean</th>\n",
       "      <td>0.991212</td>\n",
       "    </tr>\n",
       "    <tr>\n",
       "      <th>std</th>\n",
       "      <td>0.029532</td>\n",
       "    </tr>\n",
       "    <tr>\n",
       "      <th>min</th>\n",
       "      <td>0.919639</td>\n",
       "    </tr>\n",
       "    <tr>\n",
       "      <th>25%</th>\n",
       "      <td>0.967446</td>\n",
       "    </tr>\n",
       "    <tr>\n",
       "      <th>50%</th>\n",
       "      <td>0.997538</td>\n",
       "    </tr>\n",
       "    <tr>\n",
       "      <th>75%</th>\n",
       "      <td>1.010593</td>\n",
       "    </tr>\n",
       "    <tr>\n",
       "      <th>max</th>\n",
       "      <td>1.037059</td>\n",
       "    </tr>\n",
       "  </tbody>\n",
       "</table>\n",
       "</div>"
      ],
      "text/plain": [
       "       Excess Readmission Ratio\n",
       "count                 51.000000\n",
       "mean                   0.991212\n",
       "std                    0.029532\n",
       "min                    0.919639\n",
       "25%                    0.967446\n",
       "50%                    0.997538\n",
       "75%                    1.010593\n",
       "max                    1.037059"
      ]
     },
     "execution_count": 15,
     "metadata": {},
     "output_type": "execute_result"
    }
   ],
   "source": [
    "hosp4.describe()"
   ]
  },
  {
   "cell_type": "code",
   "execution_count": 16,
   "metadata": {},
   "outputs": [
    {
     "data": {
      "text/plain": [
       "<matplotlib.axes._subplots.AxesSubplot at 0x248e6e52fd0>"
      ]
     },
     "execution_count": 16,
     "metadata": {},
     "output_type": "execute_result"
    },
    {
     "data": {
      "image/png": "[encoded data removed]",
      "text/plain": [
       "<Figure size 432x288 with 1 Axes>"
      ]
     },
     "metadata": {
      "needs_background": "light"
     },
     "output_type": "display_data"
    }
   ],
   "source": [
    "hosp4.plot(kind=\"hist\", bins=51)"
   ]
  },
  {
   "cell_type": "code",
   "execution_count": null,
   "metadata": {},
   "outputs": [],
   "source": []
  },
  {
   "cell_type": "code",
   "execution_count": null,
   "metadata": {},
   "outputs": [],
   "source": []
  },
  {
   "cell_type": "code",
   "execution_count": null,
   "metadata": {},
   "outputs": [],
   "source": []
  }
 ],
 "metadata": {
  "kernelspec": {
   "display_name": "Python 3",
   "language": "python",
   "name": "python3"
  },
  "language_info": {
   "codemirror_mode": {
    "name": "ipython",
    "version": 3
   },
   "file_extension": ".py",
   "mimetype": "text/x-python",
   "name": "python",
   "nbconvert_exporter": "python",
   "pygments_lexer": "ipython3",
   "version": "3.7.3"
  }
 },
 "nbformat": 4,
 "nbformat_minor": 2
}
